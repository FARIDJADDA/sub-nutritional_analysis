{
 "cells": [
  {
   "cell_type": "markdown",
   "id": "e1d0c65f-f86f-454e-847f-2999584e9689",
   "metadata": {},
   "source": [
    "<a id=\"sommaire\"></a>\n",
    "### Table of Contents\n",
    "\n",
    "* [Requete 1 La proportion de personnes en état de sous-nutrition pour l'année 2017.](#requete1)\n",
    "    * [Filtre du dataframe ```Population``` 1.1](#requete_1_1)\n",
    "        * [Création dataframe ```Population ``` 1.1.2](#requete_1_1_2)\n",
    "        * [Filtre de la zone et la valeur pour l'année 2017 1.1.3](#requete_1_1_3)\n",
    "        * [Modifier la colone <span style=\"color:crimson\">Valeur</span> pour que le resultat soit exprimé en unité 1.1.4](#requete_1_1_4)\n",
    "    * [Filtre du dataframe ```Sous-nutrition``` 1.2](#requete_1_2)\n",
    "        * [Création dataframe ```Sous-nutrition``` 1.2.1](#requete_1_2_1)\n",
    "        * [Filtre de la zone et la valeur pour l'année 2017 1.2.2](#requete_1_2_2)\n",
    "        * [Convertir Valeur de Object à Float 1.2.3](#requete_1_2_3)\n",
    "        * [Modifier la colone <span style=\"color:crimson\">Valeur</span> pour que le resultat soit exprimé en unité 1.2.4](#requete_1_2_4)\n",
    "        * [Convertir Valeur de Object à Float 1.2.5](#requete_1_2_5)\n",
    "    * [Le pourcentage de la population en état de sous nutrition dans le monde en 2017 1.3](#requete_1_3)\n",
    "* [Requete 2: Le nombre théorique de personnes qui pourraient être nourries.](#requete2)\n",
    "    * [Création du data frame ```data_dispo_alimentaire(aide alimentaire)```  2.1](#section_2_1)\n",
    "    * [Merge des df ```zone_data_alimentaire``` et ```data_pop_zone_val_2017(population en 2017)``` 2.2](#section_2_2)\n",
    "        * [Shape des tables 2.2.1](#section_2_2_1)\n",
    "        * [Conaitre les valeurs non attribuées dans la merge 2.2.2](#section_2_2_2)\n",
    "        * [Savoir comment est écrit Royaume-Uni et Tchéquie dans la table population en 2017 2.2.3](#section_2_2_3)\n",
    "        * [Reset l'index dans le df dispo alimentaire et remplacer les deux pays par la bonne orthographe 2.2.4](#section_2_2_4)\n",
    "        * [Création de la colone <span style=\"color:crimson\">Disponibilité alimentaire (Kcal/jour)</span> 2.2.5](#section_2_2_5)\n",
    "        * [Création de la colone <span style=\"color:crimson\">Population totale par pays pouvant etre nourri</span> 2.2.6](#section_2_2_6)\n",
    "    * [Résultat du nombre théorique de personnes pouvant etre nourri 2.3](#section_2_3)\n",
    "    * [Resulat en pourcentage 2.4](#section_2_4)\n",
    "* [Requete 3: Disponibilité alimentaire des produits végétaux.](#requete3)\n",
    "    * [Filtre par Origine vegetale du df ``` data_dispo_alimentaire```  3.1](#section_3_1)\n",
    "        * [Shape des tables 2.2.1](#section_3_1_1)\n",
    "    * [Merge des df ```data_dispo_alimentaire_vegetale_zone``` et ```data_pop_zone_val_2017``` 3.2](#section_3_2)\n",
    "        * [Conaitre les valeurs non attribuées dans la merge 3.2.1](#section_3_2_1)\n",
    "        * [Reset l'index du df ```dispo alimentaire``` et remplacer les deux pays par la bonne orthographe 3.2.2](#section_3_2_2)\n",
    "        * [Création de la colone <span style=\"color:crimson\">Disponibilité alimentaire (Kcal/jour)</span> 3.2.3](#section_3_2_3)\n",
    "        * [Création de la colone <span style=\"color:crimson\">Population totale par pays pouvant etre nourri</span> 3.2.4](#section_3_2_4)\n",
    "    * [Résultat du nombre théorique de personnes pouvant etre nourri (origine vegetale) 3.3](#section_3_3)\n",
    "* [Requete 4: L’utilisation de la disponibilité intérieure, en particulier la part qui est attribuée à l’alimentation animale, celle qui est perdue et celle qui est concrètement utilisée pour l'alimentation humaine.](#requete4)\n",
    "    * [Creation de la variable disponibilite intérieur totale: ```disponibilite_int_totale``` 4.1](#section_4_1)\n",
    "    * [Création de la variable disponibilité alimentation animale: ```disponibilite_animale``` 4.2](#section_4_2)\n",
    "    * [Calcule de la part attribuée à l'alimentation animale 4.3](#section_4_3)\n",
    "    * [Calcule de la perte 4.4](#section_4_4)\n",
    "        * [Création de la variable ```perte``` 4.4.1](#section_4_4_1)\n",
    "        * [La part perdue 4.4.2](#section_4_4_2)\n",
    "    * [Calcule de la Disponibilité alimentaire pour l'alimentation humaine 4.5](#section_4_5)\n",
    "        * [Création de la variable disponibilité alimentation pour les humains: ```dispo_alimentaire_humain``` 4.5.1](#section_4_5_1)\n",
    "        * [La part attribuée au humains 4.5.2](#section_4_5_2)\n",
    "    * [Calcule pour savoir si le resultat obtenue est le bon (calcule de la valeur totale) 4.6](#section_4_6)\n",
    "        * [Création de la variable disponibilité pour la semence: ```dispo_semences``` 4.6.1](#section_4_6_1)\n",
    "        * [La part attribuée pour la semence 4.6.2](#section_4_6_2)\n",
    "        * [Calcule de la part attribuée aux traitements 4.6.3](#section_4_6_3)\n",
    "        * [Création de la variable disponibilité pour le traitement: ```dispo_traitement``` 4.6.4](#section_4_6_4)\n",
    "        * [La part attribuée pour la traitement 4.6.5](#section_4_6_5)\n",
    "        * [Calcule de la disponibilité des autres utilisations 4.6.6](#section_4_6_6)\n",
    "        * [Création de la variable disponibilité pour les autres utilisations: ```dispo_autre_utilisation``` 4.6.7](#section_4_6_7)\n",
    "        * [La part attribuée pour les autres utilisations 4.6.8](#section_4_6_8)\n",
    "        * [Calcule de la disponibilité totale 4.6.9](#section_4_6_9)\n",
    "* [Les pays pour lesquels la proportion de personnes sous-alimentées est la plus forte en 2017.](#section5)\n",
    "    * [Nettoyage des données](#section_5_1)\n",
    "    * [Création de la colone <span style=\"color:crimson\">Proportion (%)</span> qui corresponf à la proportion de personnes sous-alimentées dans leur pays respestif ](#section_5_2)\n",
    "    * [Resultat des pays où la sous-alimentation est la plus foorte en 2017](#section_5_3)\n",
    "* [Les 10 pays qui ont le plus bénéficiés d’aide depuis 2013.](#section6)\n",
    "* [Les pays ayant le plus/moins de disponibilité alimentaire.](#section7)\n",
    "* [Bonus.](#section8)\n",
    "* [Question de Julien.](#section9)\n",
    "    * [Logique entre l’ensemble des 10 variables](#section_9_1)\n",
    "        * [Vérification de l'équation 9.1.1](#section_9_1_1)\n",
    "    * [Chiffres intéressants sur l’utilisation des céréales, notamment la répartition entre l’alimentation humaine (colonne Nourriture) et l’alimentation pour animaux (pour l'année 2017). 9.2](#section_9_2)\n",
    "        * [Créatin du dataframe bilans alimentaires pour les céréales: ```data_cereales_2017```. 9.2.1](#section_9_2_1)\n",
    "        * [Répartition des céréales entre l'alimentation pour les humains et celle pour les animaux. 9.2.2](#section_9_2_2)\n",
    "        * [Conclusion. 9.2.3](#section_9_2_3)\n",
    "* [Conclusion finale.](#section10)"
   ]
  },
  {
   "cell_type": "markdown",
   "id": "28beeac9-aa65-4112-86c3-63ad0ab06406",
   "metadata": {
    "tags": []
   },
   "source": [
    "### Importing the required libraries"
   ]
  },
  {
   "cell_type": "code",
   "execution_count": 1,
   "id": "fe79e19e-40d0-46f8-8e59-7888c266a357",
   "metadata": {},
   "outputs": [],
   "source": [
    "import numpy as np\n",
    "import pandas as pd\n",
    "import re\n",
    "import matplotlib.pyplot as plt\n",
    "import seaborn as sns"
   ]
  },
  {
   "cell_type": "code",
   "execution_count": 2,
   "id": "d9d20072-0a17-4622-b1be-16b5c64567d9",
   "metadata": {},
   "outputs": [],
   "source": [
    "# Fonction utile\n",
    "# Fonction qui permet de rechercher dans une table un pays en particulier\n",
    "# appel de la fonction => find_substring_on_table(nom_de_la_table, 'substring_du_pays')\n",
    "def find_substring_on_table(table,substring):\n",
    "    return table[table.apply(lambda row: row.astype(str).str.contains(substring, case=False).any(), axis=1)]"
   ]
  },
  {
   "cell_type": "markdown",
   "id": "f4851715-be45-437a-91e9-43ec00611cb8",
   "metadata": {
    "tags": []
   },
   "source": [
    "### Requete 1: La proportion de personnes en état de sous-nutrition pour l'année 2017.<a class=\"anchor\" id=\"requete1\"></a>\n",
    "[Retour au sommaire](#sommaire)"
   ]
  },
  {
   "cell_type": "markdown",
   "id": "494fdbb6-a994-45fd-9b1a-6d23592aa0ff",
   "metadata": {
    "tags": []
   },
   "source": [
    "#### Filtre du dataframe ```Population``` 1.1 <a class=\"anchor\" id=\"requete_1_1\"></a>"
   ]
  },
  {
   "cell_type": "markdown",
   "id": "c6bd9a25-73b0-4942-b350-99613c1a5b6e",
   "metadata": {
    "tags": []
   },
   "source": [
    "##### Création dataframe ```Population ``` 1.1.2 <a class=\"anchor\" id=\"requete_1_1_2\"></a>"
   ]
  },
  {
   "cell_type": "code",
   "execution_count": 3,
   "id": "d3cf6872-1ffe-4a15-a4ef-3bc8d90c6c23",
   "metadata": {},
   "outputs": [
    {
     "data": {
      "text/html": [
       "<div>\n",
       "<style scoped>\n",
       "    .dataframe tbody tr th:only-of-type {\n",
       "        vertical-align: middle;\n",
       "    }\n",
       "\n",
       "    .dataframe tbody tr th {\n",
       "        vertical-align: top;\n",
       "    }\n",
       "\n",
       "    .dataframe thead th {\n",
       "        text-align: right;\n",
       "    }\n",
       "</style>\n",
       "<table border=\"1\" class=\"dataframe\">\n",
       "  <thead>\n",
       "    <tr style=\"text-align: right;\">\n",
       "      <th></th>\n",
       "      <th>Zone</th>\n",
       "      <th>Année</th>\n",
       "      <th>Valeur</th>\n",
       "    </tr>\n",
       "  </thead>\n",
       "  <tbody>\n",
       "    <tr>\n",
       "      <th>0</th>\n",
       "      <td>Afghanistan</td>\n",
       "      <td>2013</td>\n",
       "      <td>32269.589</td>\n",
       "    </tr>\n",
       "    <tr>\n",
       "      <th>1</th>\n",
       "      <td>Afghanistan</td>\n",
       "      <td>2014</td>\n",
       "      <td>33370.794</td>\n",
       "    </tr>\n",
       "    <tr>\n",
       "      <th>2</th>\n",
       "      <td>Afghanistan</td>\n",
       "      <td>2015</td>\n",
       "      <td>34413.603</td>\n",
       "    </tr>\n",
       "    <tr>\n",
       "      <th>3</th>\n",
       "      <td>Afghanistan</td>\n",
       "      <td>2016</td>\n",
       "      <td>35383.032</td>\n",
       "    </tr>\n",
       "    <tr>\n",
       "      <th>4</th>\n",
       "      <td>Afghanistan</td>\n",
       "      <td>2017</td>\n",
       "      <td>36296.113</td>\n",
       "    </tr>\n",
       "    <tr>\n",
       "      <th>5</th>\n",
       "      <td>Afghanistan</td>\n",
       "      <td>2018</td>\n",
       "      <td>37171.921</td>\n",
       "    </tr>\n",
       "    <tr>\n",
       "      <th>6</th>\n",
       "      <td>Afrique du Sud</td>\n",
       "      <td>2013</td>\n",
       "      <td>53687.121</td>\n",
       "    </tr>\n",
       "    <tr>\n",
       "      <th>7</th>\n",
       "      <td>Afrique du Sud</td>\n",
       "      <td>2014</td>\n",
       "      <td>54544.186</td>\n",
       "    </tr>\n",
       "    <tr>\n",
       "      <th>8</th>\n",
       "      <td>Afrique du Sud</td>\n",
       "      <td>2015</td>\n",
       "      <td>55386.367</td>\n",
       "    </tr>\n",
       "    <tr>\n",
       "      <th>9</th>\n",
       "      <td>Afrique du Sud</td>\n",
       "      <td>2016</td>\n",
       "      <td>56207.646</td>\n",
       "    </tr>\n",
       "  </tbody>\n",
       "</table>\n",
       "</div>"
      ],
      "text/plain": [
       "             Zone  Année     Valeur\n",
       "0     Afghanistan   2013  32269.589\n",
       "1     Afghanistan   2014  33370.794\n",
       "2     Afghanistan   2015  34413.603\n",
       "3     Afghanistan   2016  35383.032\n",
       "4     Afghanistan   2017  36296.113\n",
       "5     Afghanistan   2018  37171.921\n",
       "6  Afrique du Sud   2013  53687.121\n",
       "7  Afrique du Sud   2014  54544.186\n",
       "8  Afrique du Sud   2015  55386.367\n",
       "9  Afrique du Sud   2016  56207.646"
      ]
     },
     "execution_count": 3,
     "metadata": {},
     "output_type": "execute_result"
    }
   ],
   "source": [
    "data_population = pd.read_csv('population.csv')\n",
    "data_population.head(10)"
   ]
  },
  {
   "cell_type": "code",
   "execution_count": 4,
   "id": "9552351a-d2cd-4738-803b-bfdad7e3a0d6",
   "metadata": {},
   "outputs": [
    {
     "data": {
      "text/plain": [
       "Zone       object\n",
       "Année       int64\n",
       "Valeur    float64\n",
       "dtype: object"
      ]
     },
     "execution_count": 4,
     "metadata": {},
     "output_type": "execute_result"
    }
   ],
   "source": [
    "data_population.dtypes"
   ]
  },
  {
   "cell_type": "markdown",
   "id": "13a20a34-0533-4916-98db-7a3c2006823c",
   "metadata": {
    "tags": []
   },
   "source": [
    "##### Filtre de la zone et la valeur pour l'année 2017 1.1.3 <a class=\"anchor\" id=\"requete_1_1_3\"></a>"
   ]
  },
  {
   "cell_type": "code",
   "execution_count": 5,
   "id": "bde3bd8b-39ad-418f-b850-09334f11f72f",
   "metadata": {},
   "outputs": [
    {
     "data": {
      "text/html": [
       "<div>\n",
       "<style scoped>\n",
       "    .dataframe tbody tr th:only-of-type {\n",
       "        vertical-align: middle;\n",
       "    }\n",
       "\n",
       "    .dataframe tbody tr th {\n",
       "        vertical-align: top;\n",
       "    }\n",
       "\n",
       "    .dataframe thead th {\n",
       "        text-align: right;\n",
       "    }\n",
       "</style>\n",
       "<table border=\"1\" class=\"dataframe\">\n",
       "  <thead>\n",
       "    <tr style=\"text-align: right;\">\n",
       "      <th></th>\n",
       "      <th>Zone</th>\n",
       "      <th>Valeur</th>\n",
       "    </tr>\n",
       "  </thead>\n",
       "  <tbody>\n",
       "    <tr>\n",
       "      <th>4</th>\n",
       "      <td>Afghanistan</td>\n",
       "      <td>36296.113</td>\n",
       "    </tr>\n",
       "    <tr>\n",
       "      <th>10</th>\n",
       "      <td>Afrique du Sud</td>\n",
       "      <td>57009.756</td>\n",
       "    </tr>\n",
       "    <tr>\n",
       "      <th>16</th>\n",
       "      <td>Albanie</td>\n",
       "      <td>2884.169</td>\n",
       "    </tr>\n",
       "    <tr>\n",
       "      <th>22</th>\n",
       "      <td>Algérie</td>\n",
       "      <td>41389.189</td>\n",
       "    </tr>\n",
       "    <tr>\n",
       "      <th>28</th>\n",
       "      <td>Allemagne</td>\n",
       "      <td>82658.409</td>\n",
       "    </tr>\n",
       "  </tbody>\n",
       "</table>\n",
       "</div>"
      ],
      "text/plain": [
       "              Zone     Valeur\n",
       "4      Afghanistan  36296.113\n",
       "10  Afrique du Sud  57009.756\n",
       "16         Albanie   2884.169\n",
       "22         Algérie  41389.189\n",
       "28       Allemagne  82658.409"
      ]
     },
     "execution_count": 5,
     "metadata": {},
     "output_type": "execute_result"
    }
   ],
   "source": [
    "data_pop_zone_val_2017 = data_population.loc[data_population['Année'] == 2017, ['Zone', 'Valeur']]\n",
    "data_pop_zone_val_2017.head()"
   ]
  },
  {
   "cell_type": "markdown",
   "id": "74be2a53-c356-41e5-a21f-664872b4b44d",
   "metadata": {
    "tags": []
   },
   "source": [
    "##### Modifier la colone <span style=\"color:crimson\">Valeur</span> pour que le resultat soit exprimé en unité 1.1.4 <a class=\"anchor\" id=\"requete_1_1_4\"></a>"
   ]
  },
  {
   "cell_type": "code",
   "execution_count": 6,
   "id": "f76eac33-8a18-4e31-94d9-d058563d3529",
   "metadata": {},
   "outputs": [
    {
     "data": {
      "text/html": [
       "<div>\n",
       "<style scoped>\n",
       "    .dataframe tbody tr th:only-of-type {\n",
       "        vertical-align: middle;\n",
       "    }\n",
       "\n",
       "    .dataframe tbody tr th {\n",
       "        vertical-align: top;\n",
       "    }\n",
       "\n",
       "    .dataframe thead th {\n",
       "        text-align: right;\n",
       "    }\n",
       "</style>\n",
       "<table border=\"1\" class=\"dataframe\">\n",
       "  <thead>\n",
       "    <tr style=\"text-align: right;\">\n",
       "      <th></th>\n",
       "      <th>Zone</th>\n",
       "      <th>Valeur</th>\n",
       "    </tr>\n",
       "  </thead>\n",
       "  <tbody>\n",
       "    <tr>\n",
       "      <th>4</th>\n",
       "      <td>Afghanistan</td>\n",
       "      <td>36296113.0</td>\n",
       "    </tr>\n",
       "    <tr>\n",
       "      <th>10</th>\n",
       "      <td>Afrique du Sud</td>\n",
       "      <td>57009756.0</td>\n",
       "    </tr>\n",
       "    <tr>\n",
       "      <th>16</th>\n",
       "      <td>Albanie</td>\n",
       "      <td>2884169.0</td>\n",
       "    </tr>\n",
       "    <tr>\n",
       "      <th>22</th>\n",
       "      <td>Algérie</td>\n",
       "      <td>41389189.0</td>\n",
       "    </tr>\n",
       "    <tr>\n",
       "      <th>28</th>\n",
       "      <td>Allemagne</td>\n",
       "      <td>82658409.0</td>\n",
       "    </tr>\n",
       "  </tbody>\n",
       "</table>\n",
       "</div>"
      ],
      "text/plain": [
       "              Zone      Valeur\n",
       "4      Afghanistan  36296113.0\n",
       "10  Afrique du Sud  57009756.0\n",
       "16         Albanie   2884169.0\n",
       "22         Algérie  41389189.0\n",
       "28       Allemagne  82658409.0"
      ]
     },
     "execution_count": 6,
     "metadata": {},
     "output_type": "execute_result"
    }
   ],
   "source": [
    "data_pop_zone_val_2017['Valeur'] = data_population.iloc[: , 2].mul(1000)\n",
    "data_pop_zone_val_2017.head()"
   ]
  },
  {
   "cell_type": "markdown",
   "id": "57614cff-2e89-4162-bc07-14f39b4d2ec9",
   "metadata": {
    "tags": []
   },
   "source": [
    "#### Filtre du dataframe Sous Nutrition 1.2 <a class=\"anchor\" id=\"requete_1_2\"></a>"
   ]
  },
  {
   "cell_type": "markdown",
   "id": "3c6da4c5-ac0c-46f2-a843-442cfe415b66",
   "metadata": {
    "tags": []
   },
   "source": [
    "##### Création dataframe ```data_sn(data sous_nutrition)``` 1.2.1 <a class=\"anchor\" id=\"requete_1_2_1\"></a>"
   ]
  },
  {
   "cell_type": "code",
   "execution_count": 7,
   "id": "d7631405-aecc-48e3-9f01-96e474355afe",
   "metadata": {},
   "outputs": [
    {
     "data": {
      "text/html": [
       "<div>\n",
       "<style scoped>\n",
       "    .dataframe tbody tr th:only-of-type {\n",
       "        vertical-align: middle;\n",
       "    }\n",
       "\n",
       "    .dataframe tbody tr th {\n",
       "        vertical-align: top;\n",
       "    }\n",
       "\n",
       "    .dataframe thead th {\n",
       "        text-align: right;\n",
       "    }\n",
       "</style>\n",
       "<table border=\"1\" class=\"dataframe\">\n",
       "  <thead>\n",
       "    <tr style=\"text-align: right;\">\n",
       "      <th></th>\n",
       "      <th>Zone</th>\n",
       "      <th>Année</th>\n",
       "      <th>Valeur</th>\n",
       "    </tr>\n",
       "  </thead>\n",
       "  <tbody>\n",
       "    <tr>\n",
       "      <th>0</th>\n",
       "      <td>Afghanistan</td>\n",
       "      <td>2012-2014</td>\n",
       "      <td>8.6</td>\n",
       "    </tr>\n",
       "    <tr>\n",
       "      <th>1</th>\n",
       "      <td>Afghanistan</td>\n",
       "      <td>2013-2015</td>\n",
       "      <td>8.8</td>\n",
       "    </tr>\n",
       "    <tr>\n",
       "      <th>2</th>\n",
       "      <td>Afghanistan</td>\n",
       "      <td>2014-2016</td>\n",
       "      <td>8.9</td>\n",
       "    </tr>\n",
       "    <tr>\n",
       "      <th>3</th>\n",
       "      <td>Afghanistan</td>\n",
       "      <td>2015-2017</td>\n",
       "      <td>9.7</td>\n",
       "    </tr>\n",
       "    <tr>\n",
       "      <th>4</th>\n",
       "      <td>Afghanistan</td>\n",
       "      <td>2016-2018</td>\n",
       "      <td>10.5</td>\n",
       "    </tr>\n",
       "    <tr>\n",
       "      <th>5</th>\n",
       "      <td>Afghanistan</td>\n",
       "      <td>2017-2019</td>\n",
       "      <td>11.1</td>\n",
       "    </tr>\n",
       "    <tr>\n",
       "      <th>6</th>\n",
       "      <td>Afrique du Sud</td>\n",
       "      <td>2012-2014</td>\n",
       "      <td>2.2</td>\n",
       "    </tr>\n",
       "    <tr>\n",
       "      <th>7</th>\n",
       "      <td>Afrique du Sud</td>\n",
       "      <td>2013-2015</td>\n",
       "      <td>2.5</td>\n",
       "    </tr>\n",
       "    <tr>\n",
       "      <th>8</th>\n",
       "      <td>Afrique du Sud</td>\n",
       "      <td>2014-2016</td>\n",
       "      <td>2.8</td>\n",
       "    </tr>\n",
       "    <tr>\n",
       "      <th>9</th>\n",
       "      <td>Afrique du Sud</td>\n",
       "      <td>2015-2017</td>\n",
       "      <td>3</td>\n",
       "    </tr>\n",
       "  </tbody>\n",
       "</table>\n",
       "</div>"
      ],
      "text/plain": [
       "             Zone      Année Valeur\n",
       "0     Afghanistan  2012-2014    8.6\n",
       "1     Afghanistan  2013-2015    8.8\n",
       "2     Afghanistan  2014-2016    8.9\n",
       "3     Afghanistan  2015-2017    9.7\n",
       "4     Afghanistan  2016-2018   10.5\n",
       "5     Afghanistan  2017-2019   11.1\n",
       "6  Afrique du Sud  2012-2014    2.2\n",
       "7  Afrique du Sud  2013-2015    2.5\n",
       "8  Afrique du Sud  2014-2016    2.8\n",
       "9  Afrique du Sud  2015-2017      3"
      ]
     },
     "execution_count": 7,
     "metadata": {},
     "output_type": "execute_result"
    }
   ],
   "source": [
    "data_sn = pd.read_csv('sous_nutrition.csv')\n",
    "data_sn.head(10)"
   ]
  },
  {
   "cell_type": "code",
   "execution_count": 8,
   "id": "fe9804e0-d322-41d4-b61a-ffa564461853",
   "metadata": {},
   "outputs": [
    {
     "data": {
      "text/plain": [
       "Zone      object\n",
       "Année     object\n",
       "Valeur    object\n",
       "dtype: object"
      ]
     },
     "execution_count": 8,
     "metadata": {},
     "output_type": "execute_result"
    }
   ],
   "source": [
    "data_sn.dtypes"
   ]
  },
  {
   "cell_type": "markdown",
   "id": "a2312af1-2a7d-4659-8a02-91d975b316bc",
   "metadata": {
    "tags": []
   },
   "source": [
    "##### Filtre de la zone et la valeur pour l'année 2017 1.2.2 <a class=\"anchor\" id=\"requete_1_2_2\"></a>"
   ]
  },
  {
   "cell_type": "code",
   "execution_count": 9,
   "id": "3c504d0d-c2bb-4e79-979b-3cef583ab33a",
   "metadata": {},
   "outputs": [
    {
     "data": {
      "text/html": [
       "<div>\n",
       "<style scoped>\n",
       "    .dataframe tbody tr th:only-of-type {\n",
       "        vertical-align: middle;\n",
       "    }\n",
       "\n",
       "    .dataframe tbody tr th {\n",
       "        vertical-align: top;\n",
       "    }\n",
       "\n",
       "    .dataframe thead th {\n",
       "        text-align: right;\n",
       "    }\n",
       "</style>\n",
       "<table border=\"1\" class=\"dataframe\">\n",
       "  <thead>\n",
       "    <tr style=\"text-align: right;\">\n",
       "      <th></th>\n",
       "      <th>Zone</th>\n",
       "      <th>Valeur</th>\n",
       "    </tr>\n",
       "  </thead>\n",
       "  <tbody>\n",
       "    <tr>\n",
       "      <th>4</th>\n",
       "      <td>Afghanistan</td>\n",
       "      <td>10.5</td>\n",
       "    </tr>\n",
       "    <tr>\n",
       "      <th>10</th>\n",
       "      <td>Afrique du Sud</td>\n",
       "      <td>3.1</td>\n",
       "    </tr>\n",
       "    <tr>\n",
       "      <th>16</th>\n",
       "      <td>Albanie</td>\n",
       "      <td>0.1</td>\n",
       "    </tr>\n",
       "    <tr>\n",
       "      <th>22</th>\n",
       "      <td>Algérie</td>\n",
       "      <td>1.3</td>\n",
       "    </tr>\n",
       "    <tr>\n",
       "      <th>28</th>\n",
       "      <td>Allemagne</td>\n",
       "      <td>NaN</td>\n",
       "    </tr>\n",
       "    <tr>\n",
       "      <th>34</th>\n",
       "      <td>Andorre</td>\n",
       "      <td>NaN</td>\n",
       "    </tr>\n",
       "    <tr>\n",
       "      <th>40</th>\n",
       "      <td>Angola</td>\n",
       "      <td>5.8</td>\n",
       "    </tr>\n",
       "    <tr>\n",
       "      <th>46</th>\n",
       "      <td>Antigua-et-Barbuda</td>\n",
       "      <td>NaN</td>\n",
       "    </tr>\n",
       "    <tr>\n",
       "      <th>52</th>\n",
       "      <td>Arabie saoudite</td>\n",
       "      <td>1.6</td>\n",
       "    </tr>\n",
       "    <tr>\n",
       "      <th>58</th>\n",
       "      <td>Argentine</td>\n",
       "      <td>1.5</td>\n",
       "    </tr>\n",
       "  </tbody>\n",
       "</table>\n",
       "</div>"
      ],
      "text/plain": [
       "                  Zone Valeur\n",
       "4          Afghanistan   10.5\n",
       "10      Afrique du Sud    3.1\n",
       "16             Albanie    0.1\n",
       "22             Algérie    1.3\n",
       "28           Allemagne    NaN\n",
       "34             Andorre    NaN\n",
       "40              Angola    5.8\n",
       "46  Antigua-et-Barbuda    NaN\n",
       "52     Arabie saoudite    1.6\n",
       "58           Argentine    1.5"
      ]
     },
     "execution_count": 9,
     "metadata": {},
     "output_type": "execute_result"
    }
   ],
   "source": [
    "data_sn_zone_val_2017 = data_sn.loc[data_sn['Année'] == '2016-2018', ['Zone', 'Valeur']]\n",
    "data_sn_zone_val_2017.head(10)"
   ]
  },
  {
   "cell_type": "markdown",
   "id": "e9f52494-8eed-44fc-842d-96f2ad439bef",
   "metadata": {
    "tags": []
   },
   "source": [
    "##### Convertir Valeur de Object à Float 1.2.3 <a class=\"anchor\" id=\"requete_1_2_3\"></a>"
   ]
  },
  {
   "cell_type": "code",
   "execution_count": 10,
   "id": "48df8994-0b46-40d6-81a1-e00f7a81b4a6",
   "metadata": {},
   "outputs": [
    {
     "name": "stdout",
     "output_type": "stream",
     "text": [
      "<class 'pandas.core.frame.DataFrame'>\n",
      "Int64Index: 203 entries, 4 to 1216\n",
      "Data columns (total 2 columns):\n",
      " #   Column  Non-Null Count  Dtype  \n",
      "---  ------  --------------  -----  \n",
      " 0   Zone    203 non-null    object \n",
      " 1   Valeur  84 non-null     float64\n",
      "dtypes: float64(1), object(1)\n",
      "memory usage: 4.8+ KB\n"
     ]
    }
   ],
   "source": [
    "data_sn_zone_val_2017['Valeur'] = pd.to_numeric(data_sn_zone_val_2017['Valeur'], errors='coerce')\n",
    "data_sn_zone_val_2017.info()"
   ]
  },
  {
   "cell_type": "markdown",
   "id": "9d782399-136f-4205-8188-c8f0f2bc8cf0",
   "metadata": {
    "tags": []
   },
   "source": [
    "##### Modifier la colone <span style=\"color:crimson\">Valeur</span> pour que le resultat soit exprimé en unité 1.2.4 <a class=\"anchor\" id=\"requete_1_2_4\"></a>"
   ]
  },
  {
   "cell_type": "code",
   "execution_count": 11,
   "id": "80e2f1f8-0b81-4d64-95bc-8c53a2c5fad8",
   "metadata": {},
   "outputs": [
    {
     "data": {
      "text/html": [
       "<div>\n",
       "<style scoped>\n",
       "    .dataframe tbody tr th:only-of-type {\n",
       "        vertical-align: middle;\n",
       "    }\n",
       "\n",
       "    .dataframe tbody tr th {\n",
       "        vertical-align: top;\n",
       "    }\n",
       "\n",
       "    .dataframe thead th {\n",
       "        text-align: right;\n",
       "    }\n",
       "</style>\n",
       "<table border=\"1\" class=\"dataframe\">\n",
       "  <thead>\n",
       "    <tr style=\"text-align: right;\">\n",
       "      <th></th>\n",
       "      <th>Zone</th>\n",
       "      <th>Valeur</th>\n",
       "    </tr>\n",
       "  </thead>\n",
       "  <tbody>\n",
       "    <tr>\n",
       "      <th>4</th>\n",
       "      <td>Afghanistan</td>\n",
       "      <td>10500000.0</td>\n",
       "    </tr>\n",
       "    <tr>\n",
       "      <th>10</th>\n",
       "      <td>Afrique du Sud</td>\n",
       "      <td>3100000.0</td>\n",
       "    </tr>\n",
       "    <tr>\n",
       "      <th>16</th>\n",
       "      <td>Albanie</td>\n",
       "      <td>100000.0</td>\n",
       "    </tr>\n",
       "    <tr>\n",
       "      <th>22</th>\n",
       "      <td>Algérie</td>\n",
       "      <td>1300000.0</td>\n",
       "    </tr>\n",
       "    <tr>\n",
       "      <th>28</th>\n",
       "      <td>Allemagne</td>\n",
       "      <td>NaN</td>\n",
       "    </tr>\n",
       "    <tr>\n",
       "      <th>34</th>\n",
       "      <td>Andorre</td>\n",
       "      <td>NaN</td>\n",
       "    </tr>\n",
       "    <tr>\n",
       "      <th>40</th>\n",
       "      <td>Angola</td>\n",
       "      <td>5800000.0</td>\n",
       "    </tr>\n",
       "    <tr>\n",
       "      <th>46</th>\n",
       "      <td>Antigua-et-Barbuda</td>\n",
       "      <td>NaN</td>\n",
       "    </tr>\n",
       "    <tr>\n",
       "      <th>52</th>\n",
       "      <td>Arabie saoudite</td>\n",
       "      <td>1600000.0</td>\n",
       "    </tr>\n",
       "    <tr>\n",
       "      <th>58</th>\n",
       "      <td>Argentine</td>\n",
       "      <td>1500000.0</td>\n",
       "    </tr>\n",
       "  </tbody>\n",
       "</table>\n",
       "</div>"
      ],
      "text/plain": [
       "                  Zone      Valeur\n",
       "4          Afghanistan  10500000.0\n",
       "10      Afrique du Sud   3100000.0\n",
       "16             Albanie    100000.0\n",
       "22             Algérie   1300000.0\n",
       "28           Allemagne         NaN\n",
       "34             Andorre         NaN\n",
       "40              Angola   5800000.0\n",
       "46  Antigua-et-Barbuda         NaN\n",
       "52     Arabie saoudite   1600000.0\n",
       "58           Argentine   1500000.0"
      ]
     },
     "execution_count": 11,
     "metadata": {},
     "output_type": "execute_result"
    }
   ],
   "source": [
    "data_sn_zone_val_2017['Valeur'] = data_sn_zone_val_2017.iloc[: , 1].mul(1000000)\n",
    "data_sn_zone_val_2017.head(10)"
   ]
  },
  {
   "cell_type": "markdown",
   "id": "50f5556c-d14a-4be4-8d2b-a2e44a268f24",
   "metadata": {
    "tags": []
   },
   "source": [
    "##### Pays où la valeur n'est pas renseignée 1.2.5 <a class=\"anchor\" id=\"requete_1_2_5\"></a>"
   ]
  },
  {
   "cell_type": "code",
   "execution_count": 12,
   "id": "faaee1d4-ecca-402f-9271-eb7e8dffbe1f",
   "metadata": {},
   "outputs": [
    {
     "name": "stdout",
     "output_type": "stream",
     "text": [
      "Il y a 119 pays où les données sont manquantes notament : \n",
      "          Zone  Valeur\n",
      "1204     Yémen     NaN\n",
      "1210    Zambie     NaN\n",
      "1216  Zimbabwe     NaN\n"
     ]
    }
   ],
   "source": [
    "zone_nan = data_sn_zone_val_2017.loc[data_sn_zone_val_2017['Valeur'].isna()]\n",
    "print(f'Il y a {zone_nan.shape[0]} pays où les données sont manquantes notament : \\n{zone_nan.tail(3)}')"
   ]
  },
  {
   "cell_type": "markdown",
   "id": "b5e4f0eb-edc7-428b-a88e-ea2608bb38ef",
   "metadata": {
    "tags": []
   },
   "source": [
    "#### Le pourcentage de la population en état de sous nutrition dans le monde en 2017 1.3 <a class=\"anchor\" id=\"requete_1_3\"></a>"
   ]
  },
  {
   "cell_type": "code",
   "execution_count": 13,
   "id": "15e1775c-57db-4074-ae72-eb3bf0f1836e",
   "metadata": {},
   "outputs": [
    {
     "name": "stdout",
     "output_type": "stream",
     "text": [
      "Environ 7.097 % de la population mondiale est concidéré comme etant en sous nutrition\n"
     ]
    }
   ],
   "source": [
    "proportion_pop_2017 = ( data_sn_zone_val_2017['Valeur'].sum() * 100 ) / data_pop_zone_val_2017['Valeur'].sum() \n",
    "print('Environ ' + str(round(proportion_pop_2017,3)) +  ' % de la population mondiale est concidéré comme etant en sous nutrition')"
   ]
  },
  {
   "cell_type": "code",
   "execution_count": 14,
   "id": "1de4af87-2e08-4908-875c-884a444dc82e",
   "metadata": {},
   "outputs": [
    {
     "data": {
      "text/plain": [
       "92.90288179671693"
      ]
     },
     "execution_count": 14,
     "metadata": {},
     "output_type": "execute_result"
    }
   ],
   "source": [
    "pop_nourri_2017 = 100 - proportion_pop_2017\n",
    "pop_nourri_2017"
   ]
  },
  {
   "cell_type": "markdown",
   "id": "a213a60c-5496-422d-b81b-236c216aec61",
   "metadata": {
    "tags": []
   },
   "source": [
    "### Requete 2: Le nombre théorique de personnes qui pourraient être nourries. <a class=\"anchor\" id=\"requete2\"></a>\n",
    "[Retour au sommaire](#sommaire)"
   ]
  },
  {
   "cell_type": "markdown",
   "id": "f14fd1a1-3bc9-4e3a-aedb-f1f6ef2a620a",
   "metadata": {
    "tags": []
   },
   "source": [
    "#### Création du data frame ```data_dispo_alimentaire(aide alimentaire)``` 2.1 <a class=\"anchor\" id=\"section_2_1\"></a>"
   ]
  },
  {
   "cell_type": "code",
   "execution_count": 15,
   "id": "d4489abb-0903-4ef3-8979-0840136996f4",
   "metadata": {},
   "outputs": [
    {
     "data": {
      "text/html": [
       "<div>\n",
       "<style scoped>\n",
       "    .dataframe tbody tr th:only-of-type {\n",
       "        vertical-align: middle;\n",
       "    }\n",
       "\n",
       "    .dataframe tbody tr th {\n",
       "        vertical-align: top;\n",
       "    }\n",
       "\n",
       "    .dataframe thead th {\n",
       "        text-align: right;\n",
       "    }\n",
       "</style>\n",
       "<table border=\"1\" class=\"dataframe\">\n",
       "  <thead>\n",
       "    <tr style=\"text-align: right;\">\n",
       "      <th></th>\n",
       "      <th>Zone</th>\n",
       "      <th>Produit</th>\n",
       "      <th>Origine</th>\n",
       "      <th>Aliments pour animaux</th>\n",
       "      <th>Autres Utilisations</th>\n",
       "      <th>Disponibilité alimentaire (Kcal/personne/jour)</th>\n",
       "      <th>Disponibilité alimentaire en quantité (kg/personne/an)</th>\n",
       "      <th>Disponibilité de matière grasse en quantité (g/personne/jour)</th>\n",
       "      <th>Disponibilité de protéines en quantité (g/personne/jour)</th>\n",
       "      <th>Disponibilité intérieure</th>\n",
       "      <th>Exportations - Quantité</th>\n",
       "      <th>Importations - Quantité</th>\n",
       "      <th>Nourriture</th>\n",
       "      <th>Pertes</th>\n",
       "      <th>Production</th>\n",
       "      <th>Semences</th>\n",
       "      <th>Traitement</th>\n",
       "      <th>Variation de stock</th>\n",
       "    </tr>\n",
       "  </thead>\n",
       "  <tbody>\n",
       "    <tr>\n",
       "      <th>0</th>\n",
       "      <td>Afghanistan</td>\n",
       "      <td>Abats Comestible</td>\n",
       "      <td>animale</td>\n",
       "      <td>NaN</td>\n",
       "      <td>NaN</td>\n",
       "      <td>5.0</td>\n",
       "      <td>1.72</td>\n",
       "      <td>0.20</td>\n",
       "      <td>0.77</td>\n",
       "      <td>53.0</td>\n",
       "      <td>NaN</td>\n",
       "      <td>NaN</td>\n",
       "      <td>53.0</td>\n",
       "      <td>NaN</td>\n",
       "      <td>53.0</td>\n",
       "      <td>NaN</td>\n",
       "      <td>NaN</td>\n",
       "      <td>NaN</td>\n",
       "    </tr>\n",
       "    <tr>\n",
       "      <th>1</th>\n",
       "      <td>Afghanistan</td>\n",
       "      <td>Agrumes, Autres</td>\n",
       "      <td>vegetale</td>\n",
       "      <td>NaN</td>\n",
       "      <td>NaN</td>\n",
       "      <td>1.0</td>\n",
       "      <td>1.29</td>\n",
       "      <td>0.01</td>\n",
       "      <td>0.02</td>\n",
       "      <td>41.0</td>\n",
       "      <td>2.0</td>\n",
       "      <td>40.0</td>\n",
       "      <td>39.0</td>\n",
       "      <td>2.0</td>\n",
       "      <td>3.0</td>\n",
       "      <td>NaN</td>\n",
       "      <td>NaN</td>\n",
       "      <td>NaN</td>\n",
       "    </tr>\n",
       "    <tr>\n",
       "      <th>2</th>\n",
       "      <td>Afghanistan</td>\n",
       "      <td>Aliments pour enfants</td>\n",
       "      <td>vegetale</td>\n",
       "      <td>NaN</td>\n",
       "      <td>NaN</td>\n",
       "      <td>1.0</td>\n",
       "      <td>0.06</td>\n",
       "      <td>0.01</td>\n",
       "      <td>0.03</td>\n",
       "      <td>2.0</td>\n",
       "      <td>NaN</td>\n",
       "      <td>2.0</td>\n",
       "      <td>2.0</td>\n",
       "      <td>NaN</td>\n",
       "      <td>NaN</td>\n",
       "      <td>NaN</td>\n",
       "      <td>NaN</td>\n",
       "      <td>NaN</td>\n",
       "    </tr>\n",
       "    <tr>\n",
       "      <th>3</th>\n",
       "      <td>Afghanistan</td>\n",
       "      <td>Ananas</td>\n",
       "      <td>vegetale</td>\n",
       "      <td>NaN</td>\n",
       "      <td>NaN</td>\n",
       "      <td>0.0</td>\n",
       "      <td>0.00</td>\n",
       "      <td>NaN</td>\n",
       "      <td>NaN</td>\n",
       "      <td>0.0</td>\n",
       "      <td>NaN</td>\n",
       "      <td>0.0</td>\n",
       "      <td>0.0</td>\n",
       "      <td>NaN</td>\n",
       "      <td>NaN</td>\n",
       "      <td>NaN</td>\n",
       "      <td>NaN</td>\n",
       "      <td>NaN</td>\n",
       "    </tr>\n",
       "    <tr>\n",
       "      <th>4</th>\n",
       "      <td>Afghanistan</td>\n",
       "      <td>Bananes</td>\n",
       "      <td>vegetale</td>\n",
       "      <td>NaN</td>\n",
       "      <td>NaN</td>\n",
       "      <td>4.0</td>\n",
       "      <td>2.70</td>\n",
       "      <td>0.02</td>\n",
       "      <td>0.05</td>\n",
       "      <td>82.0</td>\n",
       "      <td>NaN</td>\n",
       "      <td>82.0</td>\n",
       "      <td>82.0</td>\n",
       "      <td>NaN</td>\n",
       "      <td>NaN</td>\n",
       "      <td>NaN</td>\n",
       "      <td>NaN</td>\n",
       "      <td>NaN</td>\n",
       "    </tr>\n",
       "  </tbody>\n",
       "</table>\n",
       "</div>"
      ],
      "text/plain": [
       "          Zone                Produit   Origine  Aliments pour animaux  \\\n",
       "0  Afghanistan       Abats Comestible   animale                    NaN   \n",
       "1  Afghanistan        Agrumes, Autres  vegetale                    NaN   \n",
       "2  Afghanistan  Aliments pour enfants  vegetale                    NaN   \n",
       "3  Afghanistan                 Ananas  vegetale                    NaN   \n",
       "4  Afghanistan                Bananes  vegetale                    NaN   \n",
       "\n",
       "   Autres Utilisations  Disponibilité alimentaire (Kcal/personne/jour)  \\\n",
       "0                  NaN                                             5.0   \n",
       "1                  NaN                                             1.0   \n",
       "2                  NaN                                             1.0   \n",
       "3                  NaN                                             0.0   \n",
       "4                  NaN                                             4.0   \n",
       "\n",
       "   Disponibilité alimentaire en quantité (kg/personne/an)  \\\n",
       "0                                               1.72        \n",
       "1                                               1.29        \n",
       "2                                               0.06        \n",
       "3                                               0.00        \n",
       "4                                               2.70        \n",
       "\n",
       "   Disponibilité de matière grasse en quantité (g/personne/jour)  \\\n",
       "0                                               0.20               \n",
       "1                                               0.01               \n",
       "2                                               0.01               \n",
       "3                                                NaN               \n",
       "4                                               0.02               \n",
       "\n",
       "   Disponibilité de protéines en quantité (g/personne/jour)  \\\n",
       "0                                               0.77          \n",
       "1                                               0.02          \n",
       "2                                               0.03          \n",
       "3                                                NaN          \n",
       "4                                               0.05          \n",
       "\n",
       "   Disponibilité intérieure  Exportations - Quantité  Importations - Quantité  \\\n",
       "0                      53.0                      NaN                      NaN   \n",
       "1                      41.0                      2.0                     40.0   \n",
       "2                       2.0                      NaN                      2.0   \n",
       "3                       0.0                      NaN                      0.0   \n",
       "4                      82.0                      NaN                     82.0   \n",
       "\n",
       "   Nourriture  Pertes  Production  Semences  Traitement  Variation de stock  \n",
       "0        53.0     NaN        53.0       NaN         NaN                 NaN  \n",
       "1        39.0     2.0         3.0       NaN         NaN                 NaN  \n",
       "2         2.0     NaN         NaN       NaN         NaN                 NaN  \n",
       "3         0.0     NaN         NaN       NaN         NaN                 NaN  \n",
       "4        82.0     NaN         NaN       NaN         NaN                 NaN  "
      ]
     },
     "execution_count": 15,
     "metadata": {},
     "output_type": "execute_result"
    }
   ],
   "source": [
    "data_dispo_alimentaire = pd.read_csv('dispo_alimentaire.csv')\n",
    "data_dispo_alimentaire.head()"
   ]
  },
  {
   "cell_type": "code",
   "execution_count": 16,
   "id": "949ae649-f06c-4c95-9b85-b9f2e1cf0d01",
   "metadata": {},
   "outputs": [
    {
     "data": {
      "text/plain": [
       "Zone                                                              object\n",
       "Produit                                                           object\n",
       "Origine                                                           object\n",
       "Aliments pour animaux                                            float64\n",
       "Autres Utilisations                                              float64\n",
       "Disponibilité alimentaire (Kcal/personne/jour)                   float64\n",
       "Disponibilité alimentaire en quantité (kg/personne/an)           float64\n",
       "Disponibilité de matière grasse en quantité (g/personne/jour)    float64\n",
       "Disponibilité de protéines en quantité (g/personne/jour)         float64\n",
       "Disponibilité intérieure                                         float64\n",
       "Exportations - Quantité                                          float64\n",
       "Importations - Quantité                                          float64\n",
       "Nourriture                                                       float64\n",
       "Pertes                                                           float64\n",
       "Production                                                       float64\n",
       "Semences                                                         float64\n",
       "Traitement                                                       float64\n",
       "Variation de stock                                               float64\n",
       "dtype: object"
      ]
     },
     "execution_count": 16,
     "metadata": {},
     "output_type": "execute_result"
    }
   ],
   "source": [
    "data_dispo_alimentaire.dtypes"
   ]
  },
  {
   "cell_type": "markdown",
   "id": "1d64a864-225d-4945-a840-741697ce2e04",
   "metadata": {
    "tags": []
   },
   "source": [
    "##### Filtre par zone "
   ]
  },
  {
   "cell_type": "code",
   "execution_count": 17,
   "id": "64349c12-ed4f-42c2-b987-346ca534de31",
   "metadata": {},
   "outputs": [
    {
     "data": {
      "text/html": [
       "<div>\n",
       "<style scoped>\n",
       "    .dataframe tbody tr th:only-of-type {\n",
       "        vertical-align: middle;\n",
       "    }\n",
       "\n",
       "    .dataframe tbody tr th {\n",
       "        vertical-align: top;\n",
       "    }\n",
       "\n",
       "    .dataframe thead th {\n",
       "        text-align: right;\n",
       "    }\n",
       "</style>\n",
       "<table border=\"1\" class=\"dataframe\">\n",
       "  <thead>\n",
       "    <tr style=\"text-align: right;\">\n",
       "      <th></th>\n",
       "      <th>Aliments pour animaux</th>\n",
       "      <th>Autres Utilisations</th>\n",
       "      <th>Disponibilité alimentaire (Kcal/personne/jour)</th>\n",
       "      <th>Disponibilité alimentaire en quantité (kg/personne/an)</th>\n",
       "      <th>Disponibilité de matière grasse en quantité (g/personne/jour)</th>\n",
       "      <th>Disponibilité de protéines en quantité (g/personne/jour)</th>\n",
       "      <th>Disponibilité intérieure</th>\n",
       "      <th>Exportations - Quantité</th>\n",
       "      <th>Importations - Quantité</th>\n",
       "      <th>Nourriture</th>\n",
       "      <th>Pertes</th>\n",
       "      <th>Production</th>\n",
       "      <th>Semences</th>\n",
       "      <th>Traitement</th>\n",
       "      <th>Variation de stock</th>\n",
       "    </tr>\n",
       "    <tr>\n",
       "      <th>Zone</th>\n",
       "      <th></th>\n",
       "      <th></th>\n",
       "      <th></th>\n",
       "      <th></th>\n",
       "      <th></th>\n",
       "      <th></th>\n",
       "      <th></th>\n",
       "      <th></th>\n",
       "      <th></th>\n",
       "      <th></th>\n",
       "      <th></th>\n",
       "      <th></th>\n",
       "      <th></th>\n",
       "      <th></th>\n",
       "      <th></th>\n",
       "    </tr>\n",
       "  </thead>\n",
       "  <tbody>\n",
       "    <tr>\n",
       "      <th>Afghanistan</th>\n",
       "      <td>768.0</td>\n",
       "      <td>415.0</td>\n",
       "      <td>2087.0</td>\n",
       "      <td>351.41</td>\n",
       "      <td>33.50</td>\n",
       "      <td>58.26</td>\n",
       "      <td>13515.0</td>\n",
       "      <td>278.0</td>\n",
       "      <td>2988.0</td>\n",
       "      <td>10735.0</td>\n",
       "      <td>1135.0</td>\n",
       "      <td>11171.0</td>\n",
       "      <td>395.0</td>\n",
       "      <td>63.0</td>\n",
       "      <td>-368.0</td>\n",
       "    </tr>\n",
       "    <tr>\n",
       "      <th>Afrique du Sud</th>\n",
       "      <td>5309.0</td>\n",
       "      <td>876.0</td>\n",
       "      <td>3020.0</td>\n",
       "      <td>564.80</td>\n",
       "      <td>83.58</td>\n",
       "      <td>85.33</td>\n",
       "      <td>61256.0</td>\n",
       "      <td>11674.0</td>\n",
       "      <td>7517.0</td>\n",
       "      <td>29812.0</td>\n",
       "      <td>2193.0</td>\n",
       "      <td>63263.0</td>\n",
       "      <td>253.0</td>\n",
       "      <td>22819.0</td>\n",
       "      <td>2153.0</td>\n",
       "    </tr>\n",
       "    <tr>\n",
       "      <th>Albanie</th>\n",
       "      <td>660.0</td>\n",
       "      <td>174.0</td>\n",
       "      <td>3188.0</td>\n",
       "      <td>1095.54</td>\n",
       "      <td>106.48</td>\n",
       "      <td>111.37</td>\n",
       "      <td>4758.0</td>\n",
       "      <td>94.0</td>\n",
       "      <td>933.0</td>\n",
       "      <td>3476.0</td>\n",
       "      <td>276.0</td>\n",
       "      <td>3964.0</td>\n",
       "      <td>55.0</td>\n",
       "      <td>113.0</td>\n",
       "      <td>-45.0</td>\n",
       "    </tr>\n",
       "    <tr>\n",
       "      <th>Algérie</th>\n",
       "      <td>4352.0</td>\n",
       "      <td>1707.0</td>\n",
       "      <td>3293.0</td>\n",
       "      <td>809.13</td>\n",
       "      <td>76.48</td>\n",
       "      <td>91.92</td>\n",
       "      <td>42630.0</td>\n",
       "      <td>655.0</td>\n",
       "      <td>17403.0</td>\n",
       "      <td>31729.0</td>\n",
       "      <td>3753.0</td>\n",
       "      <td>26359.0</td>\n",
       "      <td>449.0</td>\n",
       "      <td>637.0</td>\n",
       "      <td>-479.0</td>\n",
       "    </tr>\n",
       "    <tr>\n",
       "      <th>Allemagne</th>\n",
       "      <td>30209.0</td>\n",
       "      <td>7711.0</td>\n",
       "      <td>3503.0</td>\n",
       "      <td>957.52</td>\n",
       "      <td>141.62</td>\n",
       "      <td>101.39</td>\n",
       "      <td>162275.0</td>\n",
       "      <td>57431.0</td>\n",
       "      <td>65353.0</td>\n",
       "      <td>79238.0</td>\n",
       "      <td>3781.0</td>\n",
       "      <td>154547.0</td>\n",
       "      <td>1551.0</td>\n",
       "      <td>39842.0</td>\n",
       "      <td>-192.0</td>\n",
       "    </tr>\n",
       "  </tbody>\n",
       "</table>\n",
       "</div>"
      ],
      "text/plain": [
       "                Aliments pour animaux  Autres Utilisations  \\\n",
       "Zone                                                         \n",
       "Afghanistan                     768.0                415.0   \n",
       "Afrique du Sud                 5309.0                876.0   \n",
       "Albanie                         660.0                174.0   \n",
       "Algérie                        4352.0               1707.0   \n",
       "Allemagne                     30209.0               7711.0   \n",
       "\n",
       "                Disponibilité alimentaire (Kcal/personne/jour)  \\\n",
       "Zone                                                             \n",
       "Afghanistan                                             2087.0   \n",
       "Afrique du Sud                                          3020.0   \n",
       "Albanie                                                 3188.0   \n",
       "Algérie                                                 3293.0   \n",
       "Allemagne                                               3503.0   \n",
       "\n",
       "                Disponibilité alimentaire en quantité (kg/personne/an)  \\\n",
       "Zone                                                                     \n",
       "Afghanistan                                                351.41        \n",
       "Afrique du Sud                                             564.80        \n",
       "Albanie                                                   1095.54        \n",
       "Algérie                                                    809.13        \n",
       "Allemagne                                                  957.52        \n",
       "\n",
       "                Disponibilité de matière grasse en quantité (g/personne/jour)  \\\n",
       "Zone                                                                            \n",
       "Afghanistan                                                 33.50               \n",
       "Afrique du Sud                                              83.58               \n",
       "Albanie                                                    106.48               \n",
       "Algérie                                                     76.48               \n",
       "Allemagne                                                  141.62               \n",
       "\n",
       "                Disponibilité de protéines en quantité (g/personne/jour)  \\\n",
       "Zone                                                                       \n",
       "Afghanistan                                                 58.26          \n",
       "Afrique du Sud                                              85.33          \n",
       "Albanie                                                    111.37          \n",
       "Algérie                                                     91.92          \n",
       "Allemagne                                                  101.39          \n",
       "\n",
       "                Disponibilité intérieure  Exportations - Quantité  \\\n",
       "Zone                                                                \n",
       "Afghanistan                      13515.0                    278.0   \n",
       "Afrique du Sud                   61256.0                  11674.0   \n",
       "Albanie                           4758.0                     94.0   \n",
       "Algérie                          42630.0                    655.0   \n",
       "Allemagne                       162275.0                  57431.0   \n",
       "\n",
       "                Importations - Quantité  Nourriture  Pertes  Production  \\\n",
       "Zone                                                                      \n",
       "Afghanistan                      2988.0     10735.0  1135.0     11171.0   \n",
       "Afrique du Sud                   7517.0     29812.0  2193.0     63263.0   \n",
       "Albanie                           933.0      3476.0   276.0      3964.0   \n",
       "Algérie                         17403.0     31729.0  3753.0     26359.0   \n",
       "Allemagne                       65353.0     79238.0  3781.0    154547.0   \n",
       "\n",
       "                Semences  Traitement  Variation de stock  \n",
       "Zone                                                      \n",
       "Afghanistan        395.0        63.0              -368.0  \n",
       "Afrique du Sud     253.0     22819.0              2153.0  \n",
       "Albanie             55.0       113.0               -45.0  \n",
       "Algérie            449.0       637.0              -479.0  \n",
       "Allemagne         1551.0     39842.0              -192.0  "
      ]
     },
     "execution_count": 17,
     "metadata": {},
     "output_type": "execute_result"
    }
   ],
   "source": [
    "zone_data_alimentaire = data_dispo_alimentaire.groupby('Zone').sum()\n",
    "zone_data_alimentaire.head()"
   ]
  },
  {
   "cell_type": "markdown",
   "id": "ca8f1795-25a5-44f3-8fe1-94055af82043",
   "metadata": {
    "tags": []
   },
   "source": [
    "####  Merge des df ```zone_data_alimentaire``` et ```data_pop_zone_val_2017(population en 2017)``` 2.2 <a class=\"anchor\" id=\"section_2_2\"></a>"
   ]
  },
  {
   "cell_type": "markdown",
   "id": "d0d773af-4baf-4cb6-a84a-3a05173b540e",
   "metadata": {
    "tags": []
   },
   "source": [
    "##### Shape des tables 2.2.1 <a class=\"anchor\" id=\"section_2_2_1\"></a>"
   ]
  },
  {
   "cell_type": "code",
   "execution_count": 18,
   "id": "3da50e50-d439-453e-b2a8-d37a53e59177",
   "metadata": {},
   "outputs": [
    {
     "data": {
      "text/plain": [
       "(174, 15)"
      ]
     },
     "execution_count": 18,
     "metadata": {},
     "output_type": "execute_result"
    }
   ],
   "source": [
    "zone_data_alimentaire.shape"
   ]
  },
  {
   "cell_type": "code",
   "execution_count": 19,
   "id": "f9474e03-e825-4208-898d-b72bbb863cd3",
   "metadata": {},
   "outputs": [
    {
     "data": {
      "text/plain": [
       "(236, 2)"
      ]
     },
     "execution_count": 19,
     "metadata": {},
     "output_type": "execute_result"
    }
   ],
   "source": [
    "data_pop_zone_val_2017.shape"
   ]
  },
  {
   "cell_type": "code",
   "execution_count": 20,
   "id": "853a6dd5-ea97-4010-8f21-e1dc5cca4a77",
   "metadata": {},
   "outputs": [
    {
     "data": {
      "text/html": [
       "<div>\n",
       "<style scoped>\n",
       "    .dataframe tbody tr th:only-of-type {\n",
       "        vertical-align: middle;\n",
       "    }\n",
       "\n",
       "    .dataframe tbody tr th {\n",
       "        vertical-align: top;\n",
       "    }\n",
       "\n",
       "    .dataframe thead th {\n",
       "        text-align: right;\n",
       "    }\n",
       "</style>\n",
       "<table border=\"1\" class=\"dataframe\">\n",
       "  <thead>\n",
       "    <tr style=\"text-align: right;\">\n",
       "      <th></th>\n",
       "      <th>Zone</th>\n",
       "      <th>Disponibilité alimentaire (Kcal/personne/jour)</th>\n",
       "      <th>Valeur</th>\n",
       "    </tr>\n",
       "  </thead>\n",
       "  <tbody>\n",
       "    <tr>\n",
       "      <th>0</th>\n",
       "      <td>Afghanistan</td>\n",
       "      <td>2087.0</td>\n",
       "      <td>36296113.0</td>\n",
       "    </tr>\n",
       "    <tr>\n",
       "      <th>1</th>\n",
       "      <td>Afrique du Sud</td>\n",
       "      <td>3020.0</td>\n",
       "      <td>57009756.0</td>\n",
       "    </tr>\n",
       "    <tr>\n",
       "      <th>2</th>\n",
       "      <td>Albanie</td>\n",
       "      <td>3188.0</td>\n",
       "      <td>2884169.0</td>\n",
       "    </tr>\n",
       "    <tr>\n",
       "      <th>3</th>\n",
       "      <td>Algérie</td>\n",
       "      <td>3293.0</td>\n",
       "      <td>41389189.0</td>\n",
       "    </tr>\n",
       "    <tr>\n",
       "      <th>4</th>\n",
       "      <td>Allemagne</td>\n",
       "      <td>3503.0</td>\n",
       "      <td>82658409.0</td>\n",
       "    </tr>\n",
       "  </tbody>\n",
       "</table>\n",
       "</div>"
      ],
      "text/plain": [
       "             Zone  Disponibilité alimentaire (Kcal/personne/jour)      Valeur\n",
       "0     Afghanistan                                          2087.0  36296113.0\n",
       "1  Afrique du Sud                                          3020.0  57009756.0\n",
       "2         Albanie                                          3188.0   2884169.0\n",
       "3         Algérie                                          3293.0  41389189.0\n",
       "4       Allemagne                                          3503.0  82658409.0"
      ]
     },
     "execution_count": 20,
     "metadata": {},
     "output_type": "execute_result"
    }
   ],
   "source": [
    "df_merge_population_dispo_alimentaire = zone_data_alimentaire[['Disponibilité alimentaire (Kcal/personne/jour)']].merge(data_pop_zone_val_2017, how ='left', on= \"Zone\")\n",
    "df_merge_population_dispo_alimentaire.head()"
   ]
  },
  {
   "cell_type": "markdown",
   "id": "835addfe-6128-4544-9026-79ba5f5842e4",
   "metadata": {
    "tags": []
   },
   "source": [
    "##### Conaitre les valeurs non attribuées dans la merge 2.2.2 <a class=\"anchor\" id=\"section_2_2_2\"></a>"
   ]
  },
  {
   "cell_type": "code",
   "execution_count": 21,
   "id": "1a557b8c-2214-414c-bae1-79fd01547d01",
   "metadata": {},
   "outputs": [
    {
     "data": {
      "text/html": [
       "<div>\n",
       "<style scoped>\n",
       "    .dataframe tbody tr th:only-of-type {\n",
       "        vertical-align: middle;\n",
       "    }\n",
       "\n",
       "    .dataframe tbody tr th {\n",
       "        vertical-align: top;\n",
       "    }\n",
       "\n",
       "    .dataframe thead th {\n",
       "        text-align: right;\n",
       "    }\n",
       "</style>\n",
       "<table border=\"1\" class=\"dataframe\">\n",
       "  <thead>\n",
       "    <tr style=\"text-align: right;\">\n",
       "      <th></th>\n",
       "      <th>Zone</th>\n",
       "      <th>Disponibilité alimentaire (Kcal/personne/jour)</th>\n",
       "      <th>Valeur</th>\n",
       "    </tr>\n",
       "  </thead>\n",
       "  <tbody>\n",
       "    <tr>\n",
       "      <th>126</th>\n",
       "      <td>Royaume-Uni</td>\n",
       "      <td>3425.0</td>\n",
       "      <td>NaN</td>\n",
       "    </tr>\n",
       "    <tr>\n",
       "      <th>152</th>\n",
       "      <td>Tchéquie (la)</td>\n",
       "      <td>3255.0</td>\n",
       "      <td>NaN</td>\n",
       "    </tr>\n",
       "  </tbody>\n",
       "</table>\n",
       "</div>"
      ],
      "text/plain": [
       "              Zone  Disponibilité alimentaire (Kcal/personne/jour)  Valeur\n",
       "126    Royaume-Uni                                          3425.0     NaN\n",
       "152  Tchéquie (la)                                          3255.0     NaN"
      ]
     },
     "execution_count": 21,
     "metadata": {},
     "output_type": "execute_result"
    }
   ],
   "source": [
    "df_merge_population_dispo_alimentaire.loc[df_merge_population_dispo_alimentaire.isnull().any(axis=1)] "
   ]
  },
  {
   "cell_type": "markdown",
   "id": "334837e9-befa-4704-acd1-0532be64cd6c",
   "metadata": {
    "tags": []
   },
   "source": [
    "##### Savoir comment est écrit Royaume-Uni et Tchéquie dans la table population en 2017 2.2.3 <a class=\"anchor\" id=\"section_2_2_3\"></a>"
   ]
  },
  {
   "cell_type": "code",
   "execution_count": 22,
   "id": "0b61e82c-ebb0-4eca-a0dd-1a319aba6ed0",
   "metadata": {},
   "outputs": [
    {
     "data": {
      "text/html": [
       "<div>\n",
       "<style scoped>\n",
       "    .dataframe tbody tr th:only-of-type {\n",
       "        vertical-align: middle;\n",
       "    }\n",
       "\n",
       "    .dataframe tbody tr th {\n",
       "        vertical-align: top;\n",
       "    }\n",
       "\n",
       "    .dataframe thead th {\n",
       "        text-align: right;\n",
       "    }\n",
       "</style>\n",
       "<table border=\"1\" class=\"dataframe\">\n",
       "  <thead>\n",
       "    <tr style=\"text-align: right;\">\n",
       "      <th></th>\n",
       "      <th>Zone</th>\n",
       "      <th>Valeur</th>\n",
       "    </tr>\n",
       "  </thead>\n",
       "  <tbody>\n",
       "    <tr>\n",
       "      <th>1114</th>\n",
       "      <td>Royaume-Uni de Grande-Bretagne et d'Irlande du...</td>\n",
       "      <td>66727461.0</td>\n",
       "    </tr>\n",
       "  </tbody>\n",
       "</table>\n",
       "</div>"
      ],
      "text/plain": [
       "                                                   Zone      Valeur\n",
       "1114  Royaume-Uni de Grande-Bretagne et d'Irlande du...  66727461.0"
      ]
     },
     "execution_count": 22,
     "metadata": {},
     "output_type": "execute_result"
    }
   ],
   "source": [
    "data_pop_zone_val_2017.loc[data_pop_zone_val_2017[\"Zone\"].str.contains('Royaume')]"
   ]
  },
  {
   "cell_type": "code",
   "execution_count": 23,
   "id": "a08a727a-7cac-49c2-ad4e-04a7611da85e",
   "metadata": {},
   "outputs": [
    {
     "data": {
      "text/html": [
       "<div>\n",
       "<style scoped>\n",
       "    .dataframe tbody tr th:only-of-type {\n",
       "        vertical-align: middle;\n",
       "    }\n",
       "\n",
       "    .dataframe tbody tr th {\n",
       "        vertical-align: top;\n",
       "    }\n",
       "\n",
       "    .dataframe thead th {\n",
       "        text-align: right;\n",
       "    }\n",
       "</style>\n",
       "<table border=\"1\" class=\"dataframe\">\n",
       "  <thead>\n",
       "    <tr style=\"text-align: right;\">\n",
       "      <th></th>\n",
       "      <th>Zone</th>\n",
       "      <th>Valeur</th>\n",
       "    </tr>\n",
       "  </thead>\n",
       "  <tbody>\n",
       "    <tr>\n",
       "      <th>1300</th>\n",
       "      <td>Tchad</td>\n",
       "      <td>15016753.0</td>\n",
       "    </tr>\n",
       "    <tr>\n",
       "      <th>1306</th>\n",
       "      <td>Tchéquie</td>\n",
       "      <td>10641034.0</td>\n",
       "    </tr>\n",
       "  </tbody>\n",
       "</table>\n",
       "</div>"
      ],
      "text/plain": [
       "          Zone      Valeur\n",
       "1300     Tchad  15016753.0\n",
       "1306  Tchéquie  10641034.0"
      ]
     },
     "execution_count": 23,
     "metadata": {},
     "output_type": "execute_result"
    }
   ],
   "source": [
    "data_pop_zone_val_2017.loc[data_pop_zone_val_2017[\"Zone\"].str.contains('Tch')]"
   ]
  },
  {
   "cell_type": "markdown",
   "id": "22ddfecc-17dd-497c-b32e-700869722d17",
   "metadata": {
    "tags": []
   },
   "source": [
    "##### Reset l'index dans le df dispo alimentaire et remplacer les deux pays par la bonne orthographe 2.2.4 <a class=\"anchor\" id=\"section_2_2_4\"></a>"
   ]
  },
  {
   "cell_type": "code",
   "execution_count": 24,
   "id": "ee19eb59-a41e-4c67-b753-3100deded83b",
   "metadata": {},
   "outputs": [
    {
     "data": {
      "text/html": [
       "<div>\n",
       "<style scoped>\n",
       "    .dataframe tbody tr th:only-of-type {\n",
       "        vertical-align: middle;\n",
       "    }\n",
       "\n",
       "    .dataframe tbody tr th {\n",
       "        vertical-align: top;\n",
       "    }\n",
       "\n",
       "    .dataframe thead th {\n",
       "        text-align: right;\n",
       "    }\n",
       "</style>\n",
       "<table border=\"1\" class=\"dataframe\">\n",
       "  <thead>\n",
       "    <tr style=\"text-align: right;\">\n",
       "      <th></th>\n",
       "      <th>Zone</th>\n",
       "      <th>Aliments pour animaux</th>\n",
       "      <th>Autres Utilisations</th>\n",
       "      <th>Disponibilité alimentaire (Kcal/personne/jour)</th>\n",
       "      <th>Disponibilité alimentaire en quantité (kg/personne/an)</th>\n",
       "      <th>Disponibilité de matière grasse en quantité (g/personne/jour)</th>\n",
       "      <th>Disponibilité de protéines en quantité (g/personne/jour)</th>\n",
       "      <th>Disponibilité intérieure</th>\n",
       "      <th>Exportations - Quantité</th>\n",
       "      <th>Importations - Quantité</th>\n",
       "      <th>Nourriture</th>\n",
       "      <th>Pertes</th>\n",
       "      <th>Production</th>\n",
       "      <th>Semences</th>\n",
       "      <th>Traitement</th>\n",
       "      <th>Variation de stock</th>\n",
       "    </tr>\n",
       "  </thead>\n",
       "  <tbody>\n",
       "    <tr>\n",
       "      <th>0</th>\n",
       "      <td>Afghanistan</td>\n",
       "      <td>768.0</td>\n",
       "      <td>415.0</td>\n",
       "      <td>2087.0</td>\n",
       "      <td>351.41</td>\n",
       "      <td>33.50</td>\n",
       "      <td>58.26</td>\n",
       "      <td>13515.0</td>\n",
       "      <td>278.0</td>\n",
       "      <td>2988.0</td>\n",
       "      <td>10735.0</td>\n",
       "      <td>1135.0</td>\n",
       "      <td>11171.0</td>\n",
       "      <td>395.0</td>\n",
       "      <td>63.0</td>\n",
       "      <td>-368.0</td>\n",
       "    </tr>\n",
       "    <tr>\n",
       "      <th>1</th>\n",
       "      <td>Afrique du Sud</td>\n",
       "      <td>5309.0</td>\n",
       "      <td>876.0</td>\n",
       "      <td>3020.0</td>\n",
       "      <td>564.80</td>\n",
       "      <td>83.58</td>\n",
       "      <td>85.33</td>\n",
       "      <td>61256.0</td>\n",
       "      <td>11674.0</td>\n",
       "      <td>7517.0</td>\n",
       "      <td>29812.0</td>\n",
       "      <td>2193.0</td>\n",
       "      <td>63263.0</td>\n",
       "      <td>253.0</td>\n",
       "      <td>22819.0</td>\n",
       "      <td>2153.0</td>\n",
       "    </tr>\n",
       "    <tr>\n",
       "      <th>2</th>\n",
       "      <td>Albanie</td>\n",
       "      <td>660.0</td>\n",
       "      <td>174.0</td>\n",
       "      <td>3188.0</td>\n",
       "      <td>1095.54</td>\n",
       "      <td>106.48</td>\n",
       "      <td>111.37</td>\n",
       "      <td>4758.0</td>\n",
       "      <td>94.0</td>\n",
       "      <td>933.0</td>\n",
       "      <td>3476.0</td>\n",
       "      <td>276.0</td>\n",
       "      <td>3964.0</td>\n",
       "      <td>55.0</td>\n",
       "      <td>113.0</td>\n",
       "      <td>-45.0</td>\n",
       "    </tr>\n",
       "    <tr>\n",
       "      <th>3</th>\n",
       "      <td>Algérie</td>\n",
       "      <td>4352.0</td>\n",
       "      <td>1707.0</td>\n",
       "      <td>3293.0</td>\n",
       "      <td>809.13</td>\n",
       "      <td>76.48</td>\n",
       "      <td>91.92</td>\n",
       "      <td>42630.0</td>\n",
       "      <td>655.0</td>\n",
       "      <td>17403.0</td>\n",
       "      <td>31729.0</td>\n",
       "      <td>3753.0</td>\n",
       "      <td>26359.0</td>\n",
       "      <td>449.0</td>\n",
       "      <td>637.0</td>\n",
       "      <td>-479.0</td>\n",
       "    </tr>\n",
       "    <tr>\n",
       "      <th>4</th>\n",
       "      <td>Allemagne</td>\n",
       "      <td>30209.0</td>\n",
       "      <td>7711.0</td>\n",
       "      <td>3503.0</td>\n",
       "      <td>957.52</td>\n",
       "      <td>141.62</td>\n",
       "      <td>101.39</td>\n",
       "      <td>162275.0</td>\n",
       "      <td>57431.0</td>\n",
       "      <td>65353.0</td>\n",
       "      <td>79238.0</td>\n",
       "      <td>3781.0</td>\n",
       "      <td>154547.0</td>\n",
       "      <td>1551.0</td>\n",
       "      <td>39842.0</td>\n",
       "      <td>-192.0</td>\n",
       "    </tr>\n",
       "  </tbody>\n",
       "</table>\n",
       "</div>"
      ],
      "text/plain": [
       "             Zone  Aliments pour animaux  Autres Utilisations  \\\n",
       "0     Afghanistan                  768.0                415.0   \n",
       "1  Afrique du Sud                 5309.0                876.0   \n",
       "2         Albanie                  660.0                174.0   \n",
       "3         Algérie                 4352.0               1707.0   \n",
       "4       Allemagne                30209.0               7711.0   \n",
       "\n",
       "   Disponibilité alimentaire (Kcal/personne/jour)  \\\n",
       "0                                          2087.0   \n",
       "1                                          3020.0   \n",
       "2                                          3188.0   \n",
       "3                                          3293.0   \n",
       "4                                          3503.0   \n",
       "\n",
       "   Disponibilité alimentaire en quantité (kg/personne/an)  \\\n",
       "0                                             351.41        \n",
       "1                                             564.80        \n",
       "2                                            1095.54        \n",
       "3                                             809.13        \n",
       "4                                             957.52        \n",
       "\n",
       "   Disponibilité de matière grasse en quantité (g/personne/jour)  \\\n",
       "0                                              33.50               \n",
       "1                                              83.58               \n",
       "2                                             106.48               \n",
       "3                                              76.48               \n",
       "4                                             141.62               \n",
       "\n",
       "   Disponibilité de protéines en quantité (g/personne/jour)  \\\n",
       "0                                              58.26          \n",
       "1                                              85.33          \n",
       "2                                             111.37          \n",
       "3                                              91.92          \n",
       "4                                             101.39          \n",
       "\n",
       "   Disponibilité intérieure  Exportations - Quantité  Importations - Quantité  \\\n",
       "0                   13515.0                    278.0                   2988.0   \n",
       "1                   61256.0                  11674.0                   7517.0   \n",
       "2                    4758.0                     94.0                    933.0   \n",
       "3                   42630.0                    655.0                  17403.0   \n",
       "4                  162275.0                  57431.0                  65353.0   \n",
       "\n",
       "   Nourriture  Pertes  Production  Semences  Traitement  Variation de stock  \n",
       "0     10735.0  1135.0     11171.0     395.0        63.0              -368.0  \n",
       "1     29812.0  2193.0     63263.0     253.0     22819.0              2153.0  \n",
       "2      3476.0   276.0      3964.0      55.0       113.0               -45.0  \n",
       "3     31729.0  3753.0     26359.0     449.0       637.0              -479.0  \n",
       "4     79238.0  3781.0    154547.0    1551.0     39842.0              -192.0  "
      ]
     },
     "execution_count": 24,
     "metadata": {},
     "output_type": "execute_result"
    }
   ],
   "source": [
    "zone_data_alimentaire.reset_index(inplace = True)\n",
    "zone_data_alimentaire['Zone'].replace({\"Royaume-Uni\": \"Royaume-Uni de Grande-Bretagne et d'Irlande du Nord\", \"Tchéquie (la)\": \"Tchéquie\"}, inplace=True) \n",
    "zone_data_alimentaire.head()"
   ]
  },
  {
   "cell_type": "code",
   "execution_count": 25,
   "id": "cacabbbe-7bc9-4d2e-8955-a304bf6a6f22",
   "metadata": {},
   "outputs": [
    {
     "data": {
      "text/html": [
       "<div>\n",
       "<style scoped>\n",
       "    .dataframe tbody tr th:only-of-type {\n",
       "        vertical-align: middle;\n",
       "    }\n",
       "\n",
       "    .dataframe tbody tr th {\n",
       "        vertical-align: top;\n",
       "    }\n",
       "\n",
       "    .dataframe thead th {\n",
       "        text-align: right;\n",
       "    }\n",
       "</style>\n",
       "<table border=\"1\" class=\"dataframe\">\n",
       "  <thead>\n",
       "    <tr style=\"text-align: right;\">\n",
       "      <th></th>\n",
       "      <th>Zone</th>\n",
       "      <th>Disponibilité alimentaire (Kcal/personne/jour)</th>\n",
       "      <th>Valeur</th>\n",
       "    </tr>\n",
       "  </thead>\n",
       "  <tbody>\n",
       "    <tr>\n",
       "      <th>0</th>\n",
       "      <td>Afghanistan</td>\n",
       "      <td>2087.0</td>\n",
       "      <td>36296113.0</td>\n",
       "    </tr>\n",
       "    <tr>\n",
       "      <th>1</th>\n",
       "      <td>Afrique du Sud</td>\n",
       "      <td>3020.0</td>\n",
       "      <td>57009756.0</td>\n",
       "    </tr>\n",
       "    <tr>\n",
       "      <th>2</th>\n",
       "      <td>Albanie</td>\n",
       "      <td>3188.0</td>\n",
       "      <td>2884169.0</td>\n",
       "    </tr>\n",
       "    <tr>\n",
       "      <th>3</th>\n",
       "      <td>Algérie</td>\n",
       "      <td>3293.0</td>\n",
       "      <td>41389189.0</td>\n",
       "    </tr>\n",
       "    <tr>\n",
       "      <th>4</th>\n",
       "      <td>Allemagne</td>\n",
       "      <td>3503.0</td>\n",
       "      <td>82658409.0</td>\n",
       "    </tr>\n",
       "  </tbody>\n",
       "</table>\n",
       "</div>"
      ],
      "text/plain": [
       "             Zone  Disponibilité alimentaire (Kcal/personne/jour)      Valeur\n",
       "0     Afghanistan                                          2087.0  36296113.0\n",
       "1  Afrique du Sud                                          3020.0  57009756.0\n",
       "2         Albanie                                          3188.0   2884169.0\n",
       "3         Algérie                                          3293.0  41389189.0\n",
       "4       Allemagne                                          3503.0  82658409.0"
      ]
     },
     "execution_count": 25,
     "metadata": {},
     "output_type": "execute_result"
    }
   ],
   "source": [
    "df_merge_population_dispo_alimentaire = zone_data_alimentaire[['Zone', 'Disponibilité alimentaire (Kcal/personne/jour)']].merge(data_pop_zone_val_2017, how ='left', on= \"Zone\")\n",
    "df_merge_population_dispo_alimentaire.head()"
   ]
  },
  {
   "cell_type": "markdown",
   "id": "8a0bc975-d2e7-4822-81b9-9a01aa1ebefc",
   "metadata": {
    "tags": []
   },
   "source": [
    "##### Création de la colone <span style=\"color:crimson\">Disponibilité alimentaire (Kcal/jour)</span> 2.2.5 <a class=\"anchor\" id=\"section_2_2_5\"></a>"
   ]
  },
  {
   "cell_type": "code",
   "execution_count": 26,
   "id": "2961e8b1-807c-4d05-8cfc-709072ebfec5",
   "metadata": {},
   "outputs": [
    {
     "data": {
      "text/html": [
       "<div>\n",
       "<style scoped>\n",
       "    .dataframe tbody tr th:only-of-type {\n",
       "        vertical-align: middle;\n",
       "    }\n",
       "\n",
       "    .dataframe tbody tr th {\n",
       "        vertical-align: top;\n",
       "    }\n",
       "\n",
       "    .dataframe thead th {\n",
       "        text-align: right;\n",
       "    }\n",
       "</style>\n",
       "<table border=\"1\" class=\"dataframe\">\n",
       "  <thead>\n",
       "    <tr style=\"text-align: right;\">\n",
       "      <th></th>\n",
       "      <th>Zone</th>\n",
       "      <th>Disponibilité alimentaire (Kcal/personne/jour)</th>\n",
       "      <th>Valeur</th>\n",
       "      <th>Disponibilité alimentaire (Kcal/jour)</th>\n",
       "    </tr>\n",
       "  </thead>\n",
       "  <tbody>\n",
       "    <tr>\n",
       "      <th>0</th>\n",
       "      <td>Afghanistan</td>\n",
       "      <td>2087.0</td>\n",
       "      <td>36296113.0</td>\n",
       "      <td>7.574999e+10</td>\n",
       "    </tr>\n",
       "    <tr>\n",
       "      <th>1</th>\n",
       "      <td>Afrique du Sud</td>\n",
       "      <td>3020.0</td>\n",
       "      <td>57009756.0</td>\n",
       "      <td>1.721695e+11</td>\n",
       "    </tr>\n",
       "    <tr>\n",
       "      <th>2</th>\n",
       "      <td>Albanie</td>\n",
       "      <td>3188.0</td>\n",
       "      <td>2884169.0</td>\n",
       "      <td>9.194731e+09</td>\n",
       "    </tr>\n",
       "    <tr>\n",
       "      <th>3</th>\n",
       "      <td>Algérie</td>\n",
       "      <td>3293.0</td>\n",
       "      <td>41389189.0</td>\n",
       "      <td>1.362946e+11</td>\n",
       "    </tr>\n",
       "    <tr>\n",
       "      <th>4</th>\n",
       "      <td>Allemagne</td>\n",
       "      <td>3503.0</td>\n",
       "      <td>82658409.0</td>\n",
       "      <td>2.895524e+11</td>\n",
       "    </tr>\n",
       "  </tbody>\n",
       "</table>\n",
       "</div>"
      ],
      "text/plain": [
       "             Zone  Disponibilité alimentaire (Kcal/personne/jour)      Valeur  \\\n",
       "0     Afghanistan                                          2087.0  36296113.0   \n",
       "1  Afrique du Sud                                          3020.0  57009756.0   \n",
       "2         Albanie                                          3188.0   2884169.0   \n",
       "3         Algérie                                          3293.0  41389189.0   \n",
       "4       Allemagne                                          3503.0  82658409.0   \n",
       "\n",
       "   Disponibilité alimentaire (Kcal/jour)  \n",
       "0                           7.574999e+10  \n",
       "1                           1.721695e+11  \n",
       "2                           9.194731e+09  \n",
       "3                           1.362946e+11  \n",
       "4                           2.895524e+11  "
      ]
     },
     "execution_count": 26,
     "metadata": {},
     "output_type": "execute_result"
    }
   ],
   "source": [
    "df_merge_population_dispo_alimentaire['Disponibilité alimentaire (Kcal/jour)'] = df_merge_population_dispo_alimentaire['Disponibilité alimentaire (Kcal/personne/jour)'] * df_merge_population_dispo_alimentaire['Valeur'] \n",
    "df_merge_population_dispo_alimentaire.head()"
   ]
  },
  {
   "cell_type": "code",
   "execution_count": 27,
   "id": "0843e51d-f9e9-47d9-b5f3-031feba22f74",
   "metadata": {},
   "outputs": [
    {
     "data": {
      "text/html": [
       "<div>\n",
       "<style scoped>\n",
       "    .dataframe tbody tr th:only-of-type {\n",
       "        vertical-align: middle;\n",
       "    }\n",
       "\n",
       "    .dataframe tbody tr th {\n",
       "        vertical-align: top;\n",
       "    }\n",
       "\n",
       "    .dataframe thead th {\n",
       "        text-align: right;\n",
       "    }\n",
       "</style>\n",
       "<table border=\"1\" class=\"dataframe\">\n",
       "  <thead>\n",
       "    <tr style=\"text-align: right;\">\n",
       "      <th></th>\n",
       "      <th>Zone</th>\n",
       "      <th>Disponibilité alimentaire (Kcal/personne/jour)</th>\n",
       "      <th>Valeur</th>\n",
       "      <th>Disponibilité alimentaire (Kcal/jour)</th>\n",
       "    </tr>\n",
       "  </thead>\n",
       "  <tbody>\n",
       "  </tbody>\n",
       "</table>\n",
       "</div>"
      ],
      "text/plain": [
       "Empty DataFrame\n",
       "Columns: [Zone, Disponibilité alimentaire (Kcal/personne/jour), Valeur, Disponibilité alimentaire (Kcal/jour)]\n",
       "Index: []"
      ]
     },
     "execution_count": 27,
     "metadata": {},
     "output_type": "execute_result"
    }
   ],
   "source": [
    "df_merge_population_dispo_alimentaire.loc[df_merge_population_dispo_alimentaire.isnull().any(axis=1)] "
   ]
  },
  {
   "cell_type": "markdown",
   "id": "dca20192-a64e-44c7-b232-261afa00db81",
   "metadata": {
    "tags": []
   },
   "source": [
    "##### Création de la colone <span style=\"color:crimson\">Population totale par pays pouvant etre nourri</span> 2.2.6 <a class=\"anchor\" id=\"section_2_2_6\"></a>"
   ]
  },
  {
   "cell_type": "code",
   "execution_count": 28,
   "id": "a8e1c6d1-8478-45a1-895d-2ab2449960c8",
   "metadata": {},
   "outputs": [
    {
     "data": {
      "text/html": [
       "<div>\n",
       "<style scoped>\n",
       "    .dataframe tbody tr th:only-of-type {\n",
       "        vertical-align: middle;\n",
       "    }\n",
       "\n",
       "    .dataframe tbody tr th {\n",
       "        vertical-align: top;\n",
       "    }\n",
       "\n",
       "    .dataframe thead th {\n",
       "        text-align: right;\n",
       "    }\n",
       "</style>\n",
       "<table border=\"1\" class=\"dataframe\">\n",
       "  <thead>\n",
       "    <tr style=\"text-align: right;\">\n",
       "      <th></th>\n",
       "      <th>Zone</th>\n",
       "      <th>Disponibilité alimentaire (Kcal/personne/jour)</th>\n",
       "      <th>Valeur</th>\n",
       "      <th>Disponibilité alimentaire (Kcal/jour)</th>\n",
       "      <th>population totale par pays pouvant etre nourri</th>\n",
       "    </tr>\n",
       "  </thead>\n",
       "  <tbody>\n",
       "    <tr>\n",
       "      <th>0</th>\n",
       "      <td>Afghanistan</td>\n",
       "      <td>2087.0</td>\n",
       "      <td>36296113.0</td>\n",
       "      <td>7.574999e+10</td>\n",
       "      <td>3.156249e+07</td>\n",
       "    </tr>\n",
       "    <tr>\n",
       "      <th>1</th>\n",
       "      <td>Afrique du Sud</td>\n",
       "      <td>3020.0</td>\n",
       "      <td>57009756.0</td>\n",
       "      <td>1.721695e+11</td>\n",
       "      <td>7.173728e+07</td>\n",
       "    </tr>\n",
       "    <tr>\n",
       "      <th>2</th>\n",
       "      <td>Albanie</td>\n",
       "      <td>3188.0</td>\n",
       "      <td>2884169.0</td>\n",
       "      <td>9.194731e+09</td>\n",
       "      <td>3.831138e+06</td>\n",
       "    </tr>\n",
       "    <tr>\n",
       "      <th>3</th>\n",
       "      <td>Algérie</td>\n",
       "      <td>3293.0</td>\n",
       "      <td>41389189.0</td>\n",
       "      <td>1.362946e+11</td>\n",
       "      <td>5.678942e+07</td>\n",
       "    </tr>\n",
       "    <tr>\n",
       "      <th>4</th>\n",
       "      <td>Allemagne</td>\n",
       "      <td>3503.0</td>\n",
       "      <td>82658409.0</td>\n",
       "      <td>2.895524e+11</td>\n",
       "      <td>1.206468e+08</td>\n",
       "    </tr>\n",
       "  </tbody>\n",
       "</table>\n",
       "</div>"
      ],
      "text/plain": [
       "             Zone  Disponibilité alimentaire (Kcal/personne/jour)      Valeur  \\\n",
       "0     Afghanistan                                          2087.0  36296113.0   \n",
       "1  Afrique du Sud                                          3020.0  57009756.0   \n",
       "2         Albanie                                          3188.0   2884169.0   \n",
       "3         Algérie                                          3293.0  41389189.0   \n",
       "4       Allemagne                                          3503.0  82658409.0   \n",
       "\n",
       "   Disponibilité alimentaire (Kcal/jour)  \\\n",
       "0                           7.574999e+10   \n",
       "1                           1.721695e+11   \n",
       "2                           9.194731e+09   \n",
       "3                           1.362946e+11   \n",
       "4                           2.895524e+11   \n",
       "\n",
       "   population totale par pays pouvant etre nourri  \n",
       "0                                    3.156249e+07  \n",
       "1                                    7.173728e+07  \n",
       "2                                    3.831138e+06  \n",
       "3                                    5.678942e+07  \n",
       "4                                    1.206468e+08  "
      ]
     },
     "execution_count": 28,
     "metadata": {},
     "output_type": "execute_result"
    }
   ],
   "source": [
    "df_merge_population_dispo_alimentaire['population totale par pays pouvant etre nourri'] = df_merge_population_dispo_alimentaire['Disponibilité alimentaire (Kcal/jour)'] / 2400 \n",
    "df_merge_population_dispo_alimentaire.head()"
   ]
  },
  {
   "cell_type": "markdown",
   "id": "3fe91926-8018-442c-a4cd-f9dc7efc2ed5",
   "metadata": {
    "tags": []
   },
   "source": [
    "#### Résultat du nombre théorique de personnes pouvant etre nourri 2.3 <a class=\"anchor\" id=\"section_2_3\"></a>"
   ]
  },
  {
   "cell_type": "code",
   "execution_count": 29,
   "id": "1d1d87c4-eda3-4d14-9a75-a2c3c21aa702",
   "metadata": {},
   "outputs": [
    {
     "name": "stdout",
     "output_type": "stream",
     "text": [
      "Le nombre théorique de personnes qui pourraient être nourries est: 8825901144.55\n"
     ]
    }
   ],
   "source": [
    "nbr_theorique_pers_pouvant_etre_nourri = df_merge_population_dispo_alimentaire.iloc[: , 4].sum()\n",
    "print(f'Le nombre théorique de personnes qui pourraient être nourries est: {round(nbr_theorique_pers_pouvant_etre_nourri,2)}')"
   ]
  },
  {
   "cell_type": "markdown",
   "id": "4df57cc1-1c22-433f-9e7e-184b4179b141",
   "metadata": {
    "tags": []
   },
   "source": [
    "#### Resulat en pourcentage 2.4 <a class=\"anchor\" id=\"section_2_4\"></a>"
   ]
  },
  {
   "cell_type": "code",
   "execution_count": 30,
   "id": "caf8e706-9557-4425-8f4f-dba78c697c2e",
   "metadata": {},
   "outputs": [
    {
     "name": "stdout",
     "output_type": "stream",
     "text": [
      "Le nombre théorique de personnes qui pourraient être nourries est: 119.77 %\n"
     ]
    }
   ],
   "source": [
    "nombre_total_pers_mondial = df_merge_population_dispo_alimentaire.iloc[: , 2].sum()\n",
    "pourcentage_pers_pouvant_etre_nourri = round(nbr_theorique_pers_pouvant_etre_nourri * 100 / nombre_total_pers_mondial,2)\n",
    "print(f'Le nombre théorique de personnes qui pourraient être nourries est: {pourcentage_pers_pouvant_etre_nourri} %')"
   ]
  },
  {
   "cell_type": "code",
   "execution_count": 31,
   "id": "a44988d8-e03c-4c88-bc3a-ae0dea8300e7",
   "metadata": {},
   "outputs": [
    {
     "data": {
      "image/png": "[encoded data removed]",
      "text/plain": [
       "<Figure size 640x480 with 1 Axes>"
      ]
     },
     "metadata": {},
     "output_type": "display_data"
    }
   ],
   "source": [
    "fig, ax = plt.subplots()\n",
    "\n",
    "pop = ['Population pouvant\\n se nourrir', 'Population nourrit', 'Population en \\nsous-nutrition']\n",
    "counts = [pourcentage_pers_pouvant_etre_nourri, pop_nourri_2017, proportion_pop_2017]\n",
    "bar_labels = ['pop', 'blue', 'orange']\n",
    "bar_colors = ['tab:blue', 'tab:blue', 'tab:blue']\n",
    "\n",
    "ax.bar(pop, counts, label=bar_labels, color=bar_colors)\n",
    "plt.grid(axis='y')\n",
    "plt.ylim(0, 110)\n",
    "plt.yticks([0, 10, 50, 70, 90, 110, 120, 130])\n",
    "for i in range(3):\n",
    "    plt.text(i - 0.06, counts[i] , round(counts[i],1))\n",
    "\n",
    "ax.set_ylabel('Pourcent de la population')\n",
    "ax.set_title('Variation entre la population pouvant etre nourrit\\n et celle en état de sous nutrition.', fontsize=10, color= '#5f89c4', fontweight='bold')\n",
    "\n",
    "plt.show()"
   ]
  },
  {
   "cell_type": "markdown",
   "id": "da9b821c-734b-4116-9b99-ed05f3f9fac8",
   "metadata": {
    "tags": []
   },
   "source": [
    "### Requete 3: disponibilité alimentaire des produits végétaux. <a class=\"anchor\" id=\"requete3\"></a>\n",
    "[Retour au sommaire](#sommaire)"
   ]
  },
  {
   "cell_type": "markdown",
   "id": "363dcebf-fa4a-4060-9c09-58cf7ceb819d",
   "metadata": {
    "tags": []
   },
   "source": [
    "#### Filtre par Origine vegetale du df ``` data_dispo_alimentaire``` 3.1 <a class=\"anchor\" id=\"section_3_1\"></a>"
   ]
  },
  {
   "cell_type": "code",
   "execution_count": 32,
   "id": "18afc338-6450-4482-a9bf-c3c120db71a3",
   "metadata": {},
   "outputs": [
    {
     "data": {
      "text/html": [
       "<div>\n",
       "<style scoped>\n",
       "    .dataframe tbody tr th:only-of-type {\n",
       "        vertical-align: middle;\n",
       "    }\n",
       "\n",
       "    .dataframe tbody tr th {\n",
       "        vertical-align: top;\n",
       "    }\n",
       "\n",
       "    .dataframe thead th {\n",
       "        text-align: right;\n",
       "    }\n",
       "</style>\n",
       "<table border=\"1\" class=\"dataframe\">\n",
       "  <thead>\n",
       "    <tr style=\"text-align: right;\">\n",
       "      <th></th>\n",
       "      <th>Zone</th>\n",
       "      <th>Disponibilité alimentaire (Kcal/personne/jour)</th>\n",
       "    </tr>\n",
       "  </thead>\n",
       "  <tbody>\n",
       "    <tr>\n",
       "      <th>1</th>\n",
       "      <td>Afghanistan</td>\n",
       "      <td>1.0</td>\n",
       "    </tr>\n",
       "    <tr>\n",
       "      <th>2</th>\n",
       "      <td>Afghanistan</td>\n",
       "      <td>1.0</td>\n",
       "    </tr>\n",
       "    <tr>\n",
       "      <th>3</th>\n",
       "      <td>Afghanistan</td>\n",
       "      <td>0.0</td>\n",
       "    </tr>\n",
       "    <tr>\n",
       "      <th>4</th>\n",
       "      <td>Afghanistan</td>\n",
       "      <td>4.0</td>\n",
       "    </tr>\n",
       "    <tr>\n",
       "      <th>6</th>\n",
       "      <td>Afghanistan</td>\n",
       "      <td>0.0</td>\n",
       "    </tr>\n",
       "    <tr>\n",
       "      <th>7</th>\n",
       "      <td>Afghanistan</td>\n",
       "      <td>1369.0</td>\n",
       "    </tr>\n",
       "    <tr>\n",
       "      <th>8</th>\n",
       "      <td>Afghanistan</td>\n",
       "      <td>0.0</td>\n",
       "    </tr>\n",
       "    <tr>\n",
       "      <th>9</th>\n",
       "      <td>Afghanistan</td>\n",
       "      <td>0.0</td>\n",
       "    </tr>\n",
       "    <tr>\n",
       "      <th>10</th>\n",
       "      <td>Afghanistan</td>\n",
       "      <td>0.0</td>\n",
       "    </tr>\n",
       "    <tr>\n",
       "      <th>12</th>\n",
       "      <td>Afghanistan</td>\n",
       "      <td>0.0</td>\n",
       "    </tr>\n",
       "  </tbody>\n",
       "</table>\n",
       "</div>"
      ],
      "text/plain": [
       "           Zone  Disponibilité alimentaire (Kcal/personne/jour)\n",
       "1   Afghanistan                                             1.0\n",
       "2   Afghanistan                                             1.0\n",
       "3   Afghanistan                                             0.0\n",
       "4   Afghanistan                                             4.0\n",
       "6   Afghanistan                                             0.0\n",
       "7   Afghanistan                                          1369.0\n",
       "8   Afghanistan                                             0.0\n",
       "9   Afghanistan                                             0.0\n",
       "10  Afghanistan                                             0.0\n",
       "12  Afghanistan                                             0.0"
      ]
     },
     "execution_count": 32,
     "metadata": {},
     "output_type": "execute_result"
    }
   ],
   "source": [
    "data_dispo_alimentaire_vegetale = data_dispo_alimentaire.loc[data_dispo_alimentaire['Origine'] == 'vegetale', ['Zone', 'Disponibilité alimentaire (Kcal/personne/jour)']]\n",
    "data_dispo_alimentaire_vegetale.head(10)"
   ]
  },
  {
   "cell_type": "markdown",
   "id": "e71022de-96c0-4665-bc60-e949659dbc35",
   "metadata": {
    "tags": []
   },
   "source": [
    "##### Agrégation par Zone du df ```dispo_alimentaire_vegetale``` 3.1.1 <a class=\"anchor\" id=\"section_3_1_1\"></a>"
   ]
  },
  {
   "cell_type": "code",
   "execution_count": 33,
   "id": "d36a1bfd-510a-4352-be94-542eef69f11f",
   "metadata": {},
   "outputs": [
    {
     "data": {
      "text/html": [
       "<div>\n",
       "<style scoped>\n",
       "    .dataframe tbody tr th:only-of-type {\n",
       "        vertical-align: middle;\n",
       "    }\n",
       "\n",
       "    .dataframe tbody tr th {\n",
       "        vertical-align: top;\n",
       "    }\n",
       "\n",
       "    .dataframe thead th {\n",
       "        text-align: right;\n",
       "    }\n",
       "</style>\n",
       "<table border=\"1\" class=\"dataframe\">\n",
       "  <thead>\n",
       "    <tr style=\"text-align: right;\">\n",
       "      <th></th>\n",
       "      <th>Disponibilité alimentaire (Kcal/personne/jour)</th>\n",
       "    </tr>\n",
       "    <tr>\n",
       "      <th>Zone</th>\n",
       "      <th></th>\n",
       "    </tr>\n",
       "  </thead>\n",
       "  <tbody>\n",
       "    <tr>\n",
       "      <th>Émirats arabes unis</th>\n",
       "      <td>2718.0</td>\n",
       "    </tr>\n",
       "    <tr>\n",
       "      <th>Équateur</th>\n",
       "      <td>1732.0</td>\n",
       "    </tr>\n",
       "    <tr>\n",
       "      <th>États-Unis d'Amérique</th>\n",
       "      <td>2698.0</td>\n",
       "    </tr>\n",
       "    <tr>\n",
       "      <th>Éthiopie</th>\n",
       "      <td>2005.0</td>\n",
       "    </tr>\n",
       "    <tr>\n",
       "      <th>Îles Salomon</th>\n",
       "      <td>2187.0</td>\n",
       "    </tr>\n",
       "  </tbody>\n",
       "</table>\n",
       "</div>"
      ],
      "text/plain": [
       "                       Disponibilité alimentaire (Kcal/personne/jour)\n",
       "Zone                                                                 \n",
       "Émirats arabes unis                                            2718.0\n",
       "Équateur                                                       1732.0\n",
       "États-Unis d'Amérique                                          2698.0\n",
       "Éthiopie                                                       2005.0\n",
       "Îles Salomon                                                   2187.0"
      ]
     },
     "execution_count": 33,
     "metadata": {},
     "output_type": "execute_result"
    }
   ],
   "source": [
    "data_dispo_alimentaire_vegetale_zone = data_dispo_alimentaire_vegetale.groupby('Zone').sum()\n",
    "data_dispo_alimentaire_vegetale_zone.tail()"
   ]
  },
  {
   "cell_type": "markdown",
   "id": "8bba29d7-3020-4b0e-a15b-192fe0dbc901",
   "metadata": {
    "tags": []
   },
   "source": [
    "#### Merge des df ```data_dispo_alimentaire_vegetale_zone``` et ```data_pop_zone_val_2017``` 3.2 <a class=\"anchor\" id=\"section_3_2\"></a>"
   ]
  },
  {
   "cell_type": "code",
   "execution_count": 34,
   "id": "7fea1a25-9bc0-4aef-9033-82a7a9734a9b",
   "metadata": {},
   "outputs": [
    {
     "data": {
      "text/html": [
       "<div>\n",
       "<style scoped>\n",
       "    .dataframe tbody tr th:only-of-type {\n",
       "        vertical-align: middle;\n",
       "    }\n",
       "\n",
       "    .dataframe tbody tr th {\n",
       "        vertical-align: top;\n",
       "    }\n",
       "\n",
       "    .dataframe thead th {\n",
       "        text-align: right;\n",
       "    }\n",
       "</style>\n",
       "<table border=\"1\" class=\"dataframe\">\n",
       "  <thead>\n",
       "    <tr style=\"text-align: right;\">\n",
       "      <th></th>\n",
       "      <th>Zone</th>\n",
       "      <th>Disponibilité alimentaire (Kcal/personne/jour)</th>\n",
       "      <th>Valeur</th>\n",
       "    </tr>\n",
       "  </thead>\n",
       "  <tbody>\n",
       "    <tr>\n",
       "      <th>0</th>\n",
       "      <td>Afghanistan</td>\n",
       "      <td>1871.0</td>\n",
       "      <td>36296113.0</td>\n",
       "    </tr>\n",
       "    <tr>\n",
       "      <th>1</th>\n",
       "      <td>Afrique du Sud</td>\n",
       "      <td>2533.0</td>\n",
       "      <td>57009756.0</td>\n",
       "    </tr>\n",
       "    <tr>\n",
       "      <th>2</th>\n",
       "      <td>Albanie</td>\n",
       "      <td>2203.0</td>\n",
       "      <td>2884169.0</td>\n",
       "    </tr>\n",
       "    <tr>\n",
       "      <th>3</th>\n",
       "      <td>Algérie</td>\n",
       "      <td>2915.0</td>\n",
       "      <td>41389189.0</td>\n",
       "    </tr>\n",
       "    <tr>\n",
       "      <th>4</th>\n",
       "      <td>Allemagne</td>\n",
       "      <td>2461.0</td>\n",
       "      <td>82658409.0</td>\n",
       "    </tr>\n",
       "  </tbody>\n",
       "</table>\n",
       "</div>"
      ],
      "text/plain": [
       "             Zone  Disponibilité alimentaire (Kcal/personne/jour)      Valeur\n",
       "0     Afghanistan                                          1871.0  36296113.0\n",
       "1  Afrique du Sud                                          2533.0  57009756.0\n",
       "2         Albanie                                          2203.0   2884169.0\n",
       "3         Algérie                                          2915.0  41389189.0\n",
       "4       Allemagne                                          2461.0  82658409.0"
      ]
     },
     "execution_count": 34,
     "metadata": {},
     "output_type": "execute_result"
    }
   ],
   "source": [
    "df_merge_population_dispo_alimentaire_vegetale = data_dispo_alimentaire_vegetale_zone[['Disponibilité alimentaire (Kcal/personne/jour)']].merge(data_pop_zone_val_2017, how ='left', on= \"Zone\")\n",
    "df_merge_population_dispo_alimentaire_vegetale.head()"
   ]
  },
  {
   "cell_type": "markdown",
   "id": "e874bcbb-daba-4cc0-9ce7-cb454ca605ab",
   "metadata": {
    "tags": []
   },
   "source": [
    "##### Conaitre les valeurs non attribuées dans la merge 3.2.1 <a class=\"anchor\" id=\"section_3_2_1\"></a>"
   ]
  },
  {
   "cell_type": "code",
   "execution_count": 35,
   "id": "25ba3f38-bb77-435b-95f5-e86e2920dfb1",
   "metadata": {},
   "outputs": [
    {
     "data": {
      "text/html": [
       "<div>\n",
       "<style scoped>\n",
       "    .dataframe tbody tr th:only-of-type {\n",
       "        vertical-align: middle;\n",
       "    }\n",
       "\n",
       "    .dataframe tbody tr th {\n",
       "        vertical-align: top;\n",
       "    }\n",
       "\n",
       "    .dataframe thead th {\n",
       "        text-align: right;\n",
       "    }\n",
       "</style>\n",
       "<table border=\"1\" class=\"dataframe\">\n",
       "  <thead>\n",
       "    <tr style=\"text-align: right;\">\n",
       "      <th></th>\n",
       "      <th>Zone</th>\n",
       "      <th>Disponibilité alimentaire (Kcal/personne/jour)</th>\n",
       "      <th>Valeur</th>\n",
       "    </tr>\n",
       "  </thead>\n",
       "  <tbody>\n",
       "    <tr>\n",
       "      <th>126</th>\n",
       "      <td>Royaume-Uni</td>\n",
       "      <td>2443.0</td>\n",
       "      <td>NaN</td>\n",
       "    </tr>\n",
       "    <tr>\n",
       "      <th>152</th>\n",
       "      <td>Tchéquie (la)</td>\n",
       "      <td>2418.0</td>\n",
       "      <td>NaN</td>\n",
       "    </tr>\n",
       "  </tbody>\n",
       "</table>\n",
       "</div>"
      ],
      "text/plain": [
       "              Zone  Disponibilité alimentaire (Kcal/personne/jour)  Valeur\n",
       "126    Royaume-Uni                                          2443.0     NaN\n",
       "152  Tchéquie (la)                                          2418.0     NaN"
      ]
     },
     "execution_count": 35,
     "metadata": {},
     "output_type": "execute_result"
    }
   ],
   "source": [
    "df_merge_population_dispo_alimentaire_vegetale.loc[df_merge_population_dispo_alimentaire_vegetale.isnull().any(axis=1)] "
   ]
  },
  {
   "cell_type": "markdown",
   "id": "dfea5be9-8b85-43d4-a8e7-7b3a5a1adad0",
   "metadata": {
    "tags": []
   },
   "source": [
    "##### Reset l'index du df ```dispo alimentaire``` et remplacer les deux pays par la bonne orthographe 3.2.2 <a class=\"anchor\" id=\"section_3_2_2\"></a>"
   ]
  },
  {
   "cell_type": "code",
   "execution_count": 36,
   "id": "c7aa2b95-3fbb-4445-833a-c6e1df760848",
   "metadata": {},
   "outputs": [],
   "source": [
    "data_dispo_alimentaire_vegetale_zone.reset_index(inplace = True)\n",
    "data_dispo_alimentaire_vegetale_zone['Zone'].replace({\"Royaume-Uni\": \"Royaume-Uni de Grande-Bretagne et d'Irlande du Nord\", \"Tchéquie (la)\": \"Tchéquie\"}, inplace=True) "
   ]
  },
  {
   "cell_type": "code",
   "execution_count": 37,
   "id": "39848229-b22b-46ae-8663-1b61253a4b8c",
   "metadata": {},
   "outputs": [
    {
     "data": {
      "text/html": [
       "<div>\n",
       "<style scoped>\n",
       "    .dataframe tbody tr th:only-of-type {\n",
       "        vertical-align: middle;\n",
       "    }\n",
       "\n",
       "    .dataframe tbody tr th {\n",
       "        vertical-align: top;\n",
       "    }\n",
       "\n",
       "    .dataframe thead th {\n",
       "        text-align: right;\n",
       "    }\n",
       "</style>\n",
       "<table border=\"1\" class=\"dataframe\">\n",
       "  <thead>\n",
       "    <tr style=\"text-align: right;\">\n",
       "      <th></th>\n",
       "      <th>Zone</th>\n",
       "      <th>Disponibilité alimentaire (Kcal/personne/jour)</th>\n",
       "      <th>Valeur</th>\n",
       "    </tr>\n",
       "  </thead>\n",
       "  <tbody>\n",
       "    <tr>\n",
       "      <th>0</th>\n",
       "      <td>Afghanistan</td>\n",
       "      <td>1871.0</td>\n",
       "      <td>36296113.0</td>\n",
       "    </tr>\n",
       "    <tr>\n",
       "      <th>1</th>\n",
       "      <td>Afrique du Sud</td>\n",
       "      <td>2533.0</td>\n",
       "      <td>57009756.0</td>\n",
       "    </tr>\n",
       "    <tr>\n",
       "      <th>2</th>\n",
       "      <td>Albanie</td>\n",
       "      <td>2203.0</td>\n",
       "      <td>2884169.0</td>\n",
       "    </tr>\n",
       "    <tr>\n",
       "      <th>3</th>\n",
       "      <td>Algérie</td>\n",
       "      <td>2915.0</td>\n",
       "      <td>41389189.0</td>\n",
       "    </tr>\n",
       "    <tr>\n",
       "      <th>4</th>\n",
       "      <td>Allemagne</td>\n",
       "      <td>2461.0</td>\n",
       "      <td>82658409.0</td>\n",
       "    </tr>\n",
       "  </tbody>\n",
       "</table>\n",
       "</div>"
      ],
      "text/plain": [
       "             Zone  Disponibilité alimentaire (Kcal/personne/jour)      Valeur\n",
       "0     Afghanistan                                          1871.0  36296113.0\n",
       "1  Afrique du Sud                                          2533.0  57009756.0\n",
       "2         Albanie                                          2203.0   2884169.0\n",
       "3         Algérie                                          2915.0  41389189.0\n",
       "4       Allemagne                                          2461.0  82658409.0"
      ]
     },
     "execution_count": 37,
     "metadata": {},
     "output_type": "execute_result"
    }
   ],
   "source": [
    "df_merge_population_dispo_alimentaire_vegetale = data_dispo_alimentaire_vegetale_zone[['Zone', 'Disponibilité alimentaire (Kcal/personne/jour)']].merge(data_pop_zone_val_2017, how ='left', on= \"Zone\")\n",
    "df_merge_population_dispo_alimentaire_vegetale.head()"
   ]
  },
  {
   "cell_type": "markdown",
   "id": "910e889d-96c5-4326-a115-61fefaba8865",
   "metadata": {
    "tags": []
   },
   "source": [
    "##### Création de la colone <span style=\"color:crimson\">Disponibilité alimentaire (Kcal/jour)</span> 3.2.3 <a class=\"anchor\" id=\"section_3_2_3\"></a>"
   ]
  },
  {
   "cell_type": "code",
   "execution_count": 38,
   "id": "dd5f2948-dd19-424f-aac2-ee6f6540aeb2",
   "metadata": {},
   "outputs": [
    {
     "data": {
      "text/html": [
       "<div>\n",
       "<style scoped>\n",
       "    .dataframe tbody tr th:only-of-type {\n",
       "        vertical-align: middle;\n",
       "    }\n",
       "\n",
       "    .dataframe tbody tr th {\n",
       "        vertical-align: top;\n",
       "    }\n",
       "\n",
       "    .dataframe thead th {\n",
       "        text-align: right;\n",
       "    }\n",
       "</style>\n",
       "<table border=\"1\" class=\"dataframe\">\n",
       "  <thead>\n",
       "    <tr style=\"text-align: right;\">\n",
       "      <th></th>\n",
       "      <th>Zone</th>\n",
       "      <th>Disponibilité alimentaire (Kcal/personne/jour)</th>\n",
       "      <th>Valeur</th>\n",
       "      <th>Disponibilité alimentaire (Kcal/jour)</th>\n",
       "    </tr>\n",
       "  </thead>\n",
       "  <tbody>\n",
       "    <tr>\n",
       "      <th>0</th>\n",
       "      <td>Afghanistan</td>\n",
       "      <td>1871.0</td>\n",
       "      <td>36296113.0</td>\n",
       "      <td>6.791003e+10</td>\n",
       "    </tr>\n",
       "    <tr>\n",
       "      <th>1</th>\n",
       "      <td>Afrique du Sud</td>\n",
       "      <td>2533.0</td>\n",
       "      <td>57009756.0</td>\n",
       "      <td>1.444057e+11</td>\n",
       "    </tr>\n",
       "    <tr>\n",
       "      <th>2</th>\n",
       "      <td>Albanie</td>\n",
       "      <td>2203.0</td>\n",
       "      <td>2884169.0</td>\n",
       "      <td>6.353824e+09</td>\n",
       "    </tr>\n",
       "    <tr>\n",
       "      <th>3</th>\n",
       "      <td>Algérie</td>\n",
       "      <td>2915.0</td>\n",
       "      <td>41389189.0</td>\n",
       "      <td>1.206495e+11</td>\n",
       "    </tr>\n",
       "    <tr>\n",
       "      <th>4</th>\n",
       "      <td>Allemagne</td>\n",
       "      <td>2461.0</td>\n",
       "      <td>82658409.0</td>\n",
       "      <td>2.034223e+11</td>\n",
       "    </tr>\n",
       "  </tbody>\n",
       "</table>\n",
       "</div>"
      ],
      "text/plain": [
       "             Zone  Disponibilité alimentaire (Kcal/personne/jour)      Valeur  \\\n",
       "0     Afghanistan                                          1871.0  36296113.0   \n",
       "1  Afrique du Sud                                          2533.0  57009756.0   \n",
       "2         Albanie                                          2203.0   2884169.0   \n",
       "3         Algérie                                          2915.0  41389189.0   \n",
       "4       Allemagne                                          2461.0  82658409.0   \n",
       "\n",
       "   Disponibilité alimentaire (Kcal/jour)  \n",
       "0                           6.791003e+10  \n",
       "1                           1.444057e+11  \n",
       "2                           6.353824e+09  \n",
       "3                           1.206495e+11  \n",
       "4                           2.034223e+11  "
      ]
     },
     "execution_count": 38,
     "metadata": {},
     "output_type": "execute_result"
    }
   ],
   "source": [
    "df_merge_population_dispo_alimentaire_vegetale['Disponibilité alimentaire (Kcal/jour)'] = df_merge_population_dispo_alimentaire_vegetale['Disponibilité alimentaire (Kcal/personne/jour)'] * df_merge_population_dispo_alimentaire_vegetale['Valeur'] \n",
    "df_merge_population_dispo_alimentaire_vegetale.head()"
   ]
  },
  {
   "cell_type": "code",
   "execution_count": 39,
   "id": "0cc7e164-9e68-4c6e-96cb-b52eb0adb338",
   "metadata": {},
   "outputs": [
    {
     "data": {
      "text/html": [
       "<div>\n",
       "<style scoped>\n",
       "    .dataframe tbody tr th:only-of-type {\n",
       "        vertical-align: middle;\n",
       "    }\n",
       "\n",
       "    .dataframe tbody tr th {\n",
       "        vertical-align: top;\n",
       "    }\n",
       "\n",
       "    .dataframe thead th {\n",
       "        text-align: right;\n",
       "    }\n",
       "</style>\n",
       "<table border=\"1\" class=\"dataframe\">\n",
       "  <thead>\n",
       "    <tr style=\"text-align: right;\">\n",
       "      <th></th>\n",
       "      <th>Zone</th>\n",
       "      <th>Disponibilité alimentaire (Kcal/personne/jour)</th>\n",
       "      <th>Valeur</th>\n",
       "      <th>Disponibilité alimentaire (Kcal/jour)</th>\n",
       "    </tr>\n",
       "  </thead>\n",
       "  <tbody>\n",
       "  </tbody>\n",
       "</table>\n",
       "</div>"
      ],
      "text/plain": [
       "Empty DataFrame\n",
       "Columns: [Zone, Disponibilité alimentaire (Kcal/personne/jour), Valeur, Disponibilité alimentaire (Kcal/jour)]\n",
       "Index: []"
      ]
     },
     "execution_count": 39,
     "metadata": {},
     "output_type": "execute_result"
    }
   ],
   "source": [
    "df_merge_population_dispo_alimentaire_vegetale.loc[df_merge_population_dispo_alimentaire_vegetale.isnull().any(axis=1)] "
   ]
  },
  {
   "cell_type": "markdown",
   "id": "0087258f-3820-4aef-a4df-03027d6bc473",
   "metadata": {
    "tags": []
   },
   "source": [
    "##### Création de la colone <span style=\"color:crimson\">Population totale par pays pouvant etre nourri</span> 3.2.4 <a class=\"anchor\" id=\"section_3_2_4\"></a>"
   ]
  },
  {
   "cell_type": "code",
   "execution_count": 40,
   "id": "d8f383a2-dd0d-451e-8cb3-fba2d5814230",
   "metadata": {},
   "outputs": [
    {
     "data": {
      "text/html": [
       "<div>\n",
       "<style scoped>\n",
       "    .dataframe tbody tr th:only-of-type {\n",
       "        vertical-align: middle;\n",
       "    }\n",
       "\n",
       "    .dataframe tbody tr th {\n",
       "        vertical-align: top;\n",
       "    }\n",
       "\n",
       "    .dataframe thead th {\n",
       "        text-align: right;\n",
       "    }\n",
       "</style>\n",
       "<table border=\"1\" class=\"dataframe\">\n",
       "  <thead>\n",
       "    <tr style=\"text-align: right;\">\n",
       "      <th></th>\n",
       "      <th>Zone</th>\n",
       "      <th>Disponibilité alimentaire (Kcal/personne/jour)</th>\n",
       "      <th>Valeur</th>\n",
       "      <th>Disponibilité alimentaire (Kcal/jour)</th>\n",
       "      <th>population totale par pays pouvant etre nourri</th>\n",
       "    </tr>\n",
       "  </thead>\n",
       "  <tbody>\n",
       "    <tr>\n",
       "      <th>0</th>\n",
       "      <td>Afghanistan</td>\n",
       "      <td>1871.0</td>\n",
       "      <td>36296113.0</td>\n",
       "      <td>6.791003e+10</td>\n",
       "      <td>2.829584e+07</td>\n",
       "    </tr>\n",
       "    <tr>\n",
       "      <th>1</th>\n",
       "      <td>Afrique du Sud</td>\n",
       "      <td>2533.0</td>\n",
       "      <td>57009756.0</td>\n",
       "      <td>1.444057e+11</td>\n",
       "      <td>6.016905e+07</td>\n",
       "    </tr>\n",
       "    <tr>\n",
       "      <th>2</th>\n",
       "      <td>Albanie</td>\n",
       "      <td>2203.0</td>\n",
       "      <td>2884169.0</td>\n",
       "      <td>6.353824e+09</td>\n",
       "      <td>2.647427e+06</td>\n",
       "    </tr>\n",
       "    <tr>\n",
       "      <th>3</th>\n",
       "      <td>Algérie</td>\n",
       "      <td>2915.0</td>\n",
       "      <td>41389189.0</td>\n",
       "      <td>1.206495e+11</td>\n",
       "      <td>5.027062e+07</td>\n",
       "    </tr>\n",
       "    <tr>\n",
       "      <th>4</th>\n",
       "      <td>Allemagne</td>\n",
       "      <td>2461.0</td>\n",
       "      <td>82658409.0</td>\n",
       "      <td>2.034223e+11</td>\n",
       "      <td>8.475931e+07</td>\n",
       "    </tr>\n",
       "  </tbody>\n",
       "</table>\n",
       "</div>"
      ],
      "text/plain": [
       "             Zone  Disponibilité alimentaire (Kcal/personne/jour)      Valeur  \\\n",
       "0     Afghanistan                                          1871.0  36296113.0   \n",
       "1  Afrique du Sud                                          2533.0  57009756.0   \n",
       "2         Albanie                                          2203.0   2884169.0   \n",
       "3         Algérie                                          2915.0  41389189.0   \n",
       "4       Allemagne                                          2461.0  82658409.0   \n",
       "\n",
       "   Disponibilité alimentaire (Kcal/jour)  \\\n",
       "0                           6.791003e+10   \n",
       "1                           1.444057e+11   \n",
       "2                           6.353824e+09   \n",
       "3                           1.206495e+11   \n",
       "4                           2.034223e+11   \n",
       "\n",
       "   population totale par pays pouvant etre nourri  \n",
       "0                                    2.829584e+07  \n",
       "1                                    6.016905e+07  \n",
       "2                                    2.647427e+06  \n",
       "3                                    5.027062e+07  \n",
       "4                                    8.475931e+07  "
      ]
     },
     "execution_count": 40,
     "metadata": {},
     "output_type": "execute_result"
    }
   ],
   "source": [
    "df_merge_population_dispo_alimentaire_vegetale['population totale par pays pouvant etre nourri'] = df_merge_population_dispo_alimentaire_vegetale['Disponibilité alimentaire (Kcal/jour)'] / 2400 \n",
    "df_merge_population_dispo_alimentaire_vegetale.head()"
   ]
  },
  {
   "cell_type": "markdown",
   "id": "07147a19-a58d-4919-8485-09a336e43e3e",
   "metadata": {
    "tags": []
   },
   "source": [
    "#### Résultat du nombre théorique de personnes pouvant etre nourri (origine vegetale) 3.3 <a class=\"anchor\" id=\"section_3_3\"></a>"
   ]
  },
  {
   "cell_type": "code",
   "execution_count": 41,
   "id": "4d72b982-56cd-44d3-a030-101c98d52914",
   "metadata": {},
   "outputs": [
    {
     "name": "stdout",
     "output_type": "stream",
     "text": [
      "Le nombre théorique de personnes qui pourraient être nourries (origine vegetale) est: 7270628924.56\n"
     ]
    }
   ],
   "source": [
    "nbr_theorique_pers_pouvant_etre_nourri = df_merge_population_dispo_alimentaire_vegetale.iloc[: , 4].sum()\n",
    "print(f'Le nombre théorique de personnes qui pourraient être nourries (origine vegetale) est: {round(nbr_theorique_pers_pouvant_etre_nourri,2)}')"
   ]
  },
  {
   "cell_type": "markdown",
   "id": "2fd0b065-b5d0-4069-ab06-aca692a274ad",
   "metadata": {
    "tags": []
   },
   "source": [
    "#### Conaitre les valeurs non attribuées dans la merge "
   ]
  },
  {
   "cell_type": "code",
   "execution_count": 42,
   "id": "385fcfa0-ff08-4d12-b786-83e5551b9e82",
   "metadata": {},
   "outputs": [
    {
     "data": {
      "text/html": [
       "<div>\n",
       "<style scoped>\n",
       "    .dataframe tbody tr th:only-of-type {\n",
       "        vertical-align: middle;\n",
       "    }\n",
       "\n",
       "    .dataframe tbody tr th {\n",
       "        vertical-align: top;\n",
       "    }\n",
       "\n",
       "    .dataframe thead th {\n",
       "        text-align: right;\n",
       "    }\n",
       "</style>\n",
       "<table border=\"1\" class=\"dataframe\">\n",
       "  <thead>\n",
       "    <tr style=\"text-align: right;\">\n",
       "      <th></th>\n",
       "      <th>Zone</th>\n",
       "      <th>Disponibilité alimentaire (Kcal/personne/jour)</th>\n",
       "      <th>Valeur</th>\n",
       "      <th>Disponibilité alimentaire (Kcal/jour)</th>\n",
       "      <th>population totale par pays pouvant etre nourri</th>\n",
       "    </tr>\n",
       "  </thead>\n",
       "  <tbody>\n",
       "  </tbody>\n",
       "</table>\n",
       "</div>"
      ],
      "text/plain": [
       "Empty DataFrame\n",
       "Columns: [Zone, Disponibilité alimentaire (Kcal/personne/jour), Valeur, Disponibilité alimentaire (Kcal/jour), population totale par pays pouvant etre nourri]\n",
       "Index: []"
      ]
     },
     "execution_count": 42,
     "metadata": {},
     "output_type": "execute_result"
    }
   ],
   "source": [
    "df_merge_population_dispo_alimentaire_vegetale.loc[df_merge_population_dispo_alimentaire_vegetale.isnull().any(axis=1)] "
   ]
  },
  {
   "cell_type": "markdown",
   "id": "1b66befb-86d5-4b56-8dcf-58c4f1c546c9",
   "metadata": {
    "tags": []
   },
   "source": [
    "#### Reset l'index du df ```dispo alimentaire``` et remplacer les deux pays par la bonne orthographe"
   ]
  },
  {
   "cell_type": "code",
   "execution_count": 43,
   "id": "f3395fb1-5e71-4789-8cdf-7a6ddcd61230",
   "metadata": {},
   "outputs": [],
   "source": [
    "data_dispo_alimentaire_vegetale_zone.reset_index(inplace = True)\n",
    "data_dispo_alimentaire_vegetale_zone['Zone'].replace({\"Royaume-Uni\": \"Royaume-Uni de Grande-Bretagne et d'Irlande du Nord\", \"Tchéquie (la)\": \"Tchéquie\"}, inplace=True) "
   ]
  },
  {
   "cell_type": "code",
   "execution_count": 44,
   "id": "a405c77e-e3fd-4714-a00a-012539084f6c",
   "metadata": {},
   "outputs": [
    {
     "data": {
      "text/html": [
       "<div>\n",
       "<style scoped>\n",
       "    .dataframe tbody tr th:only-of-type {\n",
       "        vertical-align: middle;\n",
       "    }\n",
       "\n",
       "    .dataframe tbody tr th {\n",
       "        vertical-align: top;\n",
       "    }\n",
       "\n",
       "    .dataframe thead th {\n",
       "        text-align: right;\n",
       "    }\n",
       "</style>\n",
       "<table border=\"1\" class=\"dataframe\">\n",
       "  <thead>\n",
       "    <tr style=\"text-align: right;\">\n",
       "      <th></th>\n",
       "      <th>Zone</th>\n",
       "      <th>Disponibilité alimentaire (Kcal/personne/jour)</th>\n",
       "      <th>Valeur</th>\n",
       "    </tr>\n",
       "  </thead>\n",
       "  <tbody>\n",
       "    <tr>\n",
       "      <th>0</th>\n",
       "      <td>Afghanistan</td>\n",
       "      <td>1871.0</td>\n",
       "      <td>36296113.0</td>\n",
       "    </tr>\n",
       "    <tr>\n",
       "      <th>1</th>\n",
       "      <td>Afrique du Sud</td>\n",
       "      <td>2533.0</td>\n",
       "      <td>57009756.0</td>\n",
       "    </tr>\n",
       "    <tr>\n",
       "      <th>2</th>\n",
       "      <td>Albanie</td>\n",
       "      <td>2203.0</td>\n",
       "      <td>2884169.0</td>\n",
       "    </tr>\n",
       "    <tr>\n",
       "      <th>3</th>\n",
       "      <td>Algérie</td>\n",
       "      <td>2915.0</td>\n",
       "      <td>41389189.0</td>\n",
       "    </tr>\n",
       "    <tr>\n",
       "      <th>4</th>\n",
       "      <td>Allemagne</td>\n",
       "      <td>2461.0</td>\n",
       "      <td>82658409.0</td>\n",
       "    </tr>\n",
       "  </tbody>\n",
       "</table>\n",
       "</div>"
      ],
      "text/plain": [
       "             Zone  Disponibilité alimentaire (Kcal/personne/jour)      Valeur\n",
       "0     Afghanistan                                          1871.0  36296113.0\n",
       "1  Afrique du Sud                                          2533.0  57009756.0\n",
       "2         Albanie                                          2203.0   2884169.0\n",
       "3         Algérie                                          2915.0  41389189.0\n",
       "4       Allemagne                                          2461.0  82658409.0"
      ]
     },
     "execution_count": 44,
     "metadata": {},
     "output_type": "execute_result"
    }
   ],
   "source": [
    "df_merge_population_dispo_alimentaire_vegetale = data_dispo_alimentaire_vegetale_zone[['Zone', 'Disponibilité alimentaire (Kcal/personne/jour)']].merge(data_pop_zone_val_2017, how ='left', on= \"Zone\")\n",
    "df_merge_population_dispo_alimentaire_vegetale.head()"
   ]
  },
  {
   "cell_type": "markdown",
   "id": "ed0ed8e7-5b49-426b-9241-862b626a869b",
   "metadata": {
    "tags": []
   },
   "source": [
    "#### Création de la colone <span style=\"color:crimson\">Disponibilité alimentaire (Kcal/jour)</span>"
   ]
  },
  {
   "cell_type": "code",
   "execution_count": 45,
   "id": "32547053-7065-4b59-8289-f14d9f219df4",
   "metadata": {},
   "outputs": [
    {
     "data": {
      "text/html": [
       "<div>\n",
       "<style scoped>\n",
       "    .dataframe tbody tr th:only-of-type {\n",
       "        vertical-align: middle;\n",
       "    }\n",
       "\n",
       "    .dataframe tbody tr th {\n",
       "        vertical-align: top;\n",
       "    }\n",
       "\n",
       "    .dataframe thead th {\n",
       "        text-align: right;\n",
       "    }\n",
       "</style>\n",
       "<table border=\"1\" class=\"dataframe\">\n",
       "  <thead>\n",
       "    <tr style=\"text-align: right;\">\n",
       "      <th></th>\n",
       "      <th>Zone</th>\n",
       "      <th>Disponibilité alimentaire (Kcal/personne/jour)</th>\n",
       "      <th>Valeur</th>\n",
       "      <th>Disponibilité alimentaire (Kcal/jour)</th>\n",
       "    </tr>\n",
       "  </thead>\n",
       "  <tbody>\n",
       "    <tr>\n",
       "      <th>0</th>\n",
       "      <td>Afghanistan</td>\n",
       "      <td>1871.0</td>\n",
       "      <td>36296113.0</td>\n",
       "      <td>6.791003e+10</td>\n",
       "    </tr>\n",
       "    <tr>\n",
       "      <th>1</th>\n",
       "      <td>Afrique du Sud</td>\n",
       "      <td>2533.0</td>\n",
       "      <td>57009756.0</td>\n",
       "      <td>1.444057e+11</td>\n",
       "    </tr>\n",
       "    <tr>\n",
       "      <th>2</th>\n",
       "      <td>Albanie</td>\n",
       "      <td>2203.0</td>\n",
       "      <td>2884169.0</td>\n",
       "      <td>6.353824e+09</td>\n",
       "    </tr>\n",
       "    <tr>\n",
       "      <th>3</th>\n",
       "      <td>Algérie</td>\n",
       "      <td>2915.0</td>\n",
       "      <td>41389189.0</td>\n",
       "      <td>1.206495e+11</td>\n",
       "    </tr>\n",
       "    <tr>\n",
       "      <th>4</th>\n",
       "      <td>Allemagne</td>\n",
       "      <td>2461.0</td>\n",
       "      <td>82658409.0</td>\n",
       "      <td>2.034223e+11</td>\n",
       "    </tr>\n",
       "  </tbody>\n",
       "</table>\n",
       "</div>"
      ],
      "text/plain": [
       "             Zone  Disponibilité alimentaire (Kcal/personne/jour)      Valeur  \\\n",
       "0     Afghanistan                                          1871.0  36296113.0   \n",
       "1  Afrique du Sud                                          2533.0  57009756.0   \n",
       "2         Albanie                                          2203.0   2884169.0   \n",
       "3         Algérie                                          2915.0  41389189.0   \n",
       "4       Allemagne                                          2461.0  82658409.0   \n",
       "\n",
       "   Disponibilité alimentaire (Kcal/jour)  \n",
       "0                           6.791003e+10  \n",
       "1                           1.444057e+11  \n",
       "2                           6.353824e+09  \n",
       "3                           1.206495e+11  \n",
       "4                           2.034223e+11  "
      ]
     },
     "execution_count": 45,
     "metadata": {},
     "output_type": "execute_result"
    }
   ],
   "source": [
    "df_merge_population_dispo_alimentaire_vegetale['Disponibilité alimentaire (Kcal/jour)'] = df_merge_population_dispo_alimentaire_vegetale['Disponibilité alimentaire (Kcal/personne/jour)'] * df_merge_population_dispo_alimentaire_vegetale['Valeur'] \n",
    "df_merge_population_dispo_alimentaire_vegetale.head()"
   ]
  },
  {
   "cell_type": "code",
   "execution_count": 46,
   "id": "29b68053-cf77-42fe-afae-3e9ed460ea24",
   "metadata": {},
   "outputs": [
    {
     "data": {
      "text/html": [
       "<div>\n",
       "<style scoped>\n",
       "    .dataframe tbody tr th:only-of-type {\n",
       "        vertical-align: middle;\n",
       "    }\n",
       "\n",
       "    .dataframe tbody tr th {\n",
       "        vertical-align: top;\n",
       "    }\n",
       "\n",
       "    .dataframe thead th {\n",
       "        text-align: right;\n",
       "    }\n",
       "</style>\n",
       "<table border=\"1\" class=\"dataframe\">\n",
       "  <thead>\n",
       "    <tr style=\"text-align: right;\">\n",
       "      <th></th>\n",
       "      <th>Zone</th>\n",
       "      <th>Disponibilité alimentaire (Kcal/personne/jour)</th>\n",
       "      <th>Valeur</th>\n",
       "      <th>Disponibilité alimentaire (Kcal/jour)</th>\n",
       "    </tr>\n",
       "  </thead>\n",
       "  <tbody>\n",
       "  </tbody>\n",
       "</table>\n",
       "</div>"
      ],
      "text/plain": [
       "Empty DataFrame\n",
       "Columns: [Zone, Disponibilité alimentaire (Kcal/personne/jour), Valeur, Disponibilité alimentaire (Kcal/jour)]\n",
       "Index: []"
      ]
     },
     "execution_count": 46,
     "metadata": {},
     "output_type": "execute_result"
    }
   ],
   "source": [
    "df_merge_population_dispo_alimentaire_vegetale.loc[df_merge_population_dispo_alimentaire_vegetale.isnull().any(axis=1)] "
   ]
  },
  {
   "cell_type": "markdown",
   "id": "3e716ccd-7c0e-4019-8c3e-64ff2d1b14b5",
   "metadata": {
    "tags": []
   },
   "source": [
    "#### Création de la colone <span style=\"color:crimson\">Population totale par pays pouvant etre nourri</span>"
   ]
  },
  {
   "cell_type": "code",
   "execution_count": 47,
   "id": "f313ad63-40c8-4a51-a739-1f85073b9c0c",
   "metadata": {},
   "outputs": [
    {
     "data": {
      "text/html": [
       "<div>\n",
       "<style scoped>\n",
       "    .dataframe tbody tr th:only-of-type {\n",
       "        vertical-align: middle;\n",
       "    }\n",
       "\n",
       "    .dataframe tbody tr th {\n",
       "        vertical-align: top;\n",
       "    }\n",
       "\n",
       "    .dataframe thead th {\n",
       "        text-align: right;\n",
       "    }\n",
       "</style>\n",
       "<table border=\"1\" class=\"dataframe\">\n",
       "  <thead>\n",
       "    <tr style=\"text-align: right;\">\n",
       "      <th></th>\n",
       "      <th>Zone</th>\n",
       "      <th>Disponibilité alimentaire (Kcal/personne/jour)</th>\n",
       "      <th>Valeur</th>\n",
       "      <th>Disponibilité alimentaire (Kcal/jour)</th>\n",
       "      <th>population totale par pays pouvant etre nourri</th>\n",
       "    </tr>\n",
       "  </thead>\n",
       "  <tbody>\n",
       "    <tr>\n",
       "      <th>0</th>\n",
       "      <td>Afghanistan</td>\n",
       "      <td>1871.0</td>\n",
       "      <td>36296113.0</td>\n",
       "      <td>6.791003e+10</td>\n",
       "      <td>2.829584e+07</td>\n",
       "    </tr>\n",
       "    <tr>\n",
       "      <th>1</th>\n",
       "      <td>Afrique du Sud</td>\n",
       "      <td>2533.0</td>\n",
       "      <td>57009756.0</td>\n",
       "      <td>1.444057e+11</td>\n",
       "      <td>6.016905e+07</td>\n",
       "    </tr>\n",
       "    <tr>\n",
       "      <th>2</th>\n",
       "      <td>Albanie</td>\n",
       "      <td>2203.0</td>\n",
       "      <td>2884169.0</td>\n",
       "      <td>6.353824e+09</td>\n",
       "      <td>2.647427e+06</td>\n",
       "    </tr>\n",
       "    <tr>\n",
       "      <th>3</th>\n",
       "      <td>Algérie</td>\n",
       "      <td>2915.0</td>\n",
       "      <td>41389189.0</td>\n",
       "      <td>1.206495e+11</td>\n",
       "      <td>5.027062e+07</td>\n",
       "    </tr>\n",
       "    <tr>\n",
       "      <th>4</th>\n",
       "      <td>Allemagne</td>\n",
       "      <td>2461.0</td>\n",
       "      <td>82658409.0</td>\n",
       "      <td>2.034223e+11</td>\n",
       "      <td>8.475931e+07</td>\n",
       "    </tr>\n",
       "  </tbody>\n",
       "</table>\n",
       "</div>"
      ],
      "text/plain": [
       "             Zone  Disponibilité alimentaire (Kcal/personne/jour)      Valeur  \\\n",
       "0     Afghanistan                                          1871.0  36296113.0   \n",
       "1  Afrique du Sud                                          2533.0  57009756.0   \n",
       "2         Albanie                                          2203.0   2884169.0   \n",
       "3         Algérie                                          2915.0  41389189.0   \n",
       "4       Allemagne                                          2461.0  82658409.0   \n",
       "\n",
       "   Disponibilité alimentaire (Kcal/jour)  \\\n",
       "0                           6.791003e+10   \n",
       "1                           1.444057e+11   \n",
       "2                           6.353824e+09   \n",
       "3                           1.206495e+11   \n",
       "4                           2.034223e+11   \n",
       "\n",
       "   population totale par pays pouvant etre nourri  \n",
       "0                                    2.829584e+07  \n",
       "1                                    6.016905e+07  \n",
       "2                                    2.647427e+06  \n",
       "3                                    5.027062e+07  \n",
       "4                                    8.475931e+07  "
      ]
     },
     "execution_count": 47,
     "metadata": {},
     "output_type": "execute_result"
    }
   ],
   "source": [
    "df_merge_population_dispo_alimentaire_vegetale['population totale par pays pouvant etre nourri'] = df_merge_population_dispo_alimentaire_vegetale['Disponibilité alimentaire (Kcal/jour)'] / 2400 \n",
    "df_merge_population_dispo_alimentaire_vegetale.head()"
   ]
  },
  {
   "cell_type": "markdown",
   "id": "1024376e-3d90-4aa0-a05d-58276d888f3f",
   "metadata": {
    "tags": []
   },
   "source": [
    "#### Résultat du nombre théorique de personnes pouvant etre nourri (origine vegetale)"
   ]
  },
  {
   "cell_type": "code",
   "execution_count": 48,
   "id": "23e9d265-ecde-4d3b-af1a-5a2d79e5791a",
   "metadata": {},
   "outputs": [
    {
     "name": "stdout",
     "output_type": "stream",
     "text": [
      "Le nombre théorique de personnes qui pourraient être nourries (origine vegetale) est: 7270628924.56\n"
     ]
    }
   ],
   "source": [
    "nbr_theorique_pers_pouvant_etre_nourri = df_merge_population_dispo_alimentaire_vegetale.iloc[: , 4].sum()\n",
    "print(f'Le nombre théorique de personnes qui pourraient être nourries (origine vegetale) est: {round(nbr_theorique_pers_pouvant_etre_nourri,2)}')"
   ]
  },
  {
   "cell_type": "code",
   "execution_count": 49,
   "id": "ed6a15c3-9848-466d-8d46-38ac8145db9e",
   "metadata": {},
   "outputs": [
    {
     "name": "stdout",
     "output_type": "stream",
     "text": [
      "Le nombre théorique de personnes qui pourraient être nourries est: 98.66 %\n"
     ]
    }
   ],
   "source": [
    "nombre_total_pers_mondial_produit_vegetale = df_merge_population_dispo_alimentaire_vegetale.iloc[: , 2].sum()\n",
    "pourcentage_pers_pouvant_etre_nourri_vegetale = round(nbr_theorique_pers_pouvant_etre_nourri * 100 / nombre_total_pers_mondial_produit_vegetale,2)\n",
    "print(f'Le nombre théorique de personnes qui pourraient être nourries est: {pourcentage_pers_pouvant_etre_nourri_vegetale} %')"
   ]
  },
  {
   "cell_type": "code",
   "execution_count": 50,
   "id": "282d1907-3fbe-4df8-acf6-49c0fc4aac18",
   "metadata": {},
   "outputs": [
    {
     "data": {
      "image/png": "[encoded data removed]",
      "text/plain": [
       "<Figure size 640x480 with 1 Axes>"
      ]
     },
     "metadata": {},
     "output_type": "display_data"
    }
   ],
   "source": [
    "fig, ax = plt.subplots()\n",
    "\n",
    "\n",
    "pop = ['Population\\n pouvant\\n se nourrir', 'Population\\n pouvant se\\n nourrir en\\n produits végétaux', 'Population nourrit', 'Population en \\nsous-nutrition']\n",
    "counts = [pourcentage_pers_pouvant_etre_nourri, pourcentage_pers_pouvant_etre_nourri_vegetale, pop_nourri_2017, proportion_pop_2017]\n",
    "# bar_labels = ['pop', 'blue', 'orange']\n",
    "bar_colors = ['tab:blue', 'tab:blue', 'tab:blue', 'tab:blue']\n",
    "\n",
    "ax.bar(pop, counts, label=bar_labels, color=bar_colors)\n",
    "plt.grid(axis='y')\n",
    "# plt.ylim(0, 110)\n",
    "plt.yticks([0, 10, 50, 70, 90, 110, 120, 130])\n",
    "for i in range(4):\n",
    "    plt.text(i - 0.06, counts[i] , round(counts[i],1))\n",
    "\n",
    "ax.set_ylabel('Pourcent de la population')\n",
    "ax.set_title('Variation entre la population pouvant etre nourrit\\n et celle en état de sous nutrition.', fontsize=10, color= '#5f89c4', fontweight='bold')\n",
    "\n",
    "plt.show()"
   ]
  },
  {
   "cell_type": "markdown",
   "id": "d0e4f061-05f5-4e1a-844d-5c7dd509247c",
   "metadata": {
    "tags": []
   },
   "source": [
    "### Requete 4: l’utilisation de la disponibilité intérieure, en particulier la part qui est attribuée à l’alimentation animale, celle qui est perdue et celle qui est concrètement utilisée pour l'alimentation humaine. <a class=\"anchor\" id=\"requete4\"></a>\n",
    "[Retour au sommaire](#sommaire)"
   ]
  },
  {
   "cell_type": "markdown",
   "id": "8e891967-dd17-4e0c-8975-e278313aaca6",
   "metadata": {
    "tags": []
   },
   "source": [
    "#### Creation de la variable disponibilite intérieur totale: ```disponibilite_int_totale``` 4.1 <a class=\"anchor\" id=\"section_4_1\"></a>"
   ]
  },
  {
   "cell_type": "code",
   "execution_count": 51,
   "id": "7a82c574-d080-4099-a953-b3717409423d",
   "metadata": {},
   "outputs": [
    {
     "name": "stdout",
     "output_type": "stream",
     "text": [
      "la disponibilité intérieur totale est de: 9848994.0\n"
     ]
    }
   ],
   "source": [
    "disponibilite_int_totale = data_dispo_alimentaire['Disponibilité intérieure'].sum()\n",
    "print(f\"la disponibilité intérieur totale est de: {disponibilite_int_totale}\")"
   ]
  },
  {
   "cell_type": "markdown",
   "id": "5453d6f5-ba14-4cc3-afeb-bd204a35d8fe",
   "metadata": {
    "tags": []
   },
   "source": [
    "#### Création de la variable disponibilité alimentation animale: ```disponibilite_animale``` 4.2 <a class=\"anchor\" id=\"section_4_2\"></a>"
   ]
  },
  {
   "cell_type": "code",
   "execution_count": 52,
   "id": "838ddfc7-7d08-4251-bc49-a10adec008be",
   "metadata": {},
   "outputs": [
    {
     "name": "stdout",
     "output_type": "stream",
     "text": [
      "la disponibilité pour l'alimentation animale est de: 1304245.0\n"
     ]
    }
   ],
   "source": [
    "disponibilite_animale = data_dispo_alimentaire['Aliments pour animaux'].sum()\n",
    "print(f\"la disponibilité pour l'alimentation animale est de: {disponibilite_animale}\")"
   ]
  },
  {
   "cell_type": "markdown",
   "id": "59f8d168-d2e1-4369-9971-671610389311",
   "metadata": {
    "tags": []
   },
   "source": [
    "#### Calcule de la part attribuée à l'alimentation animale 4.3 <a class=\"anchor\" id=\"section_4_3\"></a>"
   ]
  },
  {
   "cell_type": "code",
   "execution_count": 53,
   "id": "fc9302d9-1314-424a-9fd6-3c53eaa0c3b5",
   "metadata": {},
   "outputs": [
    {
     "name": "stdout",
     "output_type": "stream",
     "text": [
      "la part attribuée pour l'alimentation animale est de: 13.24%\n"
     ]
    }
   ],
   "source": [
    "calc_part_animale = round(disponibilite_animale * 100 / disponibilite_int_totale,2)\n",
    "print(f\"la part attribuée pour l'alimentation animale est de: {calc_part_animale}%\")"
   ]
  },
  {
   "cell_type": "markdown",
   "id": "ac3526c8-1433-4cff-b3a8-a2292f0ec2a6",
   "metadata": {
    "tags": []
   },
   "source": [
    "#### Calcule de la perte 4.4 <a class=\"anchor\" id=\"section_4_4\"></a>"
   ]
  },
  {
   "cell_type": "markdown",
   "id": "cd573f60-e112-4773-8afb-82f6a6bd1cbc",
   "metadata": {
    "tags": []
   },
   "source": [
    "##### Création de la variable ```perte``` 4.4.1 <a class=\"anchor\" id=\"section_4_4_1\"></a>"
   ]
  },
  {
   "cell_type": "code",
   "execution_count": 54,
   "id": "6689be5c-7ad1-4e9b-9ab9-ff81ae0207fa",
   "metadata": {},
   "outputs": [
    {
     "data": {
      "text/plain": [
       "453698.0"
      ]
     },
     "execution_count": 54,
     "metadata": {},
     "output_type": "execute_result"
    }
   ],
   "source": [
    "perte = data_dispo_alimentaire['Pertes'].sum()\n",
    "perte"
   ]
  },
  {
   "cell_type": "markdown",
   "id": "8cadbb51-1733-4d7d-bd2d-a6e9c55e2e87",
   "metadata": {
    "tags": []
   },
   "source": [
    "##### La part perdue 4.4.2 <a class=\"anchor\" id=\"section_4_4_2\"></a>"
   ]
  },
  {
   "cell_type": "code",
   "execution_count": 55,
   "id": "cfab1a05-08d1-427e-83b2-eaf4798247fd",
   "metadata": {},
   "outputs": [
    {
     "name": "stdout",
     "output_type": "stream",
     "text": [
      "la part perdue est de: 4.61%\n"
     ]
    }
   ],
   "source": [
    "calc_perte = round(perte * 100 / disponibilite_int_totale,2)\n",
    "print(f\"la part perdue est de: {calc_perte}%\")"
   ]
  },
  {
   "cell_type": "markdown",
   "id": "170e2c21-be5b-411e-8a36-92e73264fdd7",
   "metadata": {
    "tags": []
   },
   "source": [
    "#### Calcule de la Disponibilité alimentaire pour l'alimentation humaine 4.5 <a class=\"anchor\" id=\"section_4_5\"></a>"
   ]
  },
  {
   "cell_type": "markdown",
   "id": "1c1dcb6d-671e-47f4-8898-9f6598f51085",
   "metadata": {
    "tags": []
   },
   "source": [
    "##### Création de la variable disponibilité alimentation pour les humains: ```dispo_alimentaire_humain``` 4.5.1 <a class=\"anchor\" id=\"section_4_5_1\"></a>"
   ]
  },
  {
   "cell_type": "code",
   "execution_count": 56,
   "id": "7a36a025-8bf3-4281-a673-86b086bd6bb1",
   "metadata": {},
   "outputs": [
    {
     "data": {
      "text/plain": [
       "4876258.0"
      ]
     },
     "execution_count": 56,
     "metadata": {},
     "output_type": "execute_result"
    }
   ],
   "source": [
    "dispo_alimentaire_humain = data_dispo_alimentaire['Nourriture'].sum()\n",
    "dispo_alimentaire_humain"
   ]
  },
  {
   "cell_type": "markdown",
   "id": "cbfdd335-4b6b-44b5-a165-66c2b0b20b75",
   "metadata": {
    "tags": []
   },
   "source": [
    "##### La part attribuée au humains 4.5.2 <a class=\"anchor\" id=\"section_4_5_2\"></a>"
   ]
  },
  {
   "cell_type": "code",
   "execution_count": 57,
   "id": "37554998-2a45-4321-a214-bfa3211f43a0",
   "metadata": {},
   "outputs": [
    {
     "name": "stdout",
     "output_type": "stream",
     "text": [
      "La part attibuée pour l'alimentation humaine est de 49.51 %\n"
     ]
    }
   ],
   "source": [
    "calc_part_humain = round(dispo_alimentaire_humain * 100 / disponibilite_int_totale,2)\n",
    "print(f\"La part attibuée pour l'alimentation humaine est de {calc_part_humain} %\")"
   ]
  },
  {
   "cell_type": "markdown",
   "id": "6dfe60bc-f846-4bf1-963a-535c8c2f4c51",
   "metadata": {
    "tags": []
   },
   "source": [
    "#### Calcule pour savoir si le resultat obtenue est le bon (calcule de la valeur totale) 4.6 <a class=\"anchor\" id=\"section_4_6\"></a>"
   ]
  },
  {
   "cell_type": "markdown",
   "id": "2adc37fc-46e8-4b48-ad5d-b2ab138e190e",
   "metadata": {
    "tags": []
   },
   "source": [
    "##### Création de la variable disponibilité pour la semence: ```dispo_semences``` 4.6.1 <a class=\"anchor\" id=\"section_4_6_1\"></a>"
   ]
  },
  {
   "cell_type": "code",
   "execution_count": 58,
   "id": "54b41a8d-cfa0-47c2-aff8-58bc0ad5a399",
   "metadata": {},
   "outputs": [
    {
     "data": {
      "text/plain": [
       "154681.0"
      ]
     },
     "execution_count": 58,
     "metadata": {},
     "output_type": "execute_result"
    }
   ],
   "source": [
    "dispo_semences = data_dispo_alimentaire['Semences'].sum() \n",
    "dispo_semences"
   ]
  },
  {
   "cell_type": "markdown",
   "id": "788c161a-b3b9-447c-8583-e949327884b0",
   "metadata": {
    "tags": []
   },
   "source": [
    "##### La part attribuée pour la semence 4.6.2 <a class=\"anchor\" id=\"section_4_6_2\"></a>"
   ]
  },
  {
   "cell_type": "code",
   "execution_count": 59,
   "id": "6f5f114f-1c52-4c68-9f61-7c553b9fd74e",
   "metadata": {},
   "outputs": [
    {
     "name": "stdout",
     "output_type": "stream",
     "text": [
      "La part attibuée pour la semence est de 1.57 %\n"
     ]
    }
   ],
   "source": [
    "calc_part_semence = round(dispo_semences * 100 / disponibilite_int_totale,2)\n",
    "print(f\"La part attibuée pour la semence est de {calc_part_semence} %\")"
   ]
  },
  {
   "cell_type": "markdown",
   "id": "288af7c1-d965-48d3-8550-8ad7dc82c27f",
   "metadata": {
    "tags": []
   },
   "source": [
    "##### Calcule de la part attribuée aux traitements 4.6.3 <a class=\"anchor\" id=\"section_4_6_3\"></a>"
   ]
  },
  {
   "cell_type": "markdown",
   "id": "0c5a5e9e-75a2-401a-b809-166e9bdde65a",
   "metadata": {
    "tags": []
   },
   "source": [
    "###### Création de la variable disponibilité pour le traitement: ```dispo_traitement``` 4.6.4 <a class=\"anchor\" id=\"section_4_6_4\"></a>"
   ]
  },
  {
   "cell_type": "code",
   "execution_count": 60,
   "id": "d53193aa-6434-4dae-9107-1d2f28512498",
   "metadata": {},
   "outputs": [
    {
     "data": {
      "text/plain": [
       "2204687.0"
      ]
     },
     "execution_count": 60,
     "metadata": {},
     "output_type": "execute_result"
    }
   ],
   "source": [
    "dispo_traitement = data_dispo_alimentaire['Traitement'].sum() \n",
    "dispo_traitement"
   ]
  },
  {
   "cell_type": "markdown",
   "id": "5505588f-82a6-454e-b954-951cf37784c4",
   "metadata": {
    "tags": []
   },
   "source": [
    "###### La part attribuée pour la traitement 4.6.5 <a class=\"anchor\" id=\"section_4_6_5\"></a>"
   ]
  },
  {
   "cell_type": "code",
   "execution_count": 61,
   "id": "e66d5763-387e-4b3b-81f4-8852bac37d69",
   "metadata": {},
   "outputs": [
    {
     "name": "stdout",
     "output_type": "stream",
     "text": [
      "La part attibuée pour le traitement est de 22.38 %\n"
     ]
    }
   ],
   "source": [
    "calc_part_traitement = round(dispo_traitement * 100 / disponibilite_int_totale,2)\n",
    "print(f\"La part attibuée pour le traitement est de {calc_part_traitement} %\")"
   ]
  },
  {
   "cell_type": "markdown",
   "id": "5637df54-8073-4ec9-9b37-d5cb90b34f38",
   "metadata": {
    "tags": []
   },
   "source": [
    "##### Calcule de la disponibilité des autres utilisations 4.6.6 <a class=\"anchor\" id=\"section_4_6_6\"></a>"
   ]
  },
  {
   "cell_type": "markdown",
   "id": "2d17a6c9-5879-4cf4-929b-0f191c1e7f72",
   "metadata": {
    "tags": []
   },
   "source": [
    "##### Création de la variable disponibilité pour les autres utilisations: ```dispo_autre_utilisation``` 4.6.7 <a class=\"anchor\" id=\"section_4_6_7\"></a>"
   ]
  },
  {
   "cell_type": "code",
   "execution_count": 62,
   "id": "7ed1d2d6-8809-40a3-90e1-7a7b4fd79c31",
   "metadata": {},
   "outputs": [
    {
     "data": {
      "text/plain": [
       "865023.0"
      ]
     },
     "execution_count": 62,
     "metadata": {},
     "output_type": "execute_result"
    }
   ],
   "source": [
    "dispo_autre_utilisation = data_dispo_alimentaire['Autres Utilisations'].sum() \n",
    "dispo_autre_utilisation"
   ]
  },
  {
   "cell_type": "markdown",
   "id": "53b86601-a7c9-43c7-85b2-11abcfb5b8ff",
   "metadata": {
    "tags": []
   },
   "source": [
    "##### La part attribuée pour les autres utilisations 4.6.8 <a class=\"anchor\" id=\"section_4_6_8\"></a>"
   ]
  },
  {
   "cell_type": "code",
   "execution_count": 63,
   "id": "23d2b717-148c-4f3a-b661-4f09bab3804a",
   "metadata": {},
   "outputs": [
    {
     "name": "stdout",
     "output_type": "stream",
     "text": [
      "La part attibuée pour lees autres utilisation est de 8.78 %\n"
     ]
    }
   ],
   "source": [
    "calc_part_autre_utilisation = round(dispo_autre_utilisation * 100 / disponibilite_int_totale,2)\n",
    "print(f\"La part attibuée pour lees autres utilisation est de {calc_part_autre_utilisation} %\")"
   ]
  },
  {
   "cell_type": "markdown",
   "id": "5967c345-ce7b-429b-8c62-1df339261ba1",
   "metadata": {
    "tags": []
   },
   "source": [
    "##### Calcule de la disponibilité totale 4.6.9 <a class=\"anchor\" id=\"section_4_6_9\"></a>"
   ]
  },
  {
   "cell_type": "code",
   "execution_count": 64,
   "id": "0ae8433d-d967-4c97-af04-43fe2c6f1b65",
   "metadata": {},
   "outputs": [
    {
     "name": "stdout",
     "output_type": "stream",
     "text": [
      "La disponibilité totale est de: 100.1 % \n",
      "Nous avons bien le bon resultat car nous trouvons 100% de la disponibilité totale.\n"
     ]
    }
   ],
   "source": [
    "calc_utilisation_total = round(calc_part_animale + calc_perte + calc_part_humain + calc_part_semence + calc_part_traitement + calc_part_autre_utilisation,1)\n",
    "print(f\"La disponibilité totale est de: {calc_utilisation_total} % \\nNous avons bien le bon resultat car nous trouvons 100% de la disponibilité totale.\")"
   ]
  },
  {
   "cell_type": "code",
   "execution_count": 65,
   "id": "5d8ce0ce-f2c2-4ba3-83aa-70476be584a5",
   "metadata": {},
   "outputs": [
    {
     "data": {
      "image/png": "[encoded data removed]",
      "text/plain": [
       "<Figure size 640x480 with 1 Axes>"
      ]
     },
     "metadata": {},
     "output_type": "display_data"
    }
   ],
   "source": [
    "#define data\n",
    "data = [calc_part_animale, calc_perte, calc_part_humain, calc_part_semence, calc_part_traitement, calc_part_autre_utilisation]\n",
    "labels = ['Animales', 'Pertes', 'Humains', 'Semences', 'Traitements', 'Autres utilisations']\n",
    "\n",
    "#define Seaborn color palette to use\n",
    "colors = sns.color_palette('pastel')[0:5]\n",
    "\n",
    "#create pie chart\n",
    "plt.pie(data, labels = labels, colors = colors, autopct='%.0f%%')\n",
    "plt.title(\"Utilisation de la disponibilité alimentaire mondiale\",color='b')\n",
    "\n",
    "plt.show()"
   ]
  },
  {
   "cell_type": "markdown",
   "id": "80dca327-f250-4645-a171-f71cdd78d77b",
   "metadata": {
    "tags": []
   },
   "source": [
    "### Les pays pour lesquels la proportion de personnes sous-alimentées est la plus forte en 2017 <a class=\"anchor\" id=\"section5\"></a>\n",
    "[Retour au sommaire](#sommaire)"
   ]
  },
  {
   "cell_type": "markdown",
   "id": "b9e569bc-7260-4f79-9325-e5b74bfd377b",
   "metadata": {
    "tags": []
   },
   "source": [
    "#### Nettoyage des données. 5.1<a class=\"anchor\" id=\"section_5_1\"></a>"
   ]
  },
  {
   "cell_type": "code",
   "execution_count": 66,
   "id": "5bf88191-33d0-4bef-9307-a542d41ab3b5",
   "metadata": {},
   "outputs": [
    {
     "data": {
      "text/html": [
       "<div>\n",
       "<style scoped>\n",
       "    .dataframe tbody tr th:only-of-type {\n",
       "        vertical-align: middle;\n",
       "    }\n",
       "\n",
       "    .dataframe tbody tr th {\n",
       "        vertical-align: top;\n",
       "    }\n",
       "\n",
       "    .dataframe thead th {\n",
       "        text-align: right;\n",
       "    }\n",
       "</style>\n",
       "<table border=\"1\" class=\"dataframe\">\n",
       "  <thead>\n",
       "    <tr style=\"text-align: right;\">\n",
       "      <th></th>\n",
       "      <th>Zone</th>\n",
       "      <th>Valeur_x</th>\n",
       "      <th>Valeur_y</th>\n",
       "    </tr>\n",
       "  </thead>\n",
       "  <tbody>\n",
       "    <tr>\n",
       "      <th>0</th>\n",
       "      <td>Afghanistan</td>\n",
       "      <td>36296113.0</td>\n",
       "      <td>10500000.0</td>\n",
       "    </tr>\n",
       "    <tr>\n",
       "      <th>1</th>\n",
       "      <td>Afrique du Sud</td>\n",
       "      <td>57009756.0</td>\n",
       "      <td>3100000.0</td>\n",
       "    </tr>\n",
       "    <tr>\n",
       "      <th>2</th>\n",
       "      <td>Albanie</td>\n",
       "      <td>2884169.0</td>\n",
       "      <td>100000.0</td>\n",
       "    </tr>\n",
       "    <tr>\n",
       "      <th>3</th>\n",
       "      <td>Algérie</td>\n",
       "      <td>41389189.0</td>\n",
       "      <td>1300000.0</td>\n",
       "    </tr>\n",
       "    <tr>\n",
       "      <th>4</th>\n",
       "      <td>Allemagne</td>\n",
       "      <td>82658409.0</td>\n",
       "      <td>NaN</td>\n",
       "    </tr>\n",
       "  </tbody>\n",
       "</table>\n",
       "</div>"
      ],
      "text/plain": [
       "             Zone    Valeur_x    Valeur_y\n",
       "0     Afghanistan  36296113.0  10500000.0\n",
       "1  Afrique du Sud  57009756.0   3100000.0\n",
       "2         Albanie   2884169.0    100000.0\n",
       "3         Algérie  41389189.0   1300000.0\n",
       "4       Allemagne  82658409.0         NaN"
      ]
     },
     "execution_count": 66,
     "metadata": {},
     "output_type": "execute_result"
    }
   ],
   "source": [
    "sn_2017 = pd.merge(data_pop_zone_val_2017, data_sn_zone_val_2017, on='Zone',how='right')\n",
    "sn_2017.head()"
   ]
  },
  {
   "cell_type": "code",
   "execution_count": 67,
   "id": "8a9725af-3f4b-49d6-a294-8c551dcb5b1e",
   "metadata": {},
   "outputs": [
    {
     "name": "stdout",
     "output_type": "stream",
     "text": [
      "Nous avons 119 données manquantes \n"
     ]
    }
   ],
   "source": [
    "donnee_manquante_sn_2017 = sn_2017.loc[sn_2017.isnull().any(axis=1)].shape[0]\n",
    "print(f'Nous avons {donnee_manquante_sn_2017} données manquantes ')"
   ]
  },
  {
   "cell_type": "markdown",
   "id": "f8063303-9cde-40e8-8ae1-63f4f7e009c9",
   "metadata": {
    "tags": []
   },
   "source": [
    "#### Création de la colone <span style=\"color:crimson\">Proportion (%)</span> qui corresponf à la proportion de personnes sous-alimentées dans leur pays respestif. 5.2 <a class=\"anchor\" id=\"section_5_2\"></a>"
   ]
  },
  {
   "cell_type": "code",
   "execution_count": 68,
   "id": "7fd95463-8ff2-49ec-9aaf-2e4c4ba12a1d",
   "metadata": {},
   "outputs": [
    {
     "data": {
      "text/html": [
       "<div>\n",
       "<style scoped>\n",
       "    .dataframe tbody tr th:only-of-type {\n",
       "        vertical-align: middle;\n",
       "    }\n",
       "\n",
       "    .dataframe tbody tr th {\n",
       "        vertical-align: top;\n",
       "    }\n",
       "\n",
       "    .dataframe thead th {\n",
       "        text-align: right;\n",
       "    }\n",
       "</style>\n",
       "<table border=\"1\" class=\"dataframe\">\n",
       "  <thead>\n",
       "    <tr style=\"text-align: right;\">\n",
       "      <th></th>\n",
       "      <th>Zone</th>\n",
       "      <th>Valeur_x</th>\n",
       "      <th>Valeur_y</th>\n",
       "      <th>Proportion (%)</th>\n",
       "    </tr>\n",
       "  </thead>\n",
       "  <tbody>\n",
       "    <tr>\n",
       "      <th>0</th>\n",
       "      <td>Afghanistan</td>\n",
       "      <td>36296113.0</td>\n",
       "      <td>10500000.0</td>\n",
       "      <td>28.93</td>\n",
       "    </tr>\n",
       "    <tr>\n",
       "      <th>1</th>\n",
       "      <td>Afrique du Sud</td>\n",
       "      <td>57009756.0</td>\n",
       "      <td>3100000.0</td>\n",
       "      <td>5.44</td>\n",
       "    </tr>\n",
       "    <tr>\n",
       "      <th>2</th>\n",
       "      <td>Albanie</td>\n",
       "      <td>2884169.0</td>\n",
       "      <td>100000.0</td>\n",
       "      <td>3.47</td>\n",
       "    </tr>\n",
       "  </tbody>\n",
       "</table>\n",
       "</div>"
      ],
      "text/plain": [
       "             Zone    Valeur_x    Valeur_y  Proportion (%)\n",
       "0     Afghanistan  36296113.0  10500000.0           28.93\n",
       "1  Afrique du Sud  57009756.0   3100000.0            5.44\n",
       "2         Albanie   2884169.0    100000.0            3.47"
      ]
     },
     "execution_count": 68,
     "metadata": {},
     "output_type": "execute_result"
    }
   ],
   "source": [
    "sn_2017['Proportion (%)'] = round(sn_2017['Valeur_y']*100 / sn_2017['Valeur_x'], 2)\n",
    "sn_2017.head(3)"
   ]
  },
  {
   "cell_type": "markdown",
   "id": "fb50df18-2d82-4dd1-97f0-8da72ae70917",
   "metadata": {
    "tags": []
   },
   "source": [
    "#### Resultat des pays où la sous-alimentation est la plus forte en 2017. 5.3 <a class=\"anchor\" id=\"section_5_3\"></a>"
   ]
  },
  {
   "cell_type": "code",
   "execution_count": 69,
   "id": "65d3c2e4-0e70-48b4-83b7-134d889a58b1",
   "metadata": {},
   "outputs": [],
   "source": [
    "sn_2017_ascending = sn_2017.sort_values(by='Proportion (%)', ascending=False).head(10)"
   ]
  },
  {
   "cell_type": "code",
   "execution_count": 70,
   "id": "76fea175-0387-4b00-ba64-3833bd81c6d1",
   "metadata": {},
   "outputs": [],
   "source": [
    "#find_substring_on_table(sn_2017, 'thi')"
   ]
  },
  {
   "cell_type": "code",
   "execution_count": 71,
   "id": "eeefc946-f96f-4b06-8572-8f00f3bb278f",
   "metadata": {},
   "outputs": [
    {
     "data": {
      "text/html": [
       "<style type=\"text/css\">\n",
       "#T_cc01b_row0_col1 {\n",
       "  background-color: #adadf6;\n",
       "  color: #000000;\n",
       "}\n",
       "#T_cc01b_row0_col2 {\n",
       "  background-color: #8b8bf8;\n",
       "  color: #f1f1f1;\n",
       "}\n",
       "#T_cc01b_row0_col3, #T_cc01b_row1_col2, #T_cc01b_row9_col1 {\n",
       "  background-color: #0000ff;\n",
       "  color: #f1f1f1;\n",
       "}\n",
       "#T_cc01b_row1_col1, #T_cc01b_row2_col1 {\n",
       "  background-color: #4a4afb;\n",
       "  color: #f1f1f1;\n",
       "}\n",
       "#T_cc01b_row1_col3 {\n",
       "  background-color: #0d0dfe;\n",
       "  color: #f1f1f1;\n",
       "}\n",
       "#T_cc01b_row2_col2, #T_cc01b_row9_col2 {\n",
       "  background-color: #1f1ffd;\n",
       "  color: #f1f1f1;\n",
       "}\n",
       "#T_cc01b_row2_col3 {\n",
       "  background-color: #5a5afa;\n",
       "  color: #f1f1f1;\n",
       "}\n",
       "#T_cc01b_row3_col1 {\n",
       "  background-color: #d9d9f4;\n",
       "  color: #000000;\n",
       "}\n",
       "#T_cc01b_row3_col2 {\n",
       "  background-color: #d4d4f4;\n",
       "  color: #000000;\n",
       "}\n",
       "#T_cc01b_row3_col3, #T_cc01b_row4_col3 {\n",
       "  background-color: #7c7cf9;\n",
       "  color: #f1f1f1;\n",
       "}\n",
       "#T_cc01b_row4_col1 {\n",
       "  background-color: #ebebf3;\n",
       "  color: #000000;\n",
       "}\n",
       "#T_cc01b_row4_col2 {\n",
       "  background-color: #e9e9f3;\n",
       "  color: #000000;\n",
       "}\n",
       "#T_cc01b_row5_col1 {\n",
       "  background-color: #9292f8;\n",
       "  color: #f1f1f1;\n",
       "}\n",
       "#T_cc01b_row5_col2 {\n",
       "  background-color: #8383f8;\n",
       "  color: #f1f1f1;\n",
       "}\n",
       "#T_cc01b_row5_col3 {\n",
       "  background-color: #8080f8;\n",
       "  color: #f1f1f1;\n",
       "}\n",
       "#T_cc01b_row6_col1 {\n",
       "  background-color: #a7a7f7;\n",
       "  color: #000000;\n",
       "}\n",
       "#T_cc01b_row6_col2 {\n",
       "  background-color: #a2a2f7;\n",
       "  color: #f1f1f1;\n",
       "}\n",
       "#T_cc01b_row6_col3 {\n",
       "  background-color: #a4a4f7;\n",
       "  color: #000000;\n",
       "}\n",
       "#T_cc01b_row7_col1 {\n",
       "  background-color: #3434fc;\n",
       "  color: #f1f1f1;\n",
       "}\n",
       "#T_cc01b_row7_col2 {\n",
       "  background-color: #3636fc;\n",
       "  color: #f1f1f1;\n",
       "}\n",
       "#T_cc01b_row7_col3 {\n",
       "  background-color: #c0c0f5;\n",
       "  color: #000000;\n",
       "}\n",
       "#T_cc01b_row8_col1, #T_cc01b_row8_col2, #T_cc01b_row9_col3 {\n",
       "  background-color: #f0f0f3;\n",
       "  color: #000000;\n",
       "}\n",
       "#T_cc01b_row8_col3 {\n",
       "  background-color: #c9c9f5;\n",
       "  color: #000000;\n",
       "}\n",
       "</style>\n",
       "<table id=\"T_cc01b\">\n",
       "  <thead>\n",
       "    <tr>\n",
       "      <th class=\"blank level0\" >&nbsp;</th>\n",
       "      <th id=\"T_cc01b_level0_col0\" class=\"col_heading level0 col0\" >Zone</th>\n",
       "      <th id=\"T_cc01b_level0_col1\" class=\"col_heading level0 col1\" >Valeur_x</th>\n",
       "      <th id=\"T_cc01b_level0_col2\" class=\"col_heading level0 col2\" >Valeur_y</th>\n",
       "      <th id=\"T_cc01b_level0_col3\" class=\"col_heading level0 col3\" >Proportion (%)</th>\n",
       "    </tr>\n",
       "  </thead>\n",
       "  <tbody>\n",
       "    <tr>\n",
       "      <th id=\"T_cc01b_level0_row0\" class=\"row_heading level0 row0\" >78</th>\n",
       "      <td id=\"T_cc01b_row0_col0\" class=\"data row0 col0\" >Haïti</td>\n",
       "      <td id=\"T_cc01b_row0_col1\" class=\"data row0 col1\" >10982366.000000</td>\n",
       "      <td id=\"T_cc01b_row0_col2\" class=\"data row0 col2\" >5300000.000000</td>\n",
       "      <td id=\"T_cc01b_row0_col3\" class=\"data row0 col3\" >48.260000</td>\n",
       "    </tr>\n",
       "    <tr>\n",
       "      <th id=\"T_cc01b_level0_row1\" class=\"row_heading level0 row1\" >157</th>\n",
       "      <td id=\"T_cc01b_row1_col0\" class=\"data row1 col0\" >République populaire démocratique de Corée</td>\n",
       "      <td id=\"T_cc01b_row1_col1\" class=\"data row1 col1\" >25429825.000000</td>\n",
       "      <td id=\"T_cc01b_row1_col2\" class=\"data row1 col2\" >12000000.000000</td>\n",
       "      <td id=\"T_cc01b_row1_col3\" class=\"data row1 col3\" >47.190000</td>\n",
       "    </tr>\n",
       "    <tr>\n",
       "      <th id=\"T_cc01b_level0_row2\" class=\"row_heading level0 row2\" >108</th>\n",
       "      <td id=\"T_cc01b_row2_col0\" class=\"data row2 col0\" >Madagascar</td>\n",
       "      <td id=\"T_cc01b_row2_col1\" class=\"data row2 col1\" >25570512.000000</td>\n",
       "      <td id=\"T_cc01b_row2_col2\" class=\"data row2 col2\" >10500000.000000</td>\n",
       "      <td id=\"T_cc01b_row2_col3\" class=\"data row2 col3\" >41.060000</td>\n",
       "    </tr>\n",
       "    <tr>\n",
       "      <th id=\"T_cc01b_level0_row3\" class=\"row_heading level0 row3\" >103</th>\n",
       "      <td id=\"T_cc01b_row3_col0\" class=\"data row3 col0\" >Libéria</td>\n",
       "      <td id=\"T_cc01b_row3_col1\" class=\"data row3 col1\" >4702226.000000</td>\n",
       "      <td id=\"T_cc01b_row3_col2\" class=\"data row3 col2\" >1800000.000000</td>\n",
       "      <td id=\"T_cc01b_row3_col3\" class=\"data row3 col3\" >38.280000</td>\n",
       "    </tr>\n",
       "    <tr>\n",
       "      <th id=\"T_cc01b_level0_row4\" class=\"row_heading level0 row4\" >100</th>\n",
       "      <td id=\"T_cc01b_row4_col0\" class=\"data row4 col0\" >Lesotho</td>\n",
       "      <td id=\"T_cc01b_row4_col1\" class=\"data row4 col1\" >2091534.000000</td>\n",
       "      <td id=\"T_cc01b_row4_col2\" class=\"data row4 col2\" >800000.000000</td>\n",
       "      <td id=\"T_cc01b_row4_col3\" class=\"data row4 col3\" >38.250000</td>\n",
       "    </tr>\n",
       "    <tr>\n",
       "      <th id=\"T_cc01b_level0_row5\" class=\"row_heading level0 row5\" >183</th>\n",
       "      <td id=\"T_cc01b_row5_col0\" class=\"data row5 col0\" >Tchad</td>\n",
       "      <td id=\"T_cc01b_row5_col1\" class=\"data row5 col1\" >15016753.000000</td>\n",
       "      <td id=\"T_cc01b_row5_col2\" class=\"data row5 col2\" >5700000.000000</td>\n",
       "      <td id=\"T_cc01b_row5_col3\" class=\"data row5 col3\" >37.960000</td>\n",
       "    </tr>\n",
       "    <tr>\n",
       "      <th id=\"T_cc01b_level0_row6\" class=\"row_heading level0 row6\" >161</th>\n",
       "      <td id=\"T_cc01b_row6_col0\" class=\"data row6 col0\" >Rwanda</td>\n",
       "      <td id=\"T_cc01b_row6_col1\" class=\"data row6 col1\" >11980961.000000</td>\n",
       "      <td id=\"T_cc01b_row6_col2\" class=\"data row6 col2\" >4200000.000000</td>\n",
       "      <td id=\"T_cc01b_row6_col3\" class=\"data row6 col3\" >35.060000</td>\n",
       "    </tr>\n",
       "    <tr>\n",
       "      <th id=\"T_cc01b_level0_row7\" class=\"row_heading level0 row7\" >121</th>\n",
       "      <td id=\"T_cc01b_row7_col0\" class=\"data row7 col0\" >Mozambique</td>\n",
       "      <td id=\"T_cc01b_row7_col1\" class=\"data row7 col1\" >28649018.000000</td>\n",
       "      <td id=\"T_cc01b_row7_col2\" class=\"data row7 col2\" >9400000.000000</td>\n",
       "      <td id=\"T_cc01b_row7_col3\" class=\"data row7 col3\" >32.810000</td>\n",
       "    </tr>\n",
       "    <tr>\n",
       "      <th id=\"T_cc01b_level0_row8\" class=\"row_heading level0 row8\" >186</th>\n",
       "      <td id=\"T_cc01b_row8_col0\" class=\"data row8 col0\" >Timor-Leste</td>\n",
       "      <td id=\"T_cc01b_row8_col1\" class=\"data row8 col1\" >1243258.000000</td>\n",
       "      <td id=\"T_cc01b_row8_col2\" class=\"data row8 col2\" >400000.000000</td>\n",
       "      <td id=\"T_cc01b_row8_col3\" class=\"data row8 col3\" >32.170000</td>\n",
       "    </tr>\n",
       "    <tr>\n",
       "      <th id=\"T_cc01b_level0_row9\" class=\"row_heading level0 row9\" >0</th>\n",
       "      <td id=\"T_cc01b_row9_col0\" class=\"data row9 col0\" >Afghanistan</td>\n",
       "      <td id=\"T_cc01b_row9_col1\" class=\"data row9 col1\" >36296113.000000</td>\n",
       "      <td id=\"T_cc01b_row9_col2\" class=\"data row9 col2\" >10500000.000000</td>\n",
       "      <td id=\"T_cc01b_row9_col3\" class=\"data row9 col3\" >28.930000</td>\n",
       "    </tr>\n",
       "  </tbody>\n",
       "</table>\n"
      ],
      "text/plain": [
       "<pandas.io.formats.style.Styler at 0x7fac2e8d6640>"
      ]
     },
     "execution_count": 71,
     "metadata": {},
     "output_type": "execute_result"
    }
   ],
   "source": [
    "cm = sns.light_palette(\"blue\", as_cmap=True)\n",
    "\n",
    "s = sn_2017_ascending.style.background_gradient(cmap=cm)\n",
    "s"
   ]
  },
  {
   "cell_type": "markdown",
   "id": "e733519a-eef5-4763-858e-c20b3bcabc1c",
   "metadata": {
    "tags": []
   },
   "source": [
    "### Les 10 pays qui ont le plus bénéficiés d’aide depuis 2013. <a class=\"anchor\" id=\"section6\"></a>\n",
    "[Retour au sommaire](#sommaire)"
   ]
  },
  {
   "cell_type": "code",
   "execution_count": 72,
   "id": "a1a88b5e-7c36-4206-8052-a8e7a64cc442",
   "metadata": {},
   "outputs": [
    {
     "data": {
      "text/html": [
       "<div>\n",
       "<style scoped>\n",
       "    .dataframe tbody tr th:only-of-type {\n",
       "        vertical-align: middle;\n",
       "    }\n",
       "\n",
       "    .dataframe tbody tr th {\n",
       "        vertical-align: top;\n",
       "    }\n",
       "\n",
       "    .dataframe thead th {\n",
       "        text-align: right;\n",
       "    }\n",
       "</style>\n",
       "<table border=\"1\" class=\"dataframe\">\n",
       "  <thead>\n",
       "    <tr style=\"text-align: right;\">\n",
       "      <th></th>\n",
       "      <th>Pays bénéficiaire</th>\n",
       "      <th>Année</th>\n",
       "      <th>Produit</th>\n",
       "      <th>Valeur</th>\n",
       "    </tr>\n",
       "  </thead>\n",
       "  <tbody>\n",
       "    <tr>\n",
       "      <th>0</th>\n",
       "      <td>Afghanistan</td>\n",
       "      <td>2013</td>\n",
       "      <td>Autres non-céréales</td>\n",
       "      <td>682</td>\n",
       "    </tr>\n",
       "    <tr>\n",
       "      <th>1</th>\n",
       "      <td>Afghanistan</td>\n",
       "      <td>2014</td>\n",
       "      <td>Autres non-céréales</td>\n",
       "      <td>335</td>\n",
       "    </tr>\n",
       "    <tr>\n",
       "      <th>2</th>\n",
       "      <td>Afghanistan</td>\n",
       "      <td>2013</td>\n",
       "      <td>Blé et Farin</td>\n",
       "      <td>39224</td>\n",
       "    </tr>\n",
       "    <tr>\n",
       "      <th>3</th>\n",
       "      <td>Afghanistan</td>\n",
       "      <td>2014</td>\n",
       "      <td>Blé et Farin</td>\n",
       "      <td>15160</td>\n",
       "    </tr>\n",
       "    <tr>\n",
       "      <th>4</th>\n",
       "      <td>Afghanistan</td>\n",
       "      <td>2013</td>\n",
       "      <td>Céréales</td>\n",
       "      <td>40504</td>\n",
       "    </tr>\n",
       "  </tbody>\n",
       "</table>\n",
       "</div>"
      ],
      "text/plain": [
       "  Pays bénéficiaire  Année              Produit  Valeur\n",
       "0       Afghanistan   2013  Autres non-céréales     682\n",
       "1       Afghanistan   2014  Autres non-céréales     335\n",
       "2       Afghanistan   2013         Blé et Farin   39224\n",
       "3       Afghanistan   2014         Blé et Farin   15160\n",
       "4       Afghanistan   2013             Céréales   40504"
      ]
     },
     "execution_count": 72,
     "metadata": {},
     "output_type": "execute_result"
    }
   ],
   "source": [
    "data_aide_alimentaire = pd.read_csv('aide_alimentaire.csv')\n",
    "data_aide_alimentaire.head()"
   ]
  },
  {
   "cell_type": "code",
   "execution_count": 73,
   "id": "04ed670e-26a7-43bb-bc74-82ab8a80e167",
   "metadata": {},
   "outputs": [
    {
     "name": "stdout",
     "output_type": "stream",
     "text": [
      "Nous avons auccune données maquantes:  \n",
      "0\n"
     ]
    }
   ],
   "source": [
    "donnee_manquante = data_aide_alimentaire.loc[data_aide_alimentaire.isnull().any(axis=1)].shape[0]\n",
    "print(f'Nous avons auccune données maquantes:  \\n{donnee_manquante}')"
   ]
  },
  {
   "cell_type": "code",
   "execution_count": 74,
   "id": "bc7fbeee-b896-49ff-a9f1-fefbaf0bfc38",
   "metadata": {},
   "outputs": [
    {
     "data": {
      "text/html": [
       "<div>\n",
       "<style scoped>\n",
       "    .dataframe tbody tr th:only-of-type {\n",
       "        vertical-align: middle;\n",
       "    }\n",
       "\n",
       "    .dataframe tbody tr th {\n",
       "        vertical-align: top;\n",
       "    }\n",
       "\n",
       "    .dataframe thead th {\n",
       "        text-align: right;\n",
       "    }\n",
       "</style>\n",
       "<table border=\"1\" class=\"dataframe\">\n",
       "  <thead>\n",
       "    <tr style=\"text-align: right;\">\n",
       "      <th></th>\n",
       "      <th>Année</th>\n",
       "      <th>Valeur</th>\n",
       "    </tr>\n",
       "    <tr>\n",
       "      <th>Pays bénéficiaire</th>\n",
       "      <th></th>\n",
       "      <th></th>\n",
       "    </tr>\n",
       "  </thead>\n",
       "  <tbody>\n",
       "    <tr>\n",
       "      <th>Afghanistan</th>\n",
       "      <td>32216</td>\n",
       "      <td>185452</td>\n",
       "    </tr>\n",
       "    <tr>\n",
       "      <th>Algérie</th>\n",
       "      <td>78561</td>\n",
       "      <td>81114</td>\n",
       "    </tr>\n",
       "    <tr>\n",
       "      <th>Angola</th>\n",
       "      <td>8054</td>\n",
       "      <td>5014</td>\n",
       "    </tr>\n",
       "    <tr>\n",
       "      <th>Bangladesh</th>\n",
       "      <td>50347</td>\n",
       "      <td>348188</td>\n",
       "    </tr>\n",
       "    <tr>\n",
       "      <th>Bhoutan</th>\n",
       "      <td>24170</td>\n",
       "      <td>2666</td>\n",
       "    </tr>\n",
       "  </tbody>\n",
       "</table>\n",
       "</div>"
      ],
      "text/plain": [
       "                   Année  Valeur\n",
       "Pays bénéficiaire               \n",
       "Afghanistan        32216  185452\n",
       "Algérie            78561   81114\n",
       "Angola              8054    5014\n",
       "Bangladesh         50347  348188\n",
       "Bhoutan            24170    2666"
      ]
     },
     "execution_count": 74,
     "metadata": {},
     "output_type": "execute_result"
    }
   ],
   "source": [
    "data_aide_alimentaire_since_2013 = data_aide_alimentaire[data_aide_alimentaire['Année']>=2013].groupby('Pays bénéficiaire').sum()\n",
    "data_aide_alimentaire_since_2013.head()"
   ]
  },
  {
   "cell_type": "code",
   "execution_count": 75,
   "id": "6f8ce603-d461-46a4-ae65-e6a1563d54da",
   "metadata": {},
   "outputs": [],
   "source": [
    "rank_aide_alimentaire = data_aide_alimentaire_since_2013['Valeur'].sort_values(ascending=False)\n",
    "df_rank_aide_alimentaire = rank_aide_alimentaire.to_frame().head(10)"
   ]
  },
  {
   "cell_type": "code",
   "execution_count": 76,
   "id": "4ada2744-d6da-4cd2-8f89-1aa353697572",
   "metadata": {},
   "outputs": [
    {
     "data": {
      "text/html": [
       "<style type=\"text/css\">\n",
       "#T_eb45f_row0_col0 {\n",
       "  background-color: #0000ff;\n",
       "  color: #f1f1f1;\n",
       "}\n",
       "#T_eb45f_row1_col0 {\n",
       "  background-color: #4949fb;\n",
       "  color: #f1f1f1;\n",
       "}\n",
       "#T_eb45f_row2_col0 {\n",
       "  background-color: #6363fa;\n",
       "  color: #f1f1f1;\n",
       "}\n",
       "#T_eb45f_row3_col0 {\n",
       "  background-color: #b1b1f6;\n",
       "  color: #000000;\n",
       "}\n",
       "#T_eb45f_row4_col0 {\n",
       "  background-color: #b5b5f6;\n",
       "  color: #000000;\n",
       "}\n",
       "#T_eb45f_row5_col0 {\n",
       "  background-color: #c7c7f5;\n",
       "  color: #000000;\n",
       "}\n",
       "#T_eb45f_row6_col0 {\n",
       "  background-color: #e6e6f3;\n",
       "  color: #000000;\n",
       "}\n",
       "#T_eb45f_row7_col0, #T_eb45f_row8_col0 {\n",
       "  background-color: #efeff3;\n",
       "  color: #000000;\n",
       "}\n",
       "#T_eb45f_row9_col0 {\n",
       "  background-color: #f0f0f3;\n",
       "  color: #000000;\n",
       "}\n",
       "</style>\n",
       "<table id=\"T_eb45f\">\n",
       "  <thead>\n",
       "    <tr>\n",
       "      <th class=\"blank level0\" >&nbsp;</th>\n",
       "      <th id=\"T_eb45f_level0_col0\" class=\"col_heading level0 col0\" >Valeur</th>\n",
       "    </tr>\n",
       "    <tr>\n",
       "      <th class=\"index_name level0\" >Pays bénéficiaire</th>\n",
       "      <th class=\"blank col0\" >&nbsp;</th>\n",
       "    </tr>\n",
       "  </thead>\n",
       "  <tbody>\n",
       "    <tr>\n",
       "      <th id=\"T_eb45f_level0_row0\" class=\"row_heading level0 row0\" >République arabe syrienne</th>\n",
       "      <td id=\"T_eb45f_row0_col0\" class=\"data row0 col0\" >1858943</td>\n",
       "    </tr>\n",
       "    <tr>\n",
       "      <th id=\"T_eb45f_level0_row1\" class=\"row_heading level0 row1\" >Éthiopie</th>\n",
       "      <td id=\"T_eb45f_row1_col0\" class=\"data row1 col0\" >1381294</td>\n",
       "    </tr>\n",
       "    <tr>\n",
       "      <th id=\"T_eb45f_level0_row2\" class=\"row_heading level0 row2\" >Yémen</th>\n",
       "      <td id=\"T_eb45f_row2_col0\" class=\"data row2 col0\" >1206484</td>\n",
       "    </tr>\n",
       "    <tr>\n",
       "      <th id=\"T_eb45f_level0_row3\" class=\"row_heading level0 row3\" >Soudan du Sud</th>\n",
       "      <td id=\"T_eb45f_row3_col0\" class=\"data row3 col0\" >695248</td>\n",
       "    </tr>\n",
       "    <tr>\n",
       "      <th id=\"T_eb45f_level0_row4\" class=\"row_heading level0 row4\" >Soudan</th>\n",
       "      <td id=\"T_eb45f_row4_col0\" class=\"data row4 col0\" >669784</td>\n",
       "    </tr>\n",
       "    <tr>\n",
       "      <th id=\"T_eb45f_level0_row5\" class=\"row_heading level0 row5\" >Kenya</th>\n",
       "      <td id=\"T_eb45f_row5_col0\" class=\"data row5 col0\" >552836</td>\n",
       "    </tr>\n",
       "    <tr>\n",
       "      <th id=\"T_eb45f_level0_row6\" class=\"row_heading level0 row6\" >Bangladesh</th>\n",
       "      <td id=\"T_eb45f_row6_col0\" class=\"data row6 col0\" >348188</td>\n",
       "    </tr>\n",
       "    <tr>\n",
       "      <th id=\"T_eb45f_level0_row7\" class=\"row_heading level0 row7\" >Somalie</th>\n",
       "      <td id=\"T_eb45f_row7_col0\" class=\"data row7 col0\" >292678</td>\n",
       "    </tr>\n",
       "    <tr>\n",
       "      <th id=\"T_eb45f_level0_row8\" class=\"row_heading level0 row8\" >République démocratique du Congo</th>\n",
       "      <td id=\"T_eb45f_row8_col0\" class=\"data row8 col0\" >288502</td>\n",
       "    </tr>\n",
       "    <tr>\n",
       "      <th id=\"T_eb45f_level0_row9\" class=\"row_heading level0 row9\" >Niger</th>\n",
       "      <td id=\"T_eb45f_row9_col0\" class=\"data row9 col0\" >276344</td>\n",
       "    </tr>\n",
       "  </tbody>\n",
       "</table>\n"
      ],
      "text/plain": [
       "<pandas.io.formats.style.Styler at 0x7fac2e760bb0>"
      ]
     },
     "execution_count": 76,
     "metadata": {},
     "output_type": "execute_result"
    }
   ],
   "source": [
    "cms = sns.light_palette(\"blue\", as_cmap=True)\n",
    "\n",
    "so = df_rank_aide_alimentaire.style.background_gradient(cmap=cms)\n",
    "so"
   ]
  },
  {
   "cell_type": "markdown",
   "id": "fba0adc5-dee9-46fd-b015-5e4aac09233b",
   "metadata": {
    "tags": []
   },
   "source": [
    "### Les pays ayant le plus/moins de disponibilité alimentaire. <a class=\"anchor\" id=\"section7\"></a>\n",
    "[Retour au sommaire](#sommaire)"
   ]
  },
  {
   "cell_type": "code",
   "execution_count": 77,
   "id": "1cda9410-bfce-4697-8238-56d40e22d497",
   "metadata": {},
   "outputs": [
    {
     "data": {
      "text/html": [
       "<div>\n",
       "<style scoped>\n",
       "    .dataframe tbody tr th:only-of-type {\n",
       "        vertical-align: middle;\n",
       "    }\n",
       "\n",
       "    .dataframe tbody tr th {\n",
       "        vertical-align: top;\n",
       "    }\n",
       "\n",
       "    .dataframe thead th {\n",
       "        text-align: right;\n",
       "    }\n",
       "</style>\n",
       "<table border=\"1\" class=\"dataframe\">\n",
       "  <thead>\n",
       "    <tr style=\"text-align: right;\">\n",
       "      <th></th>\n",
       "      <th>Zone</th>\n",
       "      <th>Aliments pour animaux</th>\n",
       "      <th>Autres Utilisations</th>\n",
       "      <th>Disponibilité alimentaire (Kcal/personne/jour)</th>\n",
       "      <th>Disponibilité alimentaire en quantité (kg/personne/an)</th>\n",
       "      <th>Disponibilité de matière grasse en quantité (g/personne/jour)</th>\n",
       "      <th>Disponibilité de protéines en quantité (g/personne/jour)</th>\n",
       "      <th>Disponibilité intérieure</th>\n",
       "      <th>Exportations - Quantité</th>\n",
       "      <th>Importations - Quantité</th>\n",
       "      <th>Nourriture</th>\n",
       "      <th>Pertes</th>\n",
       "      <th>Production</th>\n",
       "      <th>Semences</th>\n",
       "      <th>Traitement</th>\n",
       "      <th>Variation de stock</th>\n",
       "    </tr>\n",
       "  </thead>\n",
       "  <tbody>\n",
       "    <tr>\n",
       "      <th>11</th>\n",
       "      <td>Autriche</td>\n",
       "      <td>3412.0</td>\n",
       "      <td>1001.0</td>\n",
       "      <td>3770.0</td>\n",
       "      <td>1069.20</td>\n",
       "      <td>170.44</td>\n",
       "      <td>106.20</td>\n",
       "      <td>19308.0</td>\n",
       "      <td>6733.0</td>\n",
       "      <td>8463.0</td>\n",
       "      <td>9085.0</td>\n",
       "      <td>459.0</td>\n",
       "      <td>18129.0</td>\n",
       "      <td>173.0</td>\n",
       "      <td>5178.0</td>\n",
       "      <td>-556.0</td>\n",
       "    </tr>\n",
       "    <tr>\n",
       "      <th>16</th>\n",
       "      <td>Belgique</td>\n",
       "      <td>5533.0</td>\n",
       "      <td>3226.0</td>\n",
       "      <td>3737.0</td>\n",
       "      <td>1002.09</td>\n",
       "      <td>161.95</td>\n",
       "      <td>99.37</td>\n",
       "      <td>29358.0</td>\n",
       "      <td>30345.0</td>\n",
       "      <td>35276.0</td>\n",
       "      <td>11134.0</td>\n",
       "      <td>564.0</td>\n",
       "      <td>24496.0</td>\n",
       "      <td>153.0</td>\n",
       "      <td>8960.0</td>\n",
       "      <td>-64.0</td>\n",
       "    </tr>\n",
       "    <tr>\n",
       "      <th>159</th>\n",
       "      <td>Turquie</td>\n",
       "      <td>17750.0</td>\n",
       "      <td>3006.0</td>\n",
       "      <td>3708.0</td>\n",
       "      <td>968.15</td>\n",
       "      <td>119.64</td>\n",
       "      <td>108.12</td>\n",
       "      <td>131377.0</td>\n",
       "      <td>14593.0</td>\n",
       "      <td>12136.0</td>\n",
       "      <td>72551.0</td>\n",
       "      <td>12036.0</td>\n",
       "      <td>137432.0</td>\n",
       "      <td>2553.0</td>\n",
       "      <td>23560.0</td>\n",
       "      <td>-3599.0</td>\n",
       "    </tr>\n",
       "    <tr>\n",
       "      <th>171</th>\n",
       "      <td>États-Unis d'Amérique</td>\n",
       "      <td>148432.0</td>\n",
       "      <td>154699.0</td>\n",
       "      <td>3682.0</td>\n",
       "      <td>1002.39</td>\n",
       "      <td>161.37</td>\n",
       "      <td>109.42</td>\n",
       "      <td>777992.0</td>\n",
       "      <td>163524.0</td>\n",
       "      <td>81887.0</td>\n",
       "      <td>320889.0</td>\n",
       "      <td>7162.0</td>\n",
       "      <td>894668.0</td>\n",
       "      <td>10403.0</td>\n",
       "      <td>141010.0</td>\n",
       "      <td>-35032.0</td>\n",
       "    </tr>\n",
       "    <tr>\n",
       "      <th>74</th>\n",
       "      <td>Israël</td>\n",
       "      <td>2525.0</td>\n",
       "      <td>801.0</td>\n",
       "      <td>3610.0</td>\n",
       "      <td>922.14</td>\n",
       "      <td>151.39</td>\n",
       "      <td>128.00</td>\n",
       "      <td>11267.0</td>\n",
       "      <td>1648.0</td>\n",
       "      <td>5883.0</td>\n",
       "      <td>7132.0</td>\n",
       "      <td>220.0</td>\n",
       "      <td>6906.0</td>\n",
       "      <td>71.0</td>\n",
       "      <td>564.0</td>\n",
       "      <td>128.0</td>\n",
       "    </tr>\n",
       "    <tr>\n",
       "      <th>72</th>\n",
       "      <td>Irlande</td>\n",
       "      <td>3758.0</td>\n",
       "      <td>1120.0</td>\n",
       "      <td>3602.0</td>\n",
       "      <td>1150.15</td>\n",
       "      <td>125.69</td>\n",
       "      <td>109.91</td>\n",
       "      <td>10738.0</td>\n",
       "      <td>6828.0</td>\n",
       "      <td>6254.0</td>\n",
       "      <td>5320.0</td>\n",
       "      <td>236.0</td>\n",
       "      <td>11501.0</td>\n",
       "      <td>89.0</td>\n",
       "      <td>399.0</td>\n",
       "      <td>-192.0</td>\n",
       "    </tr>\n",
       "    <tr>\n",
       "      <th>75</th>\n",
       "      <td>Italie</td>\n",
       "      <td>16144.0</td>\n",
       "      <td>3228.0</td>\n",
       "      <td>3578.0</td>\n",
       "      <td>993.20</td>\n",
       "      <td>154.69</td>\n",
       "      <td>108.49</td>\n",
       "      <td>97405.0</td>\n",
       "      <td>23643.0</td>\n",
       "      <td>38692.0</td>\n",
       "      <td>60584.0</td>\n",
       "      <td>1861.0</td>\n",
       "      <td>80855.0</td>\n",
       "      <td>736.0</td>\n",
       "      <td>14870.0</td>\n",
       "      <td>1496.0</td>\n",
       "    </tr>\n",
       "    <tr>\n",
       "      <th>89</th>\n",
       "      <td>Luxembourg</td>\n",
       "      <td>147.0</td>\n",
       "      <td>11.0</td>\n",
       "      <td>3540.0</td>\n",
       "      <td>1150.66</td>\n",
       "      <td>141.49</td>\n",
       "      <td>113.64</td>\n",
       "      <td>802.0</td>\n",
       "      <td>821.0</td>\n",
       "      <td>1076.0</td>\n",
       "      <td>607.0</td>\n",
       "      <td>11.0</td>\n",
       "      <td>593.0</td>\n",
       "      <td>9.0</td>\n",
       "      <td>24.0</td>\n",
       "      <td>-41.0</td>\n",
       "    </tr>\n",
       "    <tr>\n",
       "      <th>168</th>\n",
       "      <td>Égypte</td>\n",
       "      <td>15084.0</td>\n",
       "      <td>2262.0</td>\n",
       "      <td>3518.0</td>\n",
       "      <td>803.79</td>\n",
       "      <td>63.09</td>\n",
       "      <td>103.22</td>\n",
       "      <td>115133.0</td>\n",
       "      <td>5014.0</td>\n",
       "      <td>24100.0</td>\n",
       "      <td>65957.0</td>\n",
       "      <td>7608.0</td>\n",
       "      <td>95848.0</td>\n",
       "      <td>1365.0</td>\n",
       "      <td>22924.0</td>\n",
       "      <td>199.0</td>\n",
       "    </tr>\n",
       "    <tr>\n",
       "      <th>4</th>\n",
       "      <td>Allemagne</td>\n",
       "      <td>30209.0</td>\n",
       "      <td>7711.0</td>\n",
       "      <td>3503.0</td>\n",
       "      <td>957.52</td>\n",
       "      <td>141.62</td>\n",
       "      <td>101.39</td>\n",
       "      <td>162275.0</td>\n",
       "      <td>57431.0</td>\n",
       "      <td>65353.0</td>\n",
       "      <td>79238.0</td>\n",
       "      <td>3781.0</td>\n",
       "      <td>154547.0</td>\n",
       "      <td>1551.0</td>\n",
       "      <td>39842.0</td>\n",
       "      <td>-192.0</td>\n",
       "    </tr>\n",
       "  </tbody>\n",
       "</table>\n",
       "</div>"
      ],
      "text/plain": [
       "                      Zone  Aliments pour animaux  Autres Utilisations  \\\n",
       "11                Autriche                 3412.0               1001.0   \n",
       "16                Belgique                 5533.0               3226.0   \n",
       "159                Turquie                17750.0               3006.0   \n",
       "171  États-Unis d'Amérique               148432.0             154699.0   \n",
       "74                  Israël                 2525.0                801.0   \n",
       "72                 Irlande                 3758.0               1120.0   \n",
       "75                  Italie                16144.0               3228.0   \n",
       "89              Luxembourg                  147.0                 11.0   \n",
       "168                 Égypte                15084.0               2262.0   \n",
       "4                Allemagne                30209.0               7711.0   \n",
       "\n",
       "     Disponibilité alimentaire (Kcal/personne/jour)  \\\n",
       "11                                           3770.0   \n",
       "16                                           3737.0   \n",
       "159                                          3708.0   \n",
       "171                                          3682.0   \n",
       "74                                           3610.0   \n",
       "72                                           3602.0   \n",
       "75                                           3578.0   \n",
       "89                                           3540.0   \n",
       "168                                          3518.0   \n",
       "4                                            3503.0   \n",
       "\n",
       "     Disponibilité alimentaire en quantité (kg/personne/an)  \\\n",
       "11                                             1069.20        \n",
       "16                                             1002.09        \n",
       "159                                             968.15        \n",
       "171                                            1002.39        \n",
       "74                                              922.14        \n",
       "72                                             1150.15        \n",
       "75                                              993.20        \n",
       "89                                             1150.66        \n",
       "168                                             803.79        \n",
       "4                                               957.52        \n",
       "\n",
       "     Disponibilité de matière grasse en quantité (g/personne/jour)  \\\n",
       "11                                              170.44               \n",
       "16                                              161.95               \n",
       "159                                             119.64               \n",
       "171                                             161.37               \n",
       "74                                              151.39               \n",
       "72                                              125.69               \n",
       "75                                              154.69               \n",
       "89                                              141.49               \n",
       "168                                              63.09               \n",
       "4                                               141.62               \n",
       "\n",
       "     Disponibilité de protéines en quantité (g/personne/jour)  \\\n",
       "11                                              106.20          \n",
       "16                                               99.37          \n",
       "159                                             108.12          \n",
       "171                                             109.42          \n",
       "74                                              128.00          \n",
       "72                                              109.91          \n",
       "75                                              108.49          \n",
       "89                                              113.64          \n",
       "168                                             103.22          \n",
       "4                                               101.39          \n",
       "\n",
       "     Disponibilité intérieure  Exportations - Quantité  \\\n",
       "11                    19308.0                   6733.0   \n",
       "16                    29358.0                  30345.0   \n",
       "159                  131377.0                  14593.0   \n",
       "171                  777992.0                 163524.0   \n",
       "74                    11267.0                   1648.0   \n",
       "72                    10738.0                   6828.0   \n",
       "75                    97405.0                  23643.0   \n",
       "89                      802.0                    821.0   \n",
       "168                  115133.0                   5014.0   \n",
       "4                    162275.0                  57431.0   \n",
       "\n",
       "     Importations - Quantité  Nourriture   Pertes  Production  Semences  \\\n",
       "11                    8463.0      9085.0    459.0     18129.0     173.0   \n",
       "16                   35276.0     11134.0    564.0     24496.0     153.0   \n",
       "159                  12136.0     72551.0  12036.0    137432.0    2553.0   \n",
       "171                  81887.0    320889.0   7162.0    894668.0   10403.0   \n",
       "74                    5883.0      7132.0    220.0      6906.0      71.0   \n",
       "72                    6254.0      5320.0    236.0     11501.0      89.0   \n",
       "75                   38692.0     60584.0   1861.0     80855.0     736.0   \n",
       "89                    1076.0       607.0     11.0       593.0       9.0   \n",
       "168                  24100.0     65957.0   7608.0     95848.0    1365.0   \n",
       "4                    65353.0     79238.0   3781.0    154547.0    1551.0   \n",
       "\n",
       "     Traitement  Variation de stock  \n",
       "11       5178.0              -556.0  \n",
       "16       8960.0               -64.0  \n",
       "159     23560.0             -3599.0  \n",
       "171    141010.0            -35032.0  \n",
       "74        564.0               128.0  \n",
       "72        399.0              -192.0  \n",
       "75      14870.0              1496.0  \n",
       "89         24.0               -41.0  \n",
       "168     22924.0               199.0  \n",
       "4       39842.0              -192.0  "
      ]
     },
     "execution_count": 77,
     "metadata": {},
     "output_type": "execute_result"
    }
   ],
   "source": [
    "zone_data_alimentaire.sort_values(by='Disponibilité alimentaire (Kcal/personne/jour)', ascending=False).head(10)"
   ]
  },
  {
   "cell_type": "code",
   "execution_count": 78,
   "id": "8efdadbf-36f6-4243-86d0-9295847fe6a0",
   "metadata": {},
   "outputs": [],
   "source": [
    "#pays_plus_dispo_alimentaire = zone_data_alimentaire.loc[zone_data_alimentaire.index[11],'Zone']\n",
    "#print(f\"Le pays ayant le plus de Diponibilité alimentaire est l'{pays_plus_dispo_alimentaire}\")"
   ]
  },
  {
   "cell_type": "code",
   "execution_count": 79,
   "id": "e33779c0-e19a-44de-bec6-df55b7d5161b",
   "metadata": {},
   "outputs": [
    {
     "data": {
      "text/html": [
       "<div>\n",
       "<style scoped>\n",
       "    .dataframe tbody tr th:only-of-type {\n",
       "        vertical-align: middle;\n",
       "    }\n",
       "\n",
       "    .dataframe tbody tr th {\n",
       "        vertical-align: top;\n",
       "    }\n",
       "\n",
       "    .dataframe thead th {\n",
       "        text-align: right;\n",
       "    }\n",
       "</style>\n",
       "<table border=\"1\" class=\"dataframe\">\n",
       "  <thead>\n",
       "    <tr style=\"text-align: right;\">\n",
       "      <th></th>\n",
       "      <th>Zone</th>\n",
       "      <th>Aliments pour animaux</th>\n",
       "      <th>Autres Utilisations</th>\n",
       "      <th>Disponibilité alimentaire (Kcal/personne/jour)</th>\n",
       "      <th>Disponibilité alimentaire en quantité (kg/personne/an)</th>\n",
       "      <th>Disponibilité de matière grasse en quantité (g/personne/jour)</th>\n",
       "      <th>Disponibilité de protéines en quantité (g/personne/jour)</th>\n",
       "      <th>Disponibilité intérieure</th>\n",
       "      <th>Exportations - Quantité</th>\n",
       "      <th>Importations - Quantité</th>\n",
       "      <th>Nourriture</th>\n",
       "      <th>Pertes</th>\n",
       "      <th>Production</th>\n",
       "      <th>Semences</th>\n",
       "      <th>Traitement</th>\n",
       "      <th>Variation de stock</th>\n",
       "    </tr>\n",
       "  </thead>\n",
       "  <tbody>\n",
       "    <tr>\n",
       "      <th>128</th>\n",
       "      <td>République centrafricaine</td>\n",
       "      <td>1.0</td>\n",
       "      <td>27.0</td>\n",
       "      <td>1879.0</td>\n",
       "      <td>453.73</td>\n",
       "      <td>59.41</td>\n",
       "      <td>46.04</td>\n",
       "      <td>2582.0</td>\n",
       "      <td>0.0</td>\n",
       "      <td>76.0</td>\n",
       "      <td>2092.0</td>\n",
       "      <td>122.0</td>\n",
       "      <td>2503.0</td>\n",
       "      <td>63.0</td>\n",
       "      <td>278.0</td>\n",
       "      <td>3.0</td>\n",
       "    </tr>\n",
       "    <tr>\n",
       "      <th>166</th>\n",
       "      <td>Zambie</td>\n",
       "      <td>408.0</td>\n",
       "      <td>69.0</td>\n",
       "      <td>1924.0</td>\n",
       "      <td>350.12</td>\n",
       "      <td>42.05</td>\n",
       "      <td>55.22</td>\n",
       "      <td>10041.0</td>\n",
       "      <td>675.0</td>\n",
       "      <td>380.0</td>\n",
       "      <td>5088.0</td>\n",
       "      <td>242.0</td>\n",
       "      <td>10526.0</td>\n",
       "      <td>76.0</td>\n",
       "      <td>4178.0</td>\n",
       "      <td>-182.0</td>\n",
       "    </tr>\n",
       "    <tr>\n",
       "      <th>91</th>\n",
       "      <td>Madagascar</td>\n",
       "      <td>842.0</td>\n",
       "      <td>2522.0</td>\n",
       "      <td>2056.0</td>\n",
       "      <td>425.07</td>\n",
       "      <td>24.49</td>\n",
       "      <td>46.69</td>\n",
       "      <td>15216.0</td>\n",
       "      <td>236.0</td>\n",
       "      <td>924.0</td>\n",
       "      <td>9741.0</td>\n",
       "      <td>966.0</td>\n",
       "      <td>14160.0</td>\n",
       "      <td>375.0</td>\n",
       "      <td>844.0</td>\n",
       "      <td>375.0</td>\n",
       "    </tr>\n",
       "    <tr>\n",
       "      <th>0</th>\n",
       "      <td>Afghanistan</td>\n",
       "      <td>768.0</td>\n",
       "      <td>415.0</td>\n",
       "      <td>2087.0</td>\n",
       "      <td>351.41</td>\n",
       "      <td>33.50</td>\n",
       "      <td>58.26</td>\n",
       "      <td>13515.0</td>\n",
       "      <td>278.0</td>\n",
       "      <td>2988.0</td>\n",
       "      <td>10735.0</td>\n",
       "      <td>1135.0</td>\n",
       "      <td>11171.0</td>\n",
       "      <td>395.0</td>\n",
       "      <td>63.0</td>\n",
       "      <td>-368.0</td>\n",
       "    </tr>\n",
       "    <tr>\n",
       "      <th>65</th>\n",
       "      <td>Haïti</td>\n",
       "      <td>481.0</td>\n",
       "      <td>115.0</td>\n",
       "      <td>2089.0</td>\n",
       "      <td>397.78</td>\n",
       "      <td>48.92</td>\n",
       "      <td>47.70</td>\n",
       "      <td>6175.0</td>\n",
       "      <td>15.0</td>\n",
       "      <td>1204.0</td>\n",
       "      <td>4101.0</td>\n",
       "      <td>679.0</td>\n",
       "      <td>5072.0</td>\n",
       "      <td>36.0</td>\n",
       "      <td>762.0</td>\n",
       "      <td>-77.0</td>\n",
       "    </tr>\n",
       "    <tr>\n",
       "      <th>133</th>\n",
       "      <td>République populaire démocratique de Corée</td>\n",
       "      <td>816.0</td>\n",
       "      <td>695.0</td>\n",
       "      <td>2093.0</td>\n",
       "      <td>458.93</td>\n",
       "      <td>36.41</td>\n",
       "      <td>54.99</td>\n",
       "      <td>14876.0</td>\n",
       "      <td>83.0</td>\n",
       "      <td>993.0</td>\n",
       "      <td>11425.0</td>\n",
       "      <td>1066.0</td>\n",
       "      <td>13883.0</td>\n",
       "      <td>194.0</td>\n",
       "      <td>678.0</td>\n",
       "      <td>84.0</td>\n",
       "    </tr>\n",
       "    <tr>\n",
       "      <th>151</th>\n",
       "      <td>Tchad</td>\n",
       "      <td>104.0</td>\n",
       "      <td>2.0</td>\n",
       "      <td>2109.0</td>\n",
       "      <td>319.45</td>\n",
       "      <td>47.10</td>\n",
       "      <td>62.75</td>\n",
       "      <td>5304.0</td>\n",
       "      <td>0.0</td>\n",
       "      <td>290.0</td>\n",
       "      <td>4097.0</td>\n",
       "      <td>459.0</td>\n",
       "      <td>5153.0</td>\n",
       "      <td>101.0</td>\n",
       "      <td>542.0</td>\n",
       "      <td>-141.0</td>\n",
       "    </tr>\n",
       "    <tr>\n",
       "      <th>167</th>\n",
       "      <td>Zimbabwe</td>\n",
       "      <td>131.0</td>\n",
       "      <td>23.0</td>\n",
       "      <td>2113.0</td>\n",
       "      <td>336.59</td>\n",
       "      <td>57.18</td>\n",
       "      <td>48.32</td>\n",
       "      <td>9507.0</td>\n",
       "      <td>278.0</td>\n",
       "      <td>1342.0</td>\n",
       "      <td>4762.0</td>\n",
       "      <td>188.0</td>\n",
       "      <td>7914.0</td>\n",
       "      <td>76.0</td>\n",
       "      <td>4330.0</td>\n",
       "      <td>531.0</td>\n",
       "    </tr>\n",
       "    <tr>\n",
       "      <th>114</th>\n",
       "      <td>Ouganda</td>\n",
       "      <td>348.0</td>\n",
       "      <td>68.0</td>\n",
       "      <td>2126.0</td>\n",
       "      <td>535.58</td>\n",
       "      <td>46.57</td>\n",
       "      <td>52.64</td>\n",
       "      <td>26624.0</td>\n",
       "      <td>1218.0</td>\n",
       "      <td>1257.0</td>\n",
       "      <td>20121.0</td>\n",
       "      <td>991.0</td>\n",
       "      <td>26321.0</td>\n",
       "      <td>154.0</td>\n",
       "      <td>4982.0</td>\n",
       "      <td>269.0</td>\n",
       "    </tr>\n",
       "    <tr>\n",
       "      <th>154</th>\n",
       "      <td>Timor-Leste</td>\n",
       "      <td>9.0</td>\n",
       "      <td>2.0</td>\n",
       "      <td>2129.0</td>\n",
       "      <td>369.10</td>\n",
       "      <td>51.08</td>\n",
       "      <td>57.51</td>\n",
       "      <td>447.0</td>\n",
       "      <td>23.0</td>\n",
       "      <td>100.0</td>\n",
       "      <td>419.0</td>\n",
       "      <td>14.0</td>\n",
       "      <td>371.0</td>\n",
       "      <td>2.0</td>\n",
       "      <td>3.0</td>\n",
       "      <td>2.0</td>\n",
       "    </tr>\n",
       "  </tbody>\n",
       "</table>\n",
       "</div>"
      ],
      "text/plain": [
       "                                           Zone  Aliments pour animaux  \\\n",
       "128                   République centrafricaine                    1.0   \n",
       "166                                      Zambie                  408.0   \n",
       "91                                   Madagascar                  842.0   \n",
       "0                                   Afghanistan                  768.0   \n",
       "65                                        Haïti                  481.0   \n",
       "133  République populaire démocratique de Corée                  816.0   \n",
       "151                                       Tchad                  104.0   \n",
       "167                                    Zimbabwe                  131.0   \n",
       "114                                     Ouganda                  348.0   \n",
       "154                                 Timor-Leste                    9.0   \n",
       "\n",
       "     Autres Utilisations  Disponibilité alimentaire (Kcal/personne/jour)  \\\n",
       "128                 27.0                                          1879.0   \n",
       "166                 69.0                                          1924.0   \n",
       "91                2522.0                                          2056.0   \n",
       "0                  415.0                                          2087.0   \n",
       "65                 115.0                                          2089.0   \n",
       "133                695.0                                          2093.0   \n",
       "151                  2.0                                          2109.0   \n",
       "167                 23.0                                          2113.0   \n",
       "114                 68.0                                          2126.0   \n",
       "154                  2.0                                          2129.0   \n",
       "\n",
       "     Disponibilité alimentaire en quantité (kg/personne/an)  \\\n",
       "128                                             453.73        \n",
       "166                                             350.12        \n",
       "91                                              425.07        \n",
       "0                                               351.41        \n",
       "65                                              397.78        \n",
       "133                                             458.93        \n",
       "151                                             319.45        \n",
       "167                                             336.59        \n",
       "114                                             535.58        \n",
       "154                                             369.10        \n",
       "\n",
       "     Disponibilité de matière grasse en quantité (g/personne/jour)  \\\n",
       "128                                              59.41               \n",
       "166                                              42.05               \n",
       "91                                               24.49               \n",
       "0                                                33.50               \n",
       "65                                               48.92               \n",
       "133                                              36.41               \n",
       "151                                              47.10               \n",
       "167                                              57.18               \n",
       "114                                              46.57               \n",
       "154                                              51.08               \n",
       "\n",
       "     Disponibilité de protéines en quantité (g/personne/jour)  \\\n",
       "128                                              46.04          \n",
       "166                                              55.22          \n",
       "91                                               46.69          \n",
       "0                                                58.26          \n",
       "65                                               47.70          \n",
       "133                                              54.99          \n",
       "151                                              62.75          \n",
       "167                                              48.32          \n",
       "114                                              52.64          \n",
       "154                                              57.51          \n",
       "\n",
       "     Disponibilité intérieure  Exportations - Quantité  \\\n",
       "128                    2582.0                      0.0   \n",
       "166                   10041.0                    675.0   \n",
       "91                    15216.0                    236.0   \n",
       "0                     13515.0                    278.0   \n",
       "65                     6175.0                     15.0   \n",
       "133                   14876.0                     83.0   \n",
       "151                    5304.0                      0.0   \n",
       "167                    9507.0                    278.0   \n",
       "114                   26624.0                   1218.0   \n",
       "154                     447.0                     23.0   \n",
       "\n",
       "     Importations - Quantité  Nourriture  Pertes  Production  Semences  \\\n",
       "128                     76.0      2092.0   122.0      2503.0      63.0   \n",
       "166                    380.0      5088.0   242.0     10526.0      76.0   \n",
       "91                     924.0      9741.0   966.0     14160.0     375.0   \n",
       "0                     2988.0     10735.0  1135.0     11171.0     395.0   \n",
       "65                    1204.0      4101.0   679.0      5072.0      36.0   \n",
       "133                    993.0     11425.0  1066.0     13883.0     194.0   \n",
       "151                    290.0      4097.0   459.0      5153.0     101.0   \n",
       "167                   1342.0      4762.0   188.0      7914.0      76.0   \n",
       "114                   1257.0     20121.0   991.0     26321.0     154.0   \n",
       "154                    100.0       419.0    14.0       371.0       2.0   \n",
       "\n",
       "     Traitement  Variation de stock  \n",
       "128       278.0                 3.0  \n",
       "166      4178.0              -182.0  \n",
       "91        844.0               375.0  \n",
       "0          63.0              -368.0  \n",
       "65        762.0               -77.0  \n",
       "133       678.0                84.0  \n",
       "151       542.0              -141.0  \n",
       "167      4330.0               531.0  \n",
       "114      4982.0               269.0  \n",
       "154         3.0                 2.0  "
      ]
     },
     "execution_count": 79,
     "metadata": {},
     "output_type": "execute_result"
    }
   ],
   "source": [
    "zone_data_alimentaire.sort_values(by='Disponibilité alimentaire (Kcal/personne/jour)', ascending=True).head(10)"
   ]
  },
  {
   "cell_type": "markdown",
   "id": "263f0f01-9e9e-453d-8143-59cbbc3ea4e1",
   "metadata": {
    "tags": []
   },
   "source": [
    "### Question de Julien. <a class=\"anchor\" id=\"section9\"></a>\n",
    "[Retour au sommaire](#sommaire)"
   ]
  },
  {
   "cell_type": "markdown",
   "id": "46593616-fd4f-4dda-9580-7fda58bf811b",
   "metadata": {
    "tags": []
   },
   "source": [
    "#### Logique entre l’ensemble des 10 variables. 9.1 <a class=\"anchor\" id=\"section_9_1\"></a>"
   ]
  },
  {
   "cell_type": "markdown",
   "id": "82fd01bf-0e99-429b-9ed9-34cea19923a1",
   "metadata": {},
   "source": [
    "Ces variables  sont toutes exprimées en milliers de tonnes"
   ]
  },
  {
   "cell_type": "markdown",
   "id": "1d44b5b6-6c47-460c-bd7e-50c837807aed",
   "metadata": {},
   "source": [
    "```(Production + Importations - Exportations) - Variation de stock = Disponsibilité intérierieur = Aliments pour animaux + Autres Utilisations + Nourriture + Pertes + Semences + Traitement```"
   ]
  },
  {
   "cell_type": "markdown",
   "id": "59f1784c-f427-4842-a505-3feab2971309",
   "metadata": {},
   "source": [
    "##### Vérification de l'équation 9.1.1 <a class=\"anchor\" id=\"section_9_1_1\"></a>"
   ]
  },
  {
   "cell_type": "code",
   "execution_count": 80,
   "id": "85f8a85d-dfee-4b21-9921-2b4d20d23cee",
   "metadata": {},
   "outputs": [],
   "source": [
    "#zone_data_alimentaire['Zone'].str.contains('Éth').any()"
   ]
  },
  {
   "cell_type": "code",
   "execution_count": 81,
   "id": "3587fe0f-f797-4a27-9512-9f56432cc024",
   "metadata": {},
   "outputs": [],
   "source": [
    "#table[col].str.normalize('NFKD').str.encode('ascii', errors='ignore').str.decode('utf-8').to_frame()"
   ]
  },
  {
   "cell_type": "code",
   "execution_count": 177,
   "id": "a1a6635f-2de2-4dba-90e6-d169faa59e4c",
   "metadata": {},
   "outputs": [
    {
     "data": {
      "text/html": [
       "<div>\n",
       "<style scoped>\n",
       "    .dataframe tbody tr th:only-of-type {\n",
       "        vertical-align: middle;\n",
       "    }\n",
       "\n",
       "    .dataframe tbody tr th {\n",
       "        vertical-align: top;\n",
       "    }\n",
       "\n",
       "    .dataframe thead th {\n",
       "        text-align: right;\n",
       "    }\n",
       "</style>\n",
       "<table border=\"1\" class=\"dataframe\">\n",
       "  <thead>\n",
       "    <tr style=\"text-align: right;\">\n",
       "      <th></th>\n",
       "      <th>Zone</th>\n",
       "      <th>Aliments pour animaux</th>\n",
       "      <th>Autres Utilisations</th>\n",
       "      <th>Disponibilité alimentaire (Kcal/personne/jour)</th>\n",
       "      <th>Disponibilité alimentaire en quantité (kg/personne/an)</th>\n",
       "      <th>Disponibilité de matière grasse en quantité (g/personne/jour)</th>\n",
       "      <th>Disponibilité de protéines en quantité (g/personne/jour)</th>\n",
       "      <th>Disponibilité intérieure</th>\n",
       "      <th>Exportations - Quantité</th>\n",
       "      <th>Importations - Quantité</th>\n",
       "      <th>Nourriture</th>\n",
       "      <th>Pertes</th>\n",
       "      <th>Production</th>\n",
       "      <th>Semences</th>\n",
       "      <th>Traitement</th>\n",
       "      <th>Variation de stock</th>\n",
       "    </tr>\n",
       "  </thead>\n",
       "  <tbody>\n",
       "    <tr>\n",
       "      <th>1</th>\n",
       "      <td>Afrique du Sud</td>\n",
       "      <td>5309.0</td>\n",
       "      <td>876.0</td>\n",
       "      <td>3020.0</td>\n",
       "      <td>564.80</td>\n",
       "      <td>83.58</td>\n",
       "      <td>85.33</td>\n",
       "      <td>61256.0</td>\n",
       "      <td>11674.0</td>\n",
       "      <td>7517.0</td>\n",
       "      <td>29812.0</td>\n",
       "      <td>2193.0</td>\n",
       "      <td>63263.0</td>\n",
       "      <td>253.0</td>\n",
       "      <td>22819.0</td>\n",
       "      <td>2153.0</td>\n",
       "    </tr>\n",
       "    <tr>\n",
       "      <th>53</th>\n",
       "      <td>France</td>\n",
       "      <td>22769.0</td>\n",
       "      <td>14405.0</td>\n",
       "      <td>3482.0</td>\n",
       "      <td>937.43</td>\n",
       "      <td>159.15</td>\n",
       "      <td>110.50</td>\n",
       "      <td>146905.0</td>\n",
       "      <td>65945.0</td>\n",
       "      <td>33769.0</td>\n",
       "      <td>60272.0</td>\n",
       "      <td>3261.0</td>\n",
       "      <td>178136.0</td>\n",
       "      <td>1648.0</td>\n",
       "      <td>44966.0</td>\n",
       "      <td>944.0</td>\n",
       "    </tr>\n",
       "    <tr>\n",
       "      <th>122</th>\n",
       "      <td>Polynésie française</td>\n",
       "      <td>4.0</td>\n",
       "      <td>44.0</td>\n",
       "      <td>2923.0</td>\n",
       "      <td>735.66</td>\n",
       "      <td>126.09</td>\n",
       "      <td>97.27</td>\n",
       "      <td>335.0</td>\n",
       "      <td>10.0</td>\n",
       "      <td>176.0</td>\n",
       "      <td>202.0</td>\n",
       "      <td>3.0</td>\n",
       "      <td>159.0</td>\n",
       "      <td>0.0</td>\n",
       "      <td>76.0</td>\n",
       "      <td>9.0</td>\n",
       "    </tr>\n",
       "    <tr>\n",
       "      <th>128</th>\n",
       "      <td>République centrafricaine</td>\n",
       "      <td>1.0</td>\n",
       "      <td>27.0</td>\n",
       "      <td>1879.0</td>\n",
       "      <td>453.73</td>\n",
       "      <td>59.41</td>\n",
       "      <td>46.04</td>\n",
       "      <td>2582.0</td>\n",
       "      <td>0.0</td>\n",
       "      <td>76.0</td>\n",
       "      <td>2092.0</td>\n",
       "      <td>122.0</td>\n",
       "      <td>2503.0</td>\n",
       "      <td>63.0</td>\n",
       "      <td>278.0</td>\n",
       "      <td>3.0</td>\n",
       "    </tr>\n",
       "  </tbody>\n",
       "</table>\n",
       "</div>"
      ],
      "text/plain": [
       "                          Zone  Aliments pour animaux  Autres Utilisations  \\\n",
       "1               Afrique du Sud                 5309.0                876.0   \n",
       "53                      France                22769.0              14405.0   \n",
       "122        Polynésie française                    4.0                 44.0   \n",
       "128  République centrafricaine                    1.0                 27.0   \n",
       "\n",
       "     Disponibilité alimentaire (Kcal/personne/jour)  \\\n",
       "1                                            3020.0   \n",
       "53                                           3482.0   \n",
       "122                                          2923.0   \n",
       "128                                          1879.0   \n",
       "\n",
       "     Disponibilité alimentaire en quantité (kg/personne/an)  \\\n",
       "1                                               564.80        \n",
       "53                                              937.43        \n",
       "122                                             735.66        \n",
       "128                                             453.73        \n",
       "\n",
       "     Disponibilité de matière grasse en quantité (g/personne/jour)  \\\n",
       "1                                                83.58               \n",
       "53                                              159.15               \n",
       "122                                             126.09               \n",
       "128                                              59.41               \n",
       "\n",
       "     Disponibilité de protéines en quantité (g/personne/jour)  \\\n",
       "1                                                85.33          \n",
       "53                                              110.50          \n",
       "122                                              97.27          \n",
       "128                                              46.04          \n",
       "\n",
       "     Disponibilité intérieure  Exportations - Quantité  \\\n",
       "1                     61256.0                  11674.0   \n",
       "53                   146905.0                  65945.0   \n",
       "122                     335.0                     10.0   \n",
       "128                    2582.0                      0.0   \n",
       "\n",
       "     Importations - Quantité  Nourriture  Pertes  Production  Semences  \\\n",
       "1                     7517.0     29812.0  2193.0     63263.0     253.0   \n",
       "53                   33769.0     60272.0  3261.0    178136.0    1648.0   \n",
       "122                    176.0       202.0     3.0       159.0       0.0   \n",
       "128                     76.0      2092.0   122.0      2503.0      63.0   \n",
       "\n",
       "     Traitement  Variation de stock  \n",
       "1       22819.0              2153.0  \n",
       "53      44966.0               944.0  \n",
       "122        76.0                 9.0  \n",
       "128       278.0                 3.0  "
      ]
     },
     "execution_count": 177,
     "metadata": {},
     "output_type": "execute_result"
    }
   ],
   "source": [
    "find_substring_on_table(zone_data_alimentaire, 'fr')"
   ]
  },
  {
   "cell_type": "code",
   "execution_count": 84,
   "id": "1add86fc-73b2-4cb7-ab90-7479fad44ec2",
   "metadata": {},
   "outputs": [
    {
     "data": {
      "text/html": [
       "<div>\n",
       "<style scoped>\n",
       "    .dataframe tbody tr th:only-of-type {\n",
       "        vertical-align: middle;\n",
       "    }\n",
       "\n",
       "    .dataframe tbody tr th {\n",
       "        vertical-align: top;\n",
       "    }\n",
       "\n",
       "    .dataframe thead th {\n",
       "        text-align: right;\n",
       "    }\n",
       "</style>\n",
       "<table border=\"1\" class=\"dataframe\">\n",
       "  <thead>\n",
       "    <tr style=\"text-align: right;\">\n",
       "      <th></th>\n",
       "      <th>Zone</th>\n",
       "      <th>Aliments pour animaux</th>\n",
       "      <th>Autres Utilisations</th>\n",
       "      <th>Disponibilité alimentaire (Kcal/personne/jour)</th>\n",
       "      <th>Disponibilité alimentaire en quantité (kg/personne/an)</th>\n",
       "      <th>Disponibilité de matière grasse en quantité (g/personne/jour)</th>\n",
       "      <th>Disponibilité de protéines en quantité (g/personne/jour)</th>\n",
       "      <th>Disponibilité intérieure</th>\n",
       "      <th>Exportations - Quantité</th>\n",
       "      <th>Importations - Quantité</th>\n",
       "      <th>Nourriture</th>\n",
       "      <th>Pertes</th>\n",
       "      <th>Production</th>\n",
       "      <th>Semences</th>\n",
       "      <th>Traitement</th>\n",
       "      <th>Variation de stock</th>\n",
       "    </tr>\n",
       "  </thead>\n",
       "  <tbody>\n",
       "    <tr>\n",
       "      <th>3</th>\n",
       "      <td>Algérie</td>\n",
       "      <td>4352.0</td>\n",
       "      <td>1707.0</td>\n",
       "      <td>3293.0</td>\n",
       "      <td>809.13</td>\n",
       "      <td>76.48</td>\n",
       "      <td>91.92</td>\n",
       "      <td>42630.0</td>\n",
       "      <td>655.0</td>\n",
       "      <td>17403.0</td>\n",
       "      <td>31729.0</td>\n",
       "      <td>3753.0</td>\n",
       "      <td>26359.0</td>\n",
       "      <td>449.0</td>\n",
       "      <td>637.0</td>\n",
       "      <td>-479.0</td>\n",
       "    </tr>\n",
       "  </tbody>\n",
       "</table>\n",
       "</div>"
      ],
      "text/plain": [
       "      Zone  Aliments pour animaux  Autres Utilisations  \\\n",
       "3  Algérie                 4352.0               1707.0   \n",
       "\n",
       "   Disponibilité alimentaire (Kcal/personne/jour)  \\\n",
       "3                                          3293.0   \n",
       "\n",
       "   Disponibilité alimentaire en quantité (kg/personne/an)  \\\n",
       "3                                             809.13        \n",
       "\n",
       "   Disponibilité de matière grasse en quantité (g/personne/jour)  \\\n",
       "3                                              76.48               \n",
       "\n",
       "   Disponibilité de protéines en quantité (g/personne/jour)  \\\n",
       "3                                              91.92          \n",
       "\n",
       "   Disponibilité intérieure  Exportations - Quantité  Importations - Quantité  \\\n",
       "3                   42630.0                    655.0                  17403.0   \n",
       "\n",
       "   Nourriture  Pertes  Production  Semences  Traitement  Variation de stock  \n",
       "3     31729.0  3753.0     26359.0     449.0       637.0              -479.0  "
      ]
     },
     "execution_count": 84,
     "metadata": {},
     "output_type": "execute_result"
    }
   ],
   "source": [
    "zone_data_alimentaire_pays = zone_data_alimentaire.iloc[[3]]\n",
    "zone_data_alimentaire_pays"
   ]
  },
  {
   "cell_type": "code",
   "execution_count": 85,
   "id": "f3ea3938-aca6-48b5-8b47-40facb467b9b",
   "metadata": {},
   "outputs": [
    {
     "data": {
      "text/plain": [
       "3    42628.0\n",
       "dtype: float64"
      ]
     },
     "execution_count": 85,
     "metadata": {},
     "output_type": "execute_result"
    }
   ],
   "source": [
    "relation_1_dispo_interieur = (zone_data_alimentaire_pays['Production'] + zone_data_alimentaire_pays['Importations - Quantité'] - zone_data_alimentaire_pays['Exportations - Quantité']) +\\\n",
    "zone_data_alimentaire_pays['Variation de stock']\n",
    "relation_1_dispo_interieur"
   ]
  },
  {
   "cell_type": "code",
   "execution_count": 86,
   "id": "e30dc173-b508-40ae-8873-86c3c229114c",
   "metadata": {},
   "outputs": [
    {
     "data": {
      "text/plain": [
       "3    42627.0\n",
       "dtype: float64"
      ]
     },
     "execution_count": 86,
     "metadata": {},
     "output_type": "execute_result"
    }
   ],
   "source": [
    "relation_2_dispo_interieur = zone_data_alimentaire_pays['Aliments pour animaux'] + zone_data_alimentaire_pays['Autres Utilisations'] + zone_data_alimentaire_pays['Nourriture'] +\\\n",
    "zone_data_alimentaire_pays['Pertes'] + zone_data_alimentaire_pays['Semences'] + zone_data_alimentaire_pays['Traitement']\n",
    "relation_2_dispo_interieur"
   ]
  },
  {
   "cell_type": "code",
   "execution_count": 87,
   "id": "cef524bd-0cf4-419b-99b3-390958465c34",
   "metadata": {},
   "outputs": [
    {
     "data": {
      "text/plain": [
       "3    42630.0\n",
       "Name: Disponibilité intérieure, dtype: float64"
      ]
     },
     "execution_count": 87,
     "metadata": {},
     "output_type": "execute_result"
    }
   ],
   "source": [
    "zone_data_alimentaire_pays['Disponibilité intérieure']"
   ]
  },
  {
   "cell_type": "markdown",
   "id": "2bfc6824-4732-4ef2-bd53-b5fd6bddc1bb",
   "metadata": {
    "tags": []
   },
   "source": [
    "#### Chiffres intéressants sur l’utilisation des céréales, notamment la répartition entre l’alimentation humaine (colonne Nourriture) et l’alimentation pour animaux(pour l'année 2017). 9.2 <a class=\"anchor\" id=\"section_9_2\"></a>"
   ]
  },
  {
   "cell_type": "markdown",
   "id": "02629585-444e-4456-ac0b-b5b4ac9b729a",
   "metadata": {
    "tags": []
   },
   "source": [
    "##### Créatin du dataframe bilans alimentaires pour les céréales: ```data_cereales_2017```. 9.2.1 <a class=\"anchor\" id=\"section_9_2_1\"></a>"
   ]
  },
  {
   "cell_type": "code",
   "execution_count": 88,
   "id": "2151dea8-1a49-45b1-b5a2-83c78bcda91b",
   "metadata": {},
   "outputs": [
    {
     "data": {
      "text/html": [
       "<div>\n",
       "<style scoped>\n",
       "    .dataframe tbody tr th:only-of-type {\n",
       "        vertical-align: middle;\n",
       "    }\n",
       "\n",
       "    .dataframe tbody tr th {\n",
       "        vertical-align: top;\n",
       "    }\n",
       "\n",
       "    .dataframe thead th {\n",
       "        text-align: right;\n",
       "    }\n",
       "</style>\n",
       "<table border=\"1\" class=\"dataframe\">\n",
       "  <thead>\n",
       "    <tr style=\"text-align: right;\">\n",
       "      <th></th>\n",
       "      <th>Code Domaine</th>\n",
       "      <th>Domaine</th>\n",
       "      <th>Code zone (M49)</th>\n",
       "      <th>Zone</th>\n",
       "      <th>Code Élément</th>\n",
       "      <th>Élément</th>\n",
       "      <th>Code Produit (CPC)</th>\n",
       "      <th>Produit</th>\n",
       "      <th>Code année</th>\n",
       "      <th>Année</th>\n",
       "      <th>Unité</th>\n",
       "      <th>Valeur</th>\n",
       "      <th>Symbole</th>\n",
       "      <th>Description du Symbole</th>\n",
       "    </tr>\n",
       "  </thead>\n",
       "  <tbody>\n",
       "    <tr>\n",
       "      <th>0</th>\n",
       "      <td>SCL</td>\n",
       "      <td>Compte Disponibilités et Utilisations (CDU)</td>\n",
       "      <td>4</td>\n",
       "      <td>Afghanistan</td>\n",
       "      <td>5520</td>\n",
       "      <td>Aliments pour animaux</td>\n",
       "      <td>F1716</td>\n",
       "      <td>Céréales</td>\n",
       "      <td>2017</td>\n",
       "      <td>2017</td>\n",
       "      <td>tonnes</td>\n",
       "      <td>913955</td>\n",
       "      <td>I</td>\n",
       "      <td>Valeur imputée</td>\n",
       "    </tr>\n",
       "    <tr>\n",
       "      <th>1</th>\n",
       "      <td>SCL</td>\n",
       "      <td>Compte Disponibilités et Utilisations (CDU)</td>\n",
       "      <td>4</td>\n",
       "      <td>Afghanistan</td>\n",
       "      <td>5141</td>\n",
       "      <td>Disponibilité alimentaire en quantité (tonnes)</td>\n",
       "      <td>F1716</td>\n",
       "      <td>Céréales</td>\n",
       "      <td>2017</td>\n",
       "      <td>2017</td>\n",
       "      <td>tonnes</td>\n",
       "      <td>5811099</td>\n",
       "      <td>I</td>\n",
       "      <td>Valeur imputée</td>\n",
       "    </tr>\n",
       "    <tr>\n",
       "      <th>2</th>\n",
       "      <td>SCL</td>\n",
       "      <td>Compte Disponibilités et Utilisations (CDU)</td>\n",
       "      <td>710</td>\n",
       "      <td>Afrique du Sud</td>\n",
       "      <td>5520</td>\n",
       "      <td>Aliments pour animaux</td>\n",
       "      <td>F1716</td>\n",
       "      <td>Céréales</td>\n",
       "      <td>2017</td>\n",
       "      <td>2017</td>\n",
       "      <td>tonnes</td>\n",
       "      <td>6631754</td>\n",
       "      <td>I</td>\n",
       "      <td>Valeur imputée</td>\n",
       "    </tr>\n",
       "    <tr>\n",
       "      <th>3</th>\n",
       "      <td>SCL</td>\n",
       "      <td>Compte Disponibilités et Utilisations (CDU)</td>\n",
       "      <td>710</td>\n",
       "      <td>Afrique du Sud</td>\n",
       "      <td>5141</td>\n",
       "      <td>Disponibilité alimentaire en quantité (tonnes)</td>\n",
       "      <td>F1716</td>\n",
       "      <td>Céréales</td>\n",
       "      <td>2017</td>\n",
       "      <td>2017</td>\n",
       "      <td>tonnes</td>\n",
       "      <td>8154940</td>\n",
       "      <td>I</td>\n",
       "      <td>Valeur imputée</td>\n",
       "    </tr>\n",
       "    <tr>\n",
       "      <th>4</th>\n",
       "      <td>SCL</td>\n",
       "      <td>Compte Disponibilités et Utilisations (CDU)</td>\n",
       "      <td>8</td>\n",
       "      <td>Albanie</td>\n",
       "      <td>5520</td>\n",
       "      <td>Aliments pour animaux</td>\n",
       "      <td>F1716</td>\n",
       "      <td>Céréales</td>\n",
       "      <td>2017</td>\n",
       "      <td>2017</td>\n",
       "      <td>tonnes</td>\n",
       "      <td>535826</td>\n",
       "      <td>I</td>\n",
       "      <td>Valeur imputée</td>\n",
       "    </tr>\n",
       "    <tr>\n",
       "      <th>5</th>\n",
       "      <td>SCL</td>\n",
       "      <td>Compte Disponibilités et Utilisations (CDU)</td>\n",
       "      <td>8</td>\n",
       "      <td>Albanie</td>\n",
       "      <td>5141</td>\n",
       "      <td>Disponibilité alimentaire en quantité (tonnes)</td>\n",
       "      <td>F1716</td>\n",
       "      <td>Céréales</td>\n",
       "      <td>2017</td>\n",
       "      <td>2017</td>\n",
       "      <td>tonnes</td>\n",
       "      <td>322322</td>\n",
       "      <td>I</td>\n",
       "      <td>Valeur imputée</td>\n",
       "    </tr>\n",
       "    <tr>\n",
       "      <th>6</th>\n",
       "      <td>SCL</td>\n",
       "      <td>Compte Disponibilités et Utilisations (CDU)</td>\n",
       "      <td>12</td>\n",
       "      <td>Algérie</td>\n",
       "      <td>5520</td>\n",
       "      <td>Aliments pour animaux</td>\n",
       "      <td>F1716</td>\n",
       "      <td>Céréales</td>\n",
       "      <td>2017</td>\n",
       "      <td>2017</td>\n",
       "      <td>tonnes</td>\n",
       "      <td>6476029</td>\n",
       "      <td>I</td>\n",
       "      <td>Valeur imputée</td>\n",
       "    </tr>\n",
       "    <tr>\n",
       "      <th>7</th>\n",
       "      <td>SCL</td>\n",
       "      <td>Compte Disponibilités et Utilisations (CDU)</td>\n",
       "      <td>12</td>\n",
       "      <td>Algérie</td>\n",
       "      <td>5141</td>\n",
       "      <td>Disponibilité alimentaire en quantité (tonnes)</td>\n",
       "      <td>F1716</td>\n",
       "      <td>Céréales</td>\n",
       "      <td>2017</td>\n",
       "      <td>2017</td>\n",
       "      <td>tonnes</td>\n",
       "      <td>6436481</td>\n",
       "      <td>I</td>\n",
       "      <td>Valeur imputée</td>\n",
       "    </tr>\n",
       "    <tr>\n",
       "      <th>8</th>\n",
       "      <td>SCL</td>\n",
       "      <td>Compte Disponibilités et Utilisations (CDU)</td>\n",
       "      <td>276</td>\n",
       "      <td>Allemagne</td>\n",
       "      <td>5520</td>\n",
       "      <td>Aliments pour animaux</td>\n",
       "      <td>F1716</td>\n",
       "      <td>Céréales</td>\n",
       "      <td>2017</td>\n",
       "      <td>2017</td>\n",
       "      <td>tonnes</td>\n",
       "      <td>27415610</td>\n",
       "      <td>I</td>\n",
       "      <td>Valeur imputée</td>\n",
       "    </tr>\n",
       "    <tr>\n",
       "      <th>9</th>\n",
       "      <td>SCL</td>\n",
       "      <td>Compte Disponibilités et Utilisations (CDU)</td>\n",
       "      <td>276</td>\n",
       "      <td>Allemagne</td>\n",
       "      <td>5141</td>\n",
       "      <td>Disponibilité alimentaire en quantité (tonnes)</td>\n",
       "      <td>F1716</td>\n",
       "      <td>Céréales</td>\n",
       "      <td>2017</td>\n",
       "      <td>2017</td>\n",
       "      <td>tonnes</td>\n",
       "      <td>7544615</td>\n",
       "      <td>I</td>\n",
       "      <td>Valeur imputée</td>\n",
       "    </tr>\n",
       "  </tbody>\n",
       "</table>\n",
       "</div>"
      ],
      "text/plain": [
       "  Code Domaine                                      Domaine  Code zone (M49)  \\\n",
       "0          SCL  Compte Disponibilités et Utilisations (CDU)                4   \n",
       "1          SCL  Compte Disponibilités et Utilisations (CDU)                4   \n",
       "2          SCL  Compte Disponibilités et Utilisations (CDU)              710   \n",
       "3          SCL  Compte Disponibilités et Utilisations (CDU)              710   \n",
       "4          SCL  Compte Disponibilités et Utilisations (CDU)                8   \n",
       "5          SCL  Compte Disponibilités et Utilisations (CDU)                8   \n",
       "6          SCL  Compte Disponibilités et Utilisations (CDU)               12   \n",
       "7          SCL  Compte Disponibilités et Utilisations (CDU)               12   \n",
       "8          SCL  Compte Disponibilités et Utilisations (CDU)              276   \n",
       "9          SCL  Compte Disponibilités et Utilisations (CDU)              276   \n",
       "\n",
       "             Zone  Code Élément  \\\n",
       "0     Afghanistan          5520   \n",
       "1     Afghanistan          5141   \n",
       "2  Afrique du Sud          5520   \n",
       "3  Afrique du Sud          5141   \n",
       "4         Albanie          5520   \n",
       "5         Albanie          5141   \n",
       "6         Algérie          5520   \n",
       "7         Algérie          5141   \n",
       "8       Allemagne          5520   \n",
       "9       Allemagne          5141   \n",
       "\n",
       "                                          Élément Code Produit (CPC)  \\\n",
       "0                           Aliments pour animaux              F1716   \n",
       "1  Disponibilité alimentaire en quantité (tonnes)              F1716   \n",
       "2                           Aliments pour animaux              F1716   \n",
       "3  Disponibilité alimentaire en quantité (tonnes)              F1716   \n",
       "4                           Aliments pour animaux              F1716   \n",
       "5  Disponibilité alimentaire en quantité (tonnes)              F1716   \n",
       "6                           Aliments pour animaux              F1716   \n",
       "7  Disponibilité alimentaire en quantité (tonnes)              F1716   \n",
       "8                           Aliments pour animaux              F1716   \n",
       "9  Disponibilité alimentaire en quantité (tonnes)              F1716   \n",
       "\n",
       "    Produit  Code année  Année   Unité    Valeur Symbole  \\\n",
       "0  Céréales        2017   2017  tonnes    913955       I   \n",
       "1  Céréales        2017   2017  tonnes   5811099       I   \n",
       "2  Céréales        2017   2017  tonnes   6631754       I   \n",
       "3  Céréales        2017   2017  tonnes   8154940       I   \n",
       "4  Céréales        2017   2017  tonnes    535826       I   \n",
       "5  Céréales        2017   2017  tonnes    322322       I   \n",
       "6  Céréales        2017   2017  tonnes   6476029       I   \n",
       "7  Céréales        2017   2017  tonnes   6436481       I   \n",
       "8  Céréales        2017   2017  tonnes  27415610       I   \n",
       "9  Céréales        2017   2017  tonnes   7544615       I   \n",
       "\n",
       "  Description du Symbole  \n",
       "0         Valeur imputée  \n",
       "1         Valeur imputée  \n",
       "2         Valeur imputée  \n",
       "3         Valeur imputée  \n",
       "4         Valeur imputée  \n",
       "5         Valeur imputée  \n",
       "6         Valeur imputée  \n",
       "7         Valeur imputée  \n",
       "8         Valeur imputée  \n",
       "9         Valeur imputée  "
      ]
     },
     "execution_count": 88,
     "metadata": {},
     "output_type": "execute_result"
    }
   ],
   "source": [
    "df_data_cereales_2017 = pd.read_csv('FAOSTAT_data_fr_10-18-2022.csv')\n",
    "df_data_cereales_2017.head(10)"
   ]
  },
  {
   "cell_type": "code",
   "execution_count": 89,
   "id": "f92181a9-8890-467c-8273-af0d439e03b1",
   "metadata": {},
   "outputs": [
    {
     "data": {
      "text/html": [
       "<div>\n",
       "<style scoped>\n",
       "    .dataframe tbody tr th:only-of-type {\n",
       "        vertical-align: middle;\n",
       "    }\n",
       "\n",
       "    .dataframe tbody tr th {\n",
       "        vertical-align: top;\n",
       "    }\n",
       "\n",
       "    .dataframe thead th {\n",
       "        text-align: right;\n",
       "    }\n",
       "</style>\n",
       "<table border=\"1\" class=\"dataframe\">\n",
       "  <thead>\n",
       "    <tr style=\"text-align: right;\">\n",
       "      <th></th>\n",
       "      <th>Zone</th>\n",
       "      <th>Élément</th>\n",
       "      <th>Valeur</th>\n",
       "    </tr>\n",
       "  </thead>\n",
       "  <tbody>\n",
       "    <tr>\n",
       "      <th>0</th>\n",
       "      <td>Afghanistan</td>\n",
       "      <td>Aliments pour animaux</td>\n",
       "      <td>913955</td>\n",
       "    </tr>\n",
       "    <tr>\n",
       "      <th>1</th>\n",
       "      <td>Afghanistan</td>\n",
       "      <td>Disponibilité alimentaire en quantité (tonnes)</td>\n",
       "      <td>5811099</td>\n",
       "    </tr>\n",
       "    <tr>\n",
       "      <th>2</th>\n",
       "      <td>Afrique du Sud</td>\n",
       "      <td>Aliments pour animaux</td>\n",
       "      <td>6631754</td>\n",
       "    </tr>\n",
       "    <tr>\n",
       "      <th>3</th>\n",
       "      <td>Afrique du Sud</td>\n",
       "      <td>Disponibilité alimentaire en quantité (tonnes)</td>\n",
       "      <td>8154940</td>\n",
       "    </tr>\n",
       "    <tr>\n",
       "      <th>4</th>\n",
       "      <td>Albanie</td>\n",
       "      <td>Aliments pour animaux</td>\n",
       "      <td>535826</td>\n",
       "    </tr>\n",
       "    <tr>\n",
       "      <th>5</th>\n",
       "      <td>Albanie</td>\n",
       "      <td>Disponibilité alimentaire en quantité (tonnes)</td>\n",
       "      <td>322322</td>\n",
       "    </tr>\n",
       "    <tr>\n",
       "      <th>6</th>\n",
       "      <td>Algérie</td>\n",
       "      <td>Aliments pour animaux</td>\n",
       "      <td>6476029</td>\n",
       "    </tr>\n",
       "    <tr>\n",
       "      <th>7</th>\n",
       "      <td>Algérie</td>\n",
       "      <td>Disponibilité alimentaire en quantité (tonnes)</td>\n",
       "      <td>6436481</td>\n",
       "    </tr>\n",
       "    <tr>\n",
       "      <th>8</th>\n",
       "      <td>Allemagne</td>\n",
       "      <td>Aliments pour animaux</td>\n",
       "      <td>27415610</td>\n",
       "    </tr>\n",
       "    <tr>\n",
       "      <th>9</th>\n",
       "      <td>Allemagne</td>\n",
       "      <td>Disponibilité alimentaire en quantité (tonnes)</td>\n",
       "      <td>7544615</td>\n",
       "    </tr>\n",
       "  </tbody>\n",
       "</table>\n",
       "</div>"
      ],
      "text/plain": [
       "             Zone                                         Élément    Valeur\n",
       "0     Afghanistan                           Aliments pour animaux    913955\n",
       "1     Afghanistan  Disponibilité alimentaire en quantité (tonnes)   5811099\n",
       "2  Afrique du Sud                           Aliments pour animaux   6631754\n",
       "3  Afrique du Sud  Disponibilité alimentaire en quantité (tonnes)   8154940\n",
       "4         Albanie                           Aliments pour animaux    535826\n",
       "5         Albanie  Disponibilité alimentaire en quantité (tonnes)    322322\n",
       "6         Algérie                           Aliments pour animaux   6476029\n",
       "7         Algérie  Disponibilité alimentaire en quantité (tonnes)   6436481\n",
       "8       Allemagne                           Aliments pour animaux  27415610\n",
       "9       Allemagne  Disponibilité alimentaire en quantité (tonnes)   7544615"
      ]
     },
     "execution_count": 89,
     "metadata": {},
     "output_type": "execute_result"
    }
   ],
   "source": [
    "df_data_cereales_2017 = df_data_cereales_2017[['Zone', 'Élément', 'Valeur']]\n",
    "df_data_cereales_2017.head(10)"
   ]
  },
  {
   "cell_type": "markdown",
   "id": "f25aaf78-06f1-4177-84c9-67380075539e",
   "metadata": {},
   "source": [
    "__Nous allons prendre comme exemple 2 pays où la sous-nutrition est très faible (Allemagne, France) et à l'inverse 2 pays où la sous-nutrition est très élévé (Haiti, Libéria)et on va les comparer__"
   ]
  },
  {
   "cell_type": "code",
   "execution_count": 90,
   "id": "e79225e3-dcb6-4ba8-9601-79fa502e1185",
   "metadata": {},
   "outputs": [
    {
     "data": {
      "text/html": [
       "<div>\n",
       "<style scoped>\n",
       "    .dataframe tbody tr th:only-of-type {\n",
       "        vertical-align: middle;\n",
       "    }\n",
       "\n",
       "    .dataframe tbody tr th {\n",
       "        vertical-align: top;\n",
       "    }\n",
       "\n",
       "    .dataframe thead th {\n",
       "        text-align: right;\n",
       "    }\n",
       "</style>\n",
       "<table border=\"1\" class=\"dataframe\">\n",
       "  <thead>\n",
       "    <tr style=\"text-align: right;\">\n",
       "      <th></th>\n",
       "      <th>Élément</th>\n",
       "      <th>Valeur</th>\n",
       "    </tr>\n",
       "  </thead>\n",
       "  <tbody>\n",
       "    <tr>\n",
       "      <th>8</th>\n",
       "      <td>Aliments pour animaux</td>\n",
       "      <td>27415610</td>\n",
       "    </tr>\n",
       "    <tr>\n",
       "      <th>9</th>\n",
       "      <td>Disponibilité alimentaire en quantité (tonnes)</td>\n",
       "      <td>7544615</td>\n",
       "    </tr>\n",
       "  </tbody>\n",
       "</table>\n",
       "</div>"
      ],
      "text/plain": [
       "                                          Élément    Valeur\n",
       "8                           Aliments pour animaux  27415610\n",
       "9  Disponibilité alimentaire en quantité (tonnes)   7544615"
      ]
     },
     "execution_count": 90,
     "metadata": {},
     "output_type": "execute_result"
    }
   ],
   "source": [
    "df_data_2017_cereales_allemagne = df_data_cereales_2017.loc[df_data_cereales_2017['Zone'] == 'Allemagne', ['Élément', 'Valeur']]\n",
    "df_data_2017_cereales_allemagne.head(10)"
   ]
  },
  {
   "cell_type": "code",
   "execution_count": 91,
   "id": "9f6499d8-d324-45c5-a298-b7004f3485bd",
   "metadata": {},
   "outputs": [
    {
     "data": {
      "text/html": [
       "<div>\n",
       "<style scoped>\n",
       "    .dataframe tbody tr th:only-of-type {\n",
       "        vertical-align: middle;\n",
       "    }\n",
       "\n",
       "    .dataframe tbody tr th {\n",
       "        vertical-align: top;\n",
       "    }\n",
       "\n",
       "    .dataframe thead th {\n",
       "        text-align: right;\n",
       "    }\n",
       "</style>\n",
       "<table border=\"1\" class=\"dataframe\">\n",
       "  <thead>\n",
       "    <tr style=\"text-align: right;\">\n",
       "      <th></th>\n",
       "      <th>Élément</th>\n",
       "      <th>Valeur</th>\n",
       "    </tr>\n",
       "  </thead>\n",
       "  <tbody>\n",
       "    <tr>\n",
       "      <th>118</th>\n",
       "      <td>Aliments pour animaux</td>\n",
       "      <td>20061535</td>\n",
       "    </tr>\n",
       "    <tr>\n",
       "      <th>119</th>\n",
       "      <td>Disponibilité alimentaire en quantité (tonnes)</td>\n",
       "      <td>7400378</td>\n",
       "    </tr>\n",
       "  </tbody>\n",
       "</table>\n",
       "</div>"
      ],
      "text/plain": [
       "                                            Élément    Valeur\n",
       "118                           Aliments pour animaux  20061535\n",
       "119  Disponibilité alimentaire en quantité (tonnes)   7400378"
      ]
     },
     "execution_count": 91,
     "metadata": {},
     "output_type": "execute_result"
    }
   ],
   "source": [
    "df_data_2017_cereales_france = df_data_cereales_2017.loc[df_data_cereales_2017['Zone'] == 'France', ['Élément', 'Valeur']]\n",
    "df_data_2017_cereales_france.head(10)"
   ]
  },
  {
   "cell_type": "code",
   "execution_count": 92,
   "id": "5b9fc659-2f2b-4313-a316-11f415ddda44",
   "metadata": {},
   "outputs": [
    {
     "data": {
      "text/html": [
       "<div>\n",
       "<style scoped>\n",
       "    .dataframe tbody tr th:only-of-type {\n",
       "        vertical-align: middle;\n",
       "    }\n",
       "\n",
       "    .dataframe tbody tr th {\n",
       "        vertical-align: top;\n",
       "    }\n",
       "\n",
       "    .dataframe thead th {\n",
       "        text-align: right;\n",
       "    }\n",
       "</style>\n",
       "<table border=\"1\" class=\"dataframe\">\n",
       "  <thead>\n",
       "    <tr style=\"text-align: right;\">\n",
       "      <th></th>\n",
       "      <th>Élément</th>\n",
       "      <th>Valeur</th>\n",
       "    </tr>\n",
       "  </thead>\n",
       "  <tbody>\n",
       "    <tr>\n",
       "      <th>140</th>\n",
       "      <td>Aliments pour animaux</td>\n",
       "      <td>254507</td>\n",
       "    </tr>\n",
       "    <tr>\n",
       "      <th>141</th>\n",
       "      <td>Disponibilité alimentaire en quantité (tonnes)</td>\n",
       "      <td>1115182</td>\n",
       "    </tr>\n",
       "  </tbody>\n",
       "</table>\n",
       "</div>"
      ],
      "text/plain": [
       "                                            Élément   Valeur\n",
       "140                           Aliments pour animaux   254507\n",
       "141  Disponibilité alimentaire en quantité (tonnes)  1115182"
      ]
     },
     "execution_count": 92,
     "metadata": {},
     "output_type": "execute_result"
    }
   ],
   "source": [
    "df_data_2017_cereales_haiti = df_data_cereales_2017.loc[df_data_cereales_2017['Zone'] == 'Haïti' , ['Élément', 'Valeur']]\n",
    "df_data_2017_cereales_haiti.head(10)"
   ]
  },
  {
   "cell_type": "code",
   "execution_count": 93,
   "id": "8a34e263-8d0a-4681-9ce1-d2bbe112ac2e",
   "metadata": {},
   "outputs": [
    {
     "data": {
      "text/html": [
       "<div>\n",
       "<style scoped>\n",
       "    .dataframe tbody tr th:only-of-type {\n",
       "        vertical-align: middle;\n",
       "    }\n",
       "\n",
       "    .dataframe tbody tr th {\n",
       "        vertical-align: top;\n",
       "    }\n",
       "\n",
       "    .dataframe thead th {\n",
       "        text-align: right;\n",
       "    }\n",
       "</style>\n",
       "<table border=\"1\" class=\"dataframe\">\n",
       "  <thead>\n",
       "    <tr style=\"text-align: right;\">\n",
       "      <th></th>\n",
       "      <th>Élément</th>\n",
       "      <th>Valeur</th>\n",
       "    </tr>\n",
       "  </thead>\n",
       "  <tbody>\n",
       "    <tr>\n",
       "      <th>186</th>\n",
       "      <td>Aliments pour animaux</td>\n",
       "      <td>27319</td>\n",
       "    </tr>\n",
       "    <tr>\n",
       "      <th>187</th>\n",
       "      <td>Disponibilité alimentaire en quantité (tonnes)</td>\n",
       "      <td>544571</td>\n",
       "    </tr>\n",
       "  </tbody>\n",
       "</table>\n",
       "</div>"
      ],
      "text/plain": [
       "                                            Élément  Valeur\n",
       "186                           Aliments pour animaux   27319\n",
       "187  Disponibilité alimentaire en quantité (tonnes)  544571"
      ]
     },
     "execution_count": 93,
     "metadata": {},
     "output_type": "execute_result"
    }
   ],
   "source": [
    "df_data_2017_cereales_liberia = df_data_cereales_2017.loc[df_data_cereales_2017['Zone'] == 'Libéria' , ['Élément', 'Valeur']]\n",
    "df_data_2017_cereales_liberia.head(10)"
   ]
  },
  {
   "cell_type": "markdown",
   "id": "0c360993-c02b-4163-972f-09183673d25f",
   "metadata": {
    "tags": []
   },
   "source": [
    "##### Répartition des céréales entre l'alimentation pour les humains et celle pour les animaux. 9.2.2 <a class=\"anchor\" id=\"section_9_2_2\"></a>"
   ]
  },
  {
   "cell_type": "code",
   "execution_count": 94,
   "id": "a7672007-2cc2-4704-bf45-f8d668b9fc34",
   "metadata": {},
   "outputs": [
    {
     "data": {
      "image/png": "[encoded data removed]",
      "text/plain": [
       "<Figure size 800x800 with 1 Axes>"
      ]
     },
     "metadata": {},
     "output_type": "display_data"
    },
    {
     "data": {
      "image/png": "[encoded data removed]",
      "text/plain": [
       "<Figure size 800x800 with 1 Axes>"
      ]
     },
     "metadata": {},
     "output_type": "display_data"
    },
    {
     "data": {
      "image/png": "[encoded data removed]",
      "text/plain": [
       "<Figure size 800x800 with 1 Axes>"
      ]
     },
     "metadata": {},
     "output_type": "display_data"
    },
    {
     "data": {
      "image/png": "[encoded data removed]",
      "text/plain": [
       "<Figure size 800x800 with 1 Axes>"
      ]
     },
     "metadata": {},
     "output_type": "display_data"
    }
   ],
   "source": [
    "plt.figure(figsize=(8,8))\n",
    "\n",
    "# plot chart\n",
    "ax1 = plt.subplot(121, aspect='equal')\n",
    "df_data_2017_cereales_allemagne.plot(kind='pie', y = 'Valeur', ax=ax1, autopct='%1.1f%%', \n",
    " startangle=90, shadow=False, labels=df_data_2017_cereales_allemagne['Élément'], legend = False, fontsize=12)\n",
    "# Title\n",
    "plt.title(\"Répartition des céréales en Allemagne pour l'année 2017\",color='r')\n",
    "# plotting function here, e.g. plt.hist()\n",
    "plt.savefig('allemagne')\n",
    "\n",
    "\n",
    "plt.figure(figsize=(8,8))\n",
    "ax1 = plt.subplot(121, aspect='equal')\n",
    "df_data_2017_cereales_france.plot(kind='pie', y = 'Valeur', ax=ax1, autopct='%1.1f%%', \n",
    " startangle=90, shadow=False, labels=df_data_2017_cereales_france['Élément'], legend = False, fontsize=12)\n",
    "plt.title(\"Répartition des céréales en France pour l'année 2017\",color='r')\n",
    "plt.savefig('france')\n",
    "\n",
    "plt.figure(figsize=(8,8))\n",
    "ax1 = plt.subplot(121, aspect='equal')\n",
    "df_data_2017_cereales_haiti.plot(kind='pie', y = 'Valeur', ax=ax1, autopct='%1.1f%%', \n",
    " startangle=90, shadow=False, labels=df_data_2017_cereales_haiti['Élément'], legend = False, fontsize=12)\n",
    "plt.title(\"Répartition des céréales à Haïti pour l'année 2017\",color='r')\n",
    "plt.savefig('haiti')\n",
    "\n",
    "plt.figure(figsize=(8,8))\n",
    "ax1 = plt.subplot(121, aspect='equal')\n",
    "df_data_2017_cereales_liberia.plot(kind='pie', y = 'Valeur', ax=ax1, autopct='%1.1f%%', \n",
    " startangle=90, shadow=False, labels=df_data_2017_cereales_liberia['Élément'], legend = False, fontsize=12)\n",
    "plt.title(\"Répartition des céréales au Libéria pour l'année 2017\",color='r')\n",
    "plt.savefig('Libéria')\n",
    "\n",
    "plt.show()"
   ]
  },
  {
   "cell_type": "markdown",
   "id": "442b4b6a-4c91-4a0f-a4db-61da1564abfc",
   "metadata": {
    "tags": []
   },
   "source": [
    "##### __Conclusion__ 9.2.3<a class=\"anchor\" id=\"section_9_2_3\"></a>"
   ]
  },
  {
   "cell_type": "markdown",
   "id": "3a070a2a-2c39-4995-bc28-8d30cd4f0f8f",
   "metadata": {},
   "source": [
    "Nous pouvons voir que pour les deux pays où la sous-nutrition est très faible, les céréales sont surtout utilisés pour nourrir les animaux alors que pour les deux pays qui sont en état de sous-nutritions très élevé, l'utilisation des céréales sont essentiellement pour l'alimentation humaine.\n",
    "D'après une étude, le blé constitue une céréale très peu chère. En Côte d’Ivoire par exemple, on estime qu’il est 25% moins cher que la semoule de manioc. D’autre part, la farine de blé étant facile à travailler, celle-ci facilite la fabrication de pain qui est très apprécié par la population locale, notamment les jeunes et les citadins. Au Sénégal, on estime ainsi à plus de 8 millions les baguettes de pain consommées par jour, soit une évolution de la consommation moyenne de pain par tête de 22 kg en 2000 à 32 kg en 2016 (source : Jacques Berthelot, SOL).\n",
    "\n",
    "De l'autre coté : La France, 3e producteur européen d’aliments pour animaux\n",
    "\n",
    "Pour la campagne 2020/2021, plus de 9 millions de tonnes\n",
    "de céréales ont été utilisées par l’industrie de l’alimentation\n",
    "animale, ce qui en fait la première utilisatrice de céréales en grains.\n",
    "Ce secteur consomme également la plupart des coproduits\n",
    "de transformation des céréales. Une partie de la production de céréales grains est également consommée directement à la ferme. D’autre part,\n",
    "1,4 millions d’hectares de maïs fourrage et ensilage (récolté vert, plante entière) ont été cultivés en 2021,\n",
    "pour alimenter les élevages de ruminants. Les pailles de céréales sont également utilisées pour compléter\n",
    "le fourrage et ce, particulièrement en période de sècheresse où les prairies produisent moins. "
   ]
  },
  {
   "cell_type": "markdown",
   "id": "3dcf748b-978f-45ad-ab59-b82e3f40eafa",
   "metadata": {
    "tags": []
   },
   "source": [
    "### Bonus <a class=\"anchor\" id=\"section8\"></a>\n",
    "[Retour au sommaire](#sommaire)"
   ]
  },
  {
   "cell_type": "markdown",
   "id": "ef449439-b905-4ad1-b937-28b86a08383e",
   "metadata": {
    "tags": []
   },
   "source": [
    "#### Aide alimentaire en 2016"
   ]
  },
  {
   "cell_type": "code",
   "execution_count": 95,
   "id": "e5162b1e-db0a-403c-92d3-de92625c7dc6",
   "metadata": {},
   "outputs": [
    {
     "data": {
      "text/html": [
       "<div>\n",
       "<style scoped>\n",
       "    .dataframe tbody tr th:only-of-type {\n",
       "        vertical-align: middle;\n",
       "    }\n",
       "\n",
       "    .dataframe tbody tr th {\n",
       "        vertical-align: top;\n",
       "    }\n",
       "\n",
       "    .dataframe thead th {\n",
       "        text-align: right;\n",
       "    }\n",
       "</style>\n",
       "<table border=\"1\" class=\"dataframe\">\n",
       "  <thead>\n",
       "    <tr style=\"text-align: right;\">\n",
       "      <th></th>\n",
       "      <th>Année</th>\n",
       "      <th>Valeur</th>\n",
       "    </tr>\n",
       "    <tr>\n",
       "      <th>Pays bénéficiaire</th>\n",
       "      <th></th>\n",
       "      <th></th>\n",
       "    </tr>\n",
       "  </thead>\n",
       "  <tbody>\n",
       "    <tr>\n",
       "      <th>Algérie</th>\n",
       "      <td>16128</td>\n",
       "      <td>9476</td>\n",
       "    </tr>\n",
       "    <tr>\n",
       "      <th>Bhoutan</th>\n",
       "      <td>4032</td>\n",
       "      <td>218</td>\n",
       "    </tr>\n",
       "    <tr>\n",
       "      <th>Burkina Faso</th>\n",
       "      <td>4032</td>\n",
       "      <td>72</td>\n",
       "    </tr>\n",
       "    <tr>\n",
       "      <th>Bénin</th>\n",
       "      <td>4032</td>\n",
       "      <td>144</td>\n",
       "    </tr>\n",
       "    <tr>\n",
       "      <th>Cameroun</th>\n",
       "      <td>4032</td>\n",
       "      <td>578</td>\n",
       "    </tr>\n",
       "  </tbody>\n",
       "</table>\n",
       "</div>"
      ],
      "text/plain": [
       "                   Année  Valeur\n",
       "Pays bénéficiaire               \n",
       "Algérie            16128    9476\n",
       "Bhoutan             4032     218\n",
       "Burkina Faso        4032      72\n",
       "Bénin               4032     144\n",
       "Cameroun            4032     578"
      ]
     },
     "execution_count": 95,
     "metadata": {},
     "output_type": "execute_result"
    }
   ],
   "source": [
    "data_aide_alimentaire_since_2016 = data_aide_alimentaire[data_aide_alimentaire['Année']>=2016].groupby('Pays bénéficiaire').sum()\n",
    "data_aide_alimentaire_since_2016.head()"
   ]
  },
  {
   "cell_type": "code",
   "execution_count": 96,
   "id": "77fc3911-d82b-40a0-801a-cd54bf50a5a9",
   "metadata": {},
   "outputs": [
    {
     "name": "stdout",
     "output_type": "stream",
     "text": [
      "Les pays ayant le plus bénéficié d’aide depuis 2016 sont: \n",
      "                            Valeur\n",
      "Pays bénéficiaire                \n",
      "Yémen                      465574\n",
      "République arabe syrienne  118558\n",
      "Niger                       92742\n",
      "Haïti                       12462\n",
      "Algérie                      9476\n",
      "Côte d'Ivoire                8786\n",
      "Colombie                     5466\n",
      "Honduras                     4492\n",
      "Libye                        4414\n",
      "Népal                        3484\n"
     ]
    }
   ],
   "source": [
    "rank_aide_alimentaire_2016 = data_aide_alimentaire_since_2016['Valeur'].sort_values(ascending=False)\n",
    "df_rank_aide_alimentaire_2016 = rank_aide_alimentaire_2016.to_frame().head(10)\n",
    "print(f'Les pays ayant le plus bénéficié d’aide depuis 2016 sont: \\n { df_rank_aide_alimentaire_2016}')"
   ]
  },
  {
   "cell_type": "markdown",
   "id": "aeefe839-1d39-4927-810a-afff2ed0b737",
   "metadata": {
    "jp-MarkdownHeadingCollapsed": true,
    "tags": []
   },
   "source": [
    "#### La population mondiale concidérée comme etant en sous nutrition en 2015"
   ]
  },
  {
   "cell_type": "code",
   "execution_count": 97,
   "id": "128b2243-f9a4-4126-abc4-3d5e36ee3c54",
   "metadata": {},
   "outputs": [
    {
     "data": {
      "text/html": [
       "<div>\n",
       "<style scoped>\n",
       "    .dataframe tbody tr th:only-of-type {\n",
       "        vertical-align: middle;\n",
       "    }\n",
       "\n",
       "    .dataframe tbody tr th {\n",
       "        vertical-align: top;\n",
       "    }\n",
       "\n",
       "    .dataframe thead th {\n",
       "        text-align: right;\n",
       "    }\n",
       "</style>\n",
       "<table border=\"1\" class=\"dataframe\">\n",
       "  <thead>\n",
       "    <tr style=\"text-align: right;\">\n",
       "      <th></th>\n",
       "      <th>Zone</th>\n",
       "      <th>Valeur</th>\n",
       "    </tr>\n",
       "  </thead>\n",
       "  <tbody>\n",
       "    <tr>\n",
       "      <th>2</th>\n",
       "      <td>Afghanistan</td>\n",
       "      <td>34413.603</td>\n",
       "    </tr>\n",
       "    <tr>\n",
       "      <th>8</th>\n",
       "      <td>Afrique du Sud</td>\n",
       "      <td>55386.367</td>\n",
       "    </tr>\n",
       "    <tr>\n",
       "      <th>14</th>\n",
       "      <td>Albanie</td>\n",
       "      <td>2890.513</td>\n",
       "    </tr>\n",
       "    <tr>\n",
       "      <th>20</th>\n",
       "      <td>Algérie</td>\n",
       "      <td>39728.025</td>\n",
       "    </tr>\n",
       "    <tr>\n",
       "      <th>26</th>\n",
       "      <td>Allemagne</td>\n",
       "      <td>81787.411</td>\n",
       "    </tr>\n",
       "  </tbody>\n",
       "</table>\n",
       "</div>"
      ],
      "text/plain": [
       "              Zone     Valeur\n",
       "2      Afghanistan  34413.603\n",
       "8   Afrique du Sud  55386.367\n",
       "14         Albanie   2890.513\n",
       "20         Algérie  39728.025\n",
       "26       Allemagne  81787.411"
      ]
     },
     "execution_count": 97,
     "metadata": {},
     "output_type": "execute_result"
    }
   ],
   "source": [
    "data_pop_zone_val_2015 = data_population.loc[data_population['Année'] == 2015, ['Zone', 'Valeur']]\n",
    "data_pop_zone_val_2015.head()"
   ]
  },
  {
   "cell_type": "code",
   "execution_count": 98,
   "id": "c665ef0e-55fc-4b30-a708-7b383e4c727c",
   "metadata": {},
   "outputs": [
    {
     "data": {
      "text/html": [
       "<div>\n",
       "<style scoped>\n",
       "    .dataframe tbody tr th:only-of-type {\n",
       "        vertical-align: middle;\n",
       "    }\n",
       "\n",
       "    .dataframe tbody tr th {\n",
       "        vertical-align: top;\n",
       "    }\n",
       "\n",
       "    .dataframe thead th {\n",
       "        text-align: right;\n",
       "    }\n",
       "</style>\n",
       "<table border=\"1\" class=\"dataframe\">\n",
       "  <thead>\n",
       "    <tr style=\"text-align: right;\">\n",
       "      <th></th>\n",
       "      <th>Zone</th>\n",
       "      <th>Valeur</th>\n",
       "    </tr>\n",
       "  </thead>\n",
       "  <tbody>\n",
       "    <tr>\n",
       "      <th>2</th>\n",
       "      <td>Afghanistan</td>\n",
       "      <td>34413603.0</td>\n",
       "    </tr>\n",
       "    <tr>\n",
       "      <th>8</th>\n",
       "      <td>Afrique du Sud</td>\n",
       "      <td>55386367.0</td>\n",
       "    </tr>\n",
       "    <tr>\n",
       "      <th>14</th>\n",
       "      <td>Albanie</td>\n",
       "      <td>2890513.0</td>\n",
       "    </tr>\n",
       "    <tr>\n",
       "      <th>20</th>\n",
       "      <td>Algérie</td>\n",
       "      <td>39728025.0</td>\n",
       "    </tr>\n",
       "    <tr>\n",
       "      <th>26</th>\n",
       "      <td>Allemagne</td>\n",
       "      <td>81787411.0</td>\n",
       "    </tr>\n",
       "  </tbody>\n",
       "</table>\n",
       "</div>"
      ],
      "text/plain": [
       "              Zone      Valeur\n",
       "2      Afghanistan  34413603.0\n",
       "8   Afrique du Sud  55386367.0\n",
       "14         Albanie   2890513.0\n",
       "20         Algérie  39728025.0\n",
       "26       Allemagne  81787411.0"
      ]
     },
     "execution_count": 98,
     "metadata": {},
     "output_type": "execute_result"
    }
   ],
   "source": [
    "data_pop_zone_val_2015['Valeur'] = data_population.iloc[: , 2].mul(1000)\n",
    "data_pop_zone_val_2015.head()"
   ]
  },
  {
   "cell_type": "code",
   "execution_count": 99,
   "id": "770507ce-0bb6-4760-961a-aa49757af3f9",
   "metadata": {},
   "outputs": [
    {
     "data": {
      "text/html": [
       "<div>\n",
       "<style scoped>\n",
       "    .dataframe tbody tr th:only-of-type {\n",
       "        vertical-align: middle;\n",
       "    }\n",
       "\n",
       "    .dataframe tbody tr th {\n",
       "        vertical-align: top;\n",
       "    }\n",
       "\n",
       "    .dataframe thead th {\n",
       "        text-align: right;\n",
       "    }\n",
       "</style>\n",
       "<table border=\"1\" class=\"dataframe\">\n",
       "  <thead>\n",
       "    <tr style=\"text-align: right;\">\n",
       "      <th></th>\n",
       "      <th>Zone</th>\n",
       "      <th>Valeur</th>\n",
       "    </tr>\n",
       "  </thead>\n",
       "  <tbody>\n",
       "    <tr>\n",
       "      <th>2</th>\n",
       "      <td>Afghanistan</td>\n",
       "      <td>8.9</td>\n",
       "    </tr>\n",
       "    <tr>\n",
       "      <th>8</th>\n",
       "      <td>Afrique du Sud</td>\n",
       "      <td>2.8</td>\n",
       "    </tr>\n",
       "    <tr>\n",
       "      <th>14</th>\n",
       "      <td>Albanie</td>\n",
       "      <td>0.1</td>\n",
       "    </tr>\n",
       "    <tr>\n",
       "      <th>20</th>\n",
       "      <td>Algérie</td>\n",
       "      <td>1.3</td>\n",
       "    </tr>\n",
       "    <tr>\n",
       "      <th>26</th>\n",
       "      <td>Allemagne</td>\n",
       "      <td>NaN</td>\n",
       "    </tr>\n",
       "    <tr>\n",
       "      <th>32</th>\n",
       "      <td>Andorre</td>\n",
       "      <td>NaN</td>\n",
       "    </tr>\n",
       "    <tr>\n",
       "      <th>38</th>\n",
       "      <td>Angola</td>\n",
       "      <td>5.3</td>\n",
       "    </tr>\n",
       "    <tr>\n",
       "      <th>44</th>\n",
       "      <td>Antigua-et-Barbuda</td>\n",
       "      <td>NaN</td>\n",
       "    </tr>\n",
       "    <tr>\n",
       "      <th>50</th>\n",
       "      <td>Arabie saoudite</td>\n",
       "      <td>1.5</td>\n",
       "    </tr>\n",
       "    <tr>\n",
       "      <th>56</th>\n",
       "      <td>Argentine</td>\n",
       "      <td>1.1</td>\n",
       "    </tr>\n",
       "  </tbody>\n",
       "</table>\n",
       "</div>"
      ],
      "text/plain": [
       "                  Zone Valeur\n",
       "2          Afghanistan    8.9\n",
       "8       Afrique du Sud    2.8\n",
       "14             Albanie    0.1\n",
       "20             Algérie    1.3\n",
       "26           Allemagne    NaN\n",
       "32             Andorre    NaN\n",
       "38              Angola    5.3\n",
       "44  Antigua-et-Barbuda    NaN\n",
       "50     Arabie saoudite    1.5\n",
       "56           Argentine    1.1"
      ]
     },
     "execution_count": 99,
     "metadata": {},
     "output_type": "execute_result"
    }
   ],
   "source": [
    "data_sn_zone_val_2015 = data_sn.loc[data_sn['Année'] == '2014-2016', ['Zone', 'Valeur']]\n",
    "data_sn_zone_val_2015.head(10)"
   ]
  },
  {
   "cell_type": "code",
   "execution_count": 100,
   "id": "d6756b80-246f-4889-917c-bf7082cd3be6",
   "metadata": {},
   "outputs": [
    {
     "name": "stdout",
     "output_type": "stream",
     "text": [
      "<class 'pandas.core.frame.DataFrame'>\n",
      "Int64Index: 203 entries, 2 to 1214\n",
      "Data columns (total 2 columns):\n",
      " #   Column  Non-Null Count  Dtype  \n",
      "---  ------  --------------  -----  \n",
      " 0   Zone    203 non-null    object \n",
      " 1   Valeur  84 non-null     float64\n",
      "dtypes: float64(1), object(1)\n",
      "memory usage: 4.8+ KB\n"
     ]
    }
   ],
   "source": [
    "data_sn_zone_val_2015['Valeur'] = pd.to_numeric(data_sn_zone_val_2015['Valeur'], errors='coerce')\n",
    "data_sn_zone_val_2015.info()"
   ]
  },
  {
   "cell_type": "code",
   "execution_count": 101,
   "id": "d5fad855-9181-4590-b574-9c67a7a87fe6",
   "metadata": {},
   "outputs": [
    {
     "data": {
      "text/html": [
       "<div>\n",
       "<style scoped>\n",
       "    .dataframe tbody tr th:only-of-type {\n",
       "        vertical-align: middle;\n",
       "    }\n",
       "\n",
       "    .dataframe tbody tr th {\n",
       "        vertical-align: top;\n",
       "    }\n",
       "\n",
       "    .dataframe thead th {\n",
       "        text-align: right;\n",
       "    }\n",
       "</style>\n",
       "<table border=\"1\" class=\"dataframe\">\n",
       "  <thead>\n",
       "    <tr style=\"text-align: right;\">\n",
       "      <th></th>\n",
       "      <th>Zone</th>\n",
       "      <th>Valeur</th>\n",
       "    </tr>\n",
       "  </thead>\n",
       "  <tbody>\n",
       "    <tr>\n",
       "      <th>2</th>\n",
       "      <td>Afghanistan</td>\n",
       "      <td>8900000.0</td>\n",
       "    </tr>\n",
       "    <tr>\n",
       "      <th>8</th>\n",
       "      <td>Afrique du Sud</td>\n",
       "      <td>2800000.0</td>\n",
       "    </tr>\n",
       "    <tr>\n",
       "      <th>14</th>\n",
       "      <td>Albanie</td>\n",
       "      <td>100000.0</td>\n",
       "    </tr>\n",
       "    <tr>\n",
       "      <th>20</th>\n",
       "      <td>Algérie</td>\n",
       "      <td>1300000.0</td>\n",
       "    </tr>\n",
       "    <tr>\n",
       "      <th>26</th>\n",
       "      <td>Allemagne</td>\n",
       "      <td>NaN</td>\n",
       "    </tr>\n",
       "    <tr>\n",
       "      <th>32</th>\n",
       "      <td>Andorre</td>\n",
       "      <td>NaN</td>\n",
       "    </tr>\n",
       "    <tr>\n",
       "      <th>38</th>\n",
       "      <td>Angola</td>\n",
       "      <td>5300000.0</td>\n",
       "    </tr>\n",
       "    <tr>\n",
       "      <th>44</th>\n",
       "      <td>Antigua-et-Barbuda</td>\n",
       "      <td>NaN</td>\n",
       "    </tr>\n",
       "    <tr>\n",
       "      <th>50</th>\n",
       "      <td>Arabie saoudite</td>\n",
       "      <td>1500000.0</td>\n",
       "    </tr>\n",
       "    <tr>\n",
       "      <th>56</th>\n",
       "      <td>Argentine</td>\n",
       "      <td>1100000.0</td>\n",
       "    </tr>\n",
       "  </tbody>\n",
       "</table>\n",
       "</div>"
      ],
      "text/plain": [
       "                  Zone     Valeur\n",
       "2          Afghanistan  8900000.0\n",
       "8       Afrique du Sud  2800000.0\n",
       "14             Albanie   100000.0\n",
       "20             Algérie  1300000.0\n",
       "26           Allemagne        NaN\n",
       "32             Andorre        NaN\n",
       "38              Angola  5300000.0\n",
       "44  Antigua-et-Barbuda        NaN\n",
       "50     Arabie saoudite  1500000.0\n",
       "56           Argentine  1100000.0"
      ]
     },
     "execution_count": 101,
     "metadata": {},
     "output_type": "execute_result"
    }
   ],
   "source": [
    "data_sn_zone_val_2015['Valeur'] = data_sn_zone_val_2015.iloc[: , 1].mul(1000000)\n",
    "data_sn_zone_val_2015.head(10)"
   ]
  },
  {
   "cell_type": "code",
   "execution_count": 102,
   "id": "c832db4a-15e3-4157-969e-b349c00a55cf",
   "metadata": {},
   "outputs": [
    {
     "name": "stdout",
     "output_type": "stream",
     "text": [
      "Environ 7.11 % de la population mondiale est concidéré comme etant en sous nutrition en 2015\n"
     ]
    }
   ],
   "source": [
    "proportion_pop_2015 = ( data_sn_zone_val_2015['Valeur'].sum() * 100 ) / data_pop_zone_val_2015['Valeur'].sum() \n",
    "print('Environ ' + str(round(proportion_pop_2015,3)) +  ' % de la population mondiale est concidéré comme etant en sous nutrition en 2015')"
   ]
  },
  {
   "cell_type": "markdown",
   "id": "b5c49bfc-2e7f-4c13-be2c-d38915a6c6b0",
   "metadata": {
    "tags": []
   },
   "source": [
    "#### La population mondiale concidérée comme etant en sous nutrition en 2016"
   ]
  },
  {
   "cell_type": "code",
   "execution_count": 103,
   "id": "95dd00ad-f459-428e-84c2-c819d816308b",
   "metadata": {},
   "outputs": [
    {
     "data": {
      "text/html": [
       "<div>\n",
       "<style scoped>\n",
       "    .dataframe tbody tr th:only-of-type {\n",
       "        vertical-align: middle;\n",
       "    }\n",
       "\n",
       "    .dataframe tbody tr th {\n",
       "        vertical-align: top;\n",
       "    }\n",
       "\n",
       "    .dataframe thead th {\n",
       "        text-align: right;\n",
       "    }\n",
       "</style>\n",
       "<table border=\"1\" class=\"dataframe\">\n",
       "  <thead>\n",
       "    <tr style=\"text-align: right;\">\n",
       "      <th></th>\n",
       "      <th>Zone</th>\n",
       "      <th>Valeur</th>\n",
       "    </tr>\n",
       "  </thead>\n",
       "  <tbody>\n",
       "    <tr>\n",
       "      <th>3</th>\n",
       "      <td>Afghanistan</td>\n",
       "      <td>35383.032</td>\n",
       "    </tr>\n",
       "    <tr>\n",
       "      <th>9</th>\n",
       "      <td>Afrique du Sud</td>\n",
       "      <td>56207.646</td>\n",
       "    </tr>\n",
       "    <tr>\n",
       "      <th>15</th>\n",
       "      <td>Albanie</td>\n",
       "      <td>2886.438</td>\n",
       "    </tr>\n",
       "    <tr>\n",
       "      <th>21</th>\n",
       "      <td>Algérie</td>\n",
       "      <td>40551.392</td>\n",
       "    </tr>\n",
       "    <tr>\n",
       "      <th>27</th>\n",
       "      <td>Allemagne</td>\n",
       "      <td>82193.768</td>\n",
       "    </tr>\n",
       "  </tbody>\n",
       "</table>\n",
       "</div>"
      ],
      "text/plain": [
       "              Zone     Valeur\n",
       "3      Afghanistan  35383.032\n",
       "9   Afrique du Sud  56207.646\n",
       "15         Albanie   2886.438\n",
       "21         Algérie  40551.392\n",
       "27       Allemagne  82193.768"
      ]
     },
     "execution_count": 103,
     "metadata": {},
     "output_type": "execute_result"
    }
   ],
   "source": [
    "data_pop_zone_val_2016 = data_population.loc[data_population['Année'] == 2016, ['Zone', 'Valeur']]\n",
    "data_pop_zone_val_2016.head()"
   ]
  },
  {
   "cell_type": "code",
   "execution_count": 104,
   "id": "23433102-fcdb-42d1-9f07-419093684b4b",
   "metadata": {},
   "outputs": [
    {
     "data": {
      "text/html": [
       "<div>\n",
       "<style scoped>\n",
       "    .dataframe tbody tr th:only-of-type {\n",
       "        vertical-align: middle;\n",
       "    }\n",
       "\n",
       "    .dataframe tbody tr th {\n",
       "        vertical-align: top;\n",
       "    }\n",
       "\n",
       "    .dataframe thead th {\n",
       "        text-align: right;\n",
       "    }\n",
       "</style>\n",
       "<table border=\"1\" class=\"dataframe\">\n",
       "  <thead>\n",
       "    <tr style=\"text-align: right;\">\n",
       "      <th></th>\n",
       "      <th>Zone</th>\n",
       "      <th>Valeur</th>\n",
       "    </tr>\n",
       "  </thead>\n",
       "  <tbody>\n",
       "    <tr>\n",
       "      <th>3</th>\n",
       "      <td>Afghanistan</td>\n",
       "      <td>35383032.0</td>\n",
       "    </tr>\n",
       "    <tr>\n",
       "      <th>9</th>\n",
       "      <td>Afrique du Sud</td>\n",
       "      <td>56207646.0</td>\n",
       "    </tr>\n",
       "    <tr>\n",
       "      <th>15</th>\n",
       "      <td>Albanie</td>\n",
       "      <td>2886438.0</td>\n",
       "    </tr>\n",
       "    <tr>\n",
       "      <th>21</th>\n",
       "      <td>Algérie</td>\n",
       "      <td>40551392.0</td>\n",
       "    </tr>\n",
       "    <tr>\n",
       "      <th>27</th>\n",
       "      <td>Allemagne</td>\n",
       "      <td>82193768.0</td>\n",
       "    </tr>\n",
       "  </tbody>\n",
       "</table>\n",
       "</div>"
      ],
      "text/plain": [
       "              Zone      Valeur\n",
       "3      Afghanistan  35383032.0\n",
       "9   Afrique du Sud  56207646.0\n",
       "15         Albanie   2886438.0\n",
       "21         Algérie  40551392.0\n",
       "27       Allemagne  82193768.0"
      ]
     },
     "execution_count": 104,
     "metadata": {},
     "output_type": "execute_result"
    }
   ],
   "source": [
    "data_pop_zone_val_2016['Valeur'] = data_population.iloc[: , 2].mul(1000)\n",
    "data_pop_zone_val_2016.head()"
   ]
  },
  {
   "cell_type": "code",
   "execution_count": 105,
   "id": "c3cf0264-17bd-4492-94d0-008b806f13fe",
   "metadata": {},
   "outputs": [
    {
     "data": {
      "text/html": [
       "<div>\n",
       "<style scoped>\n",
       "    .dataframe tbody tr th:only-of-type {\n",
       "        vertical-align: middle;\n",
       "    }\n",
       "\n",
       "    .dataframe tbody tr th {\n",
       "        vertical-align: top;\n",
       "    }\n",
       "\n",
       "    .dataframe thead th {\n",
       "        text-align: right;\n",
       "    }\n",
       "</style>\n",
       "<table border=\"1\" class=\"dataframe\">\n",
       "  <thead>\n",
       "    <tr style=\"text-align: right;\">\n",
       "      <th></th>\n",
       "      <th>Zone</th>\n",
       "      <th>Valeur</th>\n",
       "    </tr>\n",
       "  </thead>\n",
       "  <tbody>\n",
       "    <tr>\n",
       "      <th>3</th>\n",
       "      <td>Afghanistan</td>\n",
       "      <td>9.7</td>\n",
       "    </tr>\n",
       "    <tr>\n",
       "      <th>9</th>\n",
       "      <td>Afrique du Sud</td>\n",
       "      <td>3</td>\n",
       "    </tr>\n",
       "    <tr>\n",
       "      <th>15</th>\n",
       "      <td>Albanie</td>\n",
       "      <td>0.1</td>\n",
       "    </tr>\n",
       "    <tr>\n",
       "      <th>21</th>\n",
       "      <td>Algérie</td>\n",
       "      <td>1.3</td>\n",
       "    </tr>\n",
       "    <tr>\n",
       "      <th>27</th>\n",
       "      <td>Allemagne</td>\n",
       "      <td>NaN</td>\n",
       "    </tr>\n",
       "    <tr>\n",
       "      <th>33</th>\n",
       "      <td>Andorre</td>\n",
       "      <td>NaN</td>\n",
       "    </tr>\n",
       "    <tr>\n",
       "      <th>39</th>\n",
       "      <td>Angola</td>\n",
       "      <td>5.6</td>\n",
       "    </tr>\n",
       "    <tr>\n",
       "      <th>45</th>\n",
       "      <td>Antigua-et-Barbuda</td>\n",
       "      <td>NaN</td>\n",
       "    </tr>\n",
       "    <tr>\n",
       "      <th>51</th>\n",
       "      <td>Arabie saoudite</td>\n",
       "      <td>1.5</td>\n",
       "    </tr>\n",
       "    <tr>\n",
       "      <th>57</th>\n",
       "      <td>Argentine</td>\n",
       "      <td>1.3</td>\n",
       "    </tr>\n",
       "  </tbody>\n",
       "</table>\n",
       "</div>"
      ],
      "text/plain": [
       "                  Zone Valeur\n",
       "3          Afghanistan    9.7\n",
       "9       Afrique du Sud      3\n",
       "15             Albanie    0.1\n",
       "21             Algérie    1.3\n",
       "27           Allemagne    NaN\n",
       "33             Andorre    NaN\n",
       "39              Angola    5.6\n",
       "45  Antigua-et-Barbuda    NaN\n",
       "51     Arabie saoudite    1.5\n",
       "57           Argentine    1.3"
      ]
     },
     "execution_count": 105,
     "metadata": {},
     "output_type": "execute_result"
    }
   ],
   "source": [
    "data_sn_zone_val_2016 = data_sn.loc[data_sn['Année'] == '2015-2017', ['Zone', 'Valeur']]\n",
    "data_sn_zone_val_2016.head(10)"
   ]
  },
  {
   "cell_type": "code",
   "execution_count": 106,
   "id": "c75e61df-fced-4e5e-b4ca-c2cf8ac4f70c",
   "metadata": {},
   "outputs": [
    {
     "name": "stdout",
     "output_type": "stream",
     "text": [
      "<class 'pandas.core.frame.DataFrame'>\n",
      "Int64Index: 203 entries, 3 to 1215\n",
      "Data columns (total 2 columns):\n",
      " #   Column  Non-Null Count  Dtype  \n",
      "---  ------  --------------  -----  \n",
      " 0   Zone    203 non-null    object \n",
      " 1   Valeur  83 non-null     float64\n",
      "dtypes: float64(1), object(1)\n",
      "memory usage: 4.8+ KB\n"
     ]
    }
   ],
   "source": [
    "data_sn_zone_val_2016['Valeur'] = pd.to_numeric(data_sn_zone_val_2016['Valeur'], errors='coerce')\n",
    "data_sn_zone_val_2016.info()"
   ]
  },
  {
   "cell_type": "code",
   "execution_count": 107,
   "id": "a1c74d01-cad0-4a9f-9393-2e2d80103e06",
   "metadata": {},
   "outputs": [
    {
     "data": {
      "text/html": [
       "<div>\n",
       "<style scoped>\n",
       "    .dataframe tbody tr th:only-of-type {\n",
       "        vertical-align: middle;\n",
       "    }\n",
       "\n",
       "    .dataframe tbody tr th {\n",
       "        vertical-align: top;\n",
       "    }\n",
       "\n",
       "    .dataframe thead th {\n",
       "        text-align: right;\n",
       "    }\n",
       "</style>\n",
       "<table border=\"1\" class=\"dataframe\">\n",
       "  <thead>\n",
       "    <tr style=\"text-align: right;\">\n",
       "      <th></th>\n",
       "      <th>Zone</th>\n",
       "      <th>Valeur</th>\n",
       "    </tr>\n",
       "  </thead>\n",
       "  <tbody>\n",
       "    <tr>\n",
       "      <th>3</th>\n",
       "      <td>Afghanistan</td>\n",
       "      <td>9700000.0</td>\n",
       "    </tr>\n",
       "    <tr>\n",
       "      <th>9</th>\n",
       "      <td>Afrique du Sud</td>\n",
       "      <td>3000000.0</td>\n",
       "    </tr>\n",
       "    <tr>\n",
       "      <th>15</th>\n",
       "      <td>Albanie</td>\n",
       "      <td>100000.0</td>\n",
       "    </tr>\n",
       "    <tr>\n",
       "      <th>21</th>\n",
       "      <td>Algérie</td>\n",
       "      <td>1300000.0</td>\n",
       "    </tr>\n",
       "    <tr>\n",
       "      <th>27</th>\n",
       "      <td>Allemagne</td>\n",
       "      <td>NaN</td>\n",
       "    </tr>\n",
       "    <tr>\n",
       "      <th>33</th>\n",
       "      <td>Andorre</td>\n",
       "      <td>NaN</td>\n",
       "    </tr>\n",
       "    <tr>\n",
       "      <th>39</th>\n",
       "      <td>Angola</td>\n",
       "      <td>5600000.0</td>\n",
       "    </tr>\n",
       "    <tr>\n",
       "      <th>45</th>\n",
       "      <td>Antigua-et-Barbuda</td>\n",
       "      <td>NaN</td>\n",
       "    </tr>\n",
       "    <tr>\n",
       "      <th>51</th>\n",
       "      <td>Arabie saoudite</td>\n",
       "      <td>1500000.0</td>\n",
       "    </tr>\n",
       "    <tr>\n",
       "      <th>57</th>\n",
       "      <td>Argentine</td>\n",
       "      <td>1300000.0</td>\n",
       "    </tr>\n",
       "  </tbody>\n",
       "</table>\n",
       "</div>"
      ],
      "text/plain": [
       "                  Zone     Valeur\n",
       "3          Afghanistan  9700000.0\n",
       "9       Afrique du Sud  3000000.0\n",
       "15             Albanie   100000.0\n",
       "21             Algérie  1300000.0\n",
       "27           Allemagne        NaN\n",
       "33             Andorre        NaN\n",
       "39              Angola  5600000.0\n",
       "45  Antigua-et-Barbuda        NaN\n",
       "51     Arabie saoudite  1500000.0\n",
       "57           Argentine  1300000.0"
      ]
     },
     "execution_count": 107,
     "metadata": {},
     "output_type": "execute_result"
    }
   ],
   "source": [
    "data_sn_zone_val_2016['Valeur'] = data_sn_zone_val_2016.iloc[: , 1].mul(1000000)\n",
    "data_sn_zone_val_2016.head(10)"
   ]
  },
  {
   "cell_type": "code",
   "execution_count": 108,
   "id": "cdb0929a-3891-4d3d-948d-19ee6f68ad21",
   "metadata": {},
   "outputs": [
    {
     "name": "stdout",
     "output_type": "stream",
     "text": [
      "Environ 7.082 % de la population mondiale est concidéré comme etant en sous nutrition en 2016\n"
     ]
    }
   ],
   "source": [
    "proportion_pop_2016 = ( data_sn_zone_val_2016['Valeur'].sum() * 100 ) / data_pop_zone_val_2016['Valeur'].sum() \n",
    "print('Environ ' + str(round(proportion_pop_2016,3)) +  ' % de la population mondiale est concidéré comme etant en sous nutrition en 2016')"
   ]
  },
  {
   "cell_type": "markdown",
   "id": "bff77a79-0bcd-47ab-89ba-bb7e13f08728",
   "metadata": {
    "jp-MarkdownHeadingCollapsed": true,
    "tags": []
   },
   "source": [
    "####  La population mondiale concidérée comme etant en sous nutrition en 2017"
   ]
  },
  {
   "cell_type": "code",
   "execution_count": 109,
   "id": "449cf7fc-a051-45cc-9f2e-b266ffe35d9e",
   "metadata": {},
   "outputs": [
    {
     "data": {
      "text/html": [
       "<div>\n",
       "<style scoped>\n",
       "    .dataframe tbody tr th:only-of-type {\n",
       "        vertical-align: middle;\n",
       "    }\n",
       "\n",
       "    .dataframe tbody tr th {\n",
       "        vertical-align: top;\n",
       "    }\n",
       "\n",
       "    .dataframe thead th {\n",
       "        text-align: right;\n",
       "    }\n",
       "</style>\n",
       "<table border=\"1\" class=\"dataframe\">\n",
       "  <thead>\n",
       "    <tr style=\"text-align: right;\">\n",
       "      <th></th>\n",
       "      <th>Zone</th>\n",
       "      <th>Valeur</th>\n",
       "    </tr>\n",
       "  </thead>\n",
       "  <tbody>\n",
       "    <tr>\n",
       "      <th>4</th>\n",
       "      <td>Afghanistan</td>\n",
       "      <td>36296.113</td>\n",
       "    </tr>\n",
       "    <tr>\n",
       "      <th>10</th>\n",
       "      <td>Afrique du Sud</td>\n",
       "      <td>57009.756</td>\n",
       "    </tr>\n",
       "    <tr>\n",
       "      <th>16</th>\n",
       "      <td>Albanie</td>\n",
       "      <td>2884.169</td>\n",
       "    </tr>\n",
       "    <tr>\n",
       "      <th>22</th>\n",
       "      <td>Algérie</td>\n",
       "      <td>41389.189</td>\n",
       "    </tr>\n",
       "    <tr>\n",
       "      <th>28</th>\n",
       "      <td>Allemagne</td>\n",
       "      <td>82658.409</td>\n",
       "    </tr>\n",
       "  </tbody>\n",
       "</table>\n",
       "</div>"
      ],
      "text/plain": [
       "              Zone     Valeur\n",
       "4      Afghanistan  36296.113\n",
       "10  Afrique du Sud  57009.756\n",
       "16         Albanie   2884.169\n",
       "22         Algérie  41389.189\n",
       "28       Allemagne  82658.409"
      ]
     },
     "execution_count": 109,
     "metadata": {},
     "output_type": "execute_result"
    }
   ],
   "source": [
    "data_pop_zone_val_2017 = data_population.loc[data_population['Année'] == 2017, ['Zone', 'Valeur']]\n",
    "data_pop_zone_val_2017.head()"
   ]
  },
  {
   "cell_type": "code",
   "execution_count": 110,
   "id": "5f00dabe-b367-4132-8031-6643b40d2ba6",
   "metadata": {},
   "outputs": [
    {
     "data": {
      "text/html": [
       "<div>\n",
       "<style scoped>\n",
       "    .dataframe tbody tr th:only-of-type {\n",
       "        vertical-align: middle;\n",
       "    }\n",
       "\n",
       "    .dataframe tbody tr th {\n",
       "        vertical-align: top;\n",
       "    }\n",
       "\n",
       "    .dataframe thead th {\n",
       "        text-align: right;\n",
       "    }\n",
       "</style>\n",
       "<table border=\"1\" class=\"dataframe\">\n",
       "  <thead>\n",
       "    <tr style=\"text-align: right;\">\n",
       "      <th></th>\n",
       "      <th>Zone</th>\n",
       "      <th>Valeur</th>\n",
       "    </tr>\n",
       "  </thead>\n",
       "  <tbody>\n",
       "    <tr>\n",
       "      <th>4</th>\n",
       "      <td>Afghanistan</td>\n",
       "      <td>36296113.0</td>\n",
       "    </tr>\n",
       "    <tr>\n",
       "      <th>10</th>\n",
       "      <td>Afrique du Sud</td>\n",
       "      <td>57009756.0</td>\n",
       "    </tr>\n",
       "    <tr>\n",
       "      <th>16</th>\n",
       "      <td>Albanie</td>\n",
       "      <td>2884169.0</td>\n",
       "    </tr>\n",
       "    <tr>\n",
       "      <th>22</th>\n",
       "      <td>Algérie</td>\n",
       "      <td>41389189.0</td>\n",
       "    </tr>\n",
       "    <tr>\n",
       "      <th>28</th>\n",
       "      <td>Allemagne</td>\n",
       "      <td>82658409.0</td>\n",
       "    </tr>\n",
       "  </tbody>\n",
       "</table>\n",
       "</div>"
      ],
      "text/plain": [
       "              Zone      Valeur\n",
       "4      Afghanistan  36296113.0\n",
       "10  Afrique du Sud  57009756.0\n",
       "16         Albanie   2884169.0\n",
       "22         Algérie  41389189.0\n",
       "28       Allemagne  82658409.0"
      ]
     },
     "execution_count": 110,
     "metadata": {},
     "output_type": "execute_result"
    }
   ],
   "source": [
    "data_pop_zone_val_2017['Valeur'] = data_population.iloc[: , 2].mul(1000)\n",
    "data_pop_zone_val_2017.head()"
   ]
  },
  {
   "cell_type": "code",
   "execution_count": 111,
   "id": "e31008d5-bf94-4e99-8074-07f3c2ecf8d0",
   "metadata": {},
   "outputs": [
    {
     "data": {
      "text/html": [
       "<div>\n",
       "<style scoped>\n",
       "    .dataframe tbody tr th:only-of-type {\n",
       "        vertical-align: middle;\n",
       "    }\n",
       "\n",
       "    .dataframe tbody tr th {\n",
       "        vertical-align: top;\n",
       "    }\n",
       "\n",
       "    .dataframe thead th {\n",
       "        text-align: right;\n",
       "    }\n",
       "</style>\n",
       "<table border=\"1\" class=\"dataframe\">\n",
       "  <thead>\n",
       "    <tr style=\"text-align: right;\">\n",
       "      <th></th>\n",
       "      <th>Zone</th>\n",
       "      <th>Valeur</th>\n",
       "    </tr>\n",
       "  </thead>\n",
       "  <tbody>\n",
       "    <tr>\n",
       "      <th>4</th>\n",
       "      <td>Afghanistan</td>\n",
       "      <td>10.5</td>\n",
       "    </tr>\n",
       "    <tr>\n",
       "      <th>10</th>\n",
       "      <td>Afrique du Sud</td>\n",
       "      <td>3.1</td>\n",
       "    </tr>\n",
       "    <tr>\n",
       "      <th>16</th>\n",
       "      <td>Albanie</td>\n",
       "      <td>0.1</td>\n",
       "    </tr>\n",
       "    <tr>\n",
       "      <th>22</th>\n",
       "      <td>Algérie</td>\n",
       "      <td>1.3</td>\n",
       "    </tr>\n",
       "    <tr>\n",
       "      <th>28</th>\n",
       "      <td>Allemagne</td>\n",
       "      <td>NaN</td>\n",
       "    </tr>\n",
       "    <tr>\n",
       "      <th>34</th>\n",
       "      <td>Andorre</td>\n",
       "      <td>NaN</td>\n",
       "    </tr>\n",
       "    <tr>\n",
       "      <th>40</th>\n",
       "      <td>Angola</td>\n",
       "      <td>5.8</td>\n",
       "    </tr>\n",
       "    <tr>\n",
       "      <th>46</th>\n",
       "      <td>Antigua-et-Barbuda</td>\n",
       "      <td>NaN</td>\n",
       "    </tr>\n",
       "    <tr>\n",
       "      <th>52</th>\n",
       "      <td>Arabie saoudite</td>\n",
       "      <td>1.6</td>\n",
       "    </tr>\n",
       "    <tr>\n",
       "      <th>58</th>\n",
       "      <td>Argentine</td>\n",
       "      <td>1.5</td>\n",
       "    </tr>\n",
       "  </tbody>\n",
       "</table>\n",
       "</div>"
      ],
      "text/plain": [
       "                  Zone Valeur\n",
       "4          Afghanistan   10.5\n",
       "10      Afrique du Sud    3.1\n",
       "16             Albanie    0.1\n",
       "22             Algérie    1.3\n",
       "28           Allemagne    NaN\n",
       "34             Andorre    NaN\n",
       "40              Angola    5.8\n",
       "46  Antigua-et-Barbuda    NaN\n",
       "52     Arabie saoudite    1.6\n",
       "58           Argentine    1.5"
      ]
     },
     "execution_count": 111,
     "metadata": {},
     "output_type": "execute_result"
    }
   ],
   "source": [
    "data_sn_zone_val_2017 = data_sn.loc[data_sn['Année'] == '2016-2018', ['Zone', 'Valeur']]\n",
    "data_sn_zone_val_2017.head(10)"
   ]
  },
  {
   "cell_type": "code",
   "execution_count": 112,
   "id": "59bf91d2-c038-4183-bd51-8a337f02d37d",
   "metadata": {},
   "outputs": [
    {
     "name": "stdout",
     "output_type": "stream",
     "text": [
      "<class 'pandas.core.frame.DataFrame'>\n",
      "Int64Index: 203 entries, 4 to 1216\n",
      "Data columns (total 2 columns):\n",
      " #   Column  Non-Null Count  Dtype  \n",
      "---  ------  --------------  -----  \n",
      " 0   Zone    203 non-null    object \n",
      " 1   Valeur  84 non-null     float64\n",
      "dtypes: float64(1), object(1)\n",
      "memory usage: 4.8+ KB\n"
     ]
    }
   ],
   "source": [
    "data_sn_zone_val_2017['Valeur'] = pd.to_numeric(data_sn_zone_val_2017['Valeur'], errors='coerce')\n",
    "data_sn_zone_val_2017.info()"
   ]
  },
  {
   "cell_type": "code",
   "execution_count": 113,
   "id": "4fb08616-9c6f-4b05-ba00-1d6f60e9184d",
   "metadata": {},
   "outputs": [
    {
     "data": {
      "text/html": [
       "<div>\n",
       "<style scoped>\n",
       "    .dataframe tbody tr th:only-of-type {\n",
       "        vertical-align: middle;\n",
       "    }\n",
       "\n",
       "    .dataframe tbody tr th {\n",
       "        vertical-align: top;\n",
       "    }\n",
       "\n",
       "    .dataframe thead th {\n",
       "        text-align: right;\n",
       "    }\n",
       "</style>\n",
       "<table border=\"1\" class=\"dataframe\">\n",
       "  <thead>\n",
       "    <tr style=\"text-align: right;\">\n",
       "      <th></th>\n",
       "      <th>Zone</th>\n",
       "      <th>Valeur</th>\n",
       "    </tr>\n",
       "  </thead>\n",
       "  <tbody>\n",
       "    <tr>\n",
       "      <th>4</th>\n",
       "      <td>Afghanistan</td>\n",
       "      <td>10500000.0</td>\n",
       "    </tr>\n",
       "    <tr>\n",
       "      <th>10</th>\n",
       "      <td>Afrique du Sud</td>\n",
       "      <td>3100000.0</td>\n",
       "    </tr>\n",
       "    <tr>\n",
       "      <th>16</th>\n",
       "      <td>Albanie</td>\n",
       "      <td>100000.0</td>\n",
       "    </tr>\n",
       "    <tr>\n",
       "      <th>22</th>\n",
       "      <td>Algérie</td>\n",
       "      <td>1300000.0</td>\n",
       "    </tr>\n",
       "    <tr>\n",
       "      <th>28</th>\n",
       "      <td>Allemagne</td>\n",
       "      <td>NaN</td>\n",
       "    </tr>\n",
       "    <tr>\n",
       "      <th>34</th>\n",
       "      <td>Andorre</td>\n",
       "      <td>NaN</td>\n",
       "    </tr>\n",
       "    <tr>\n",
       "      <th>40</th>\n",
       "      <td>Angola</td>\n",
       "      <td>5800000.0</td>\n",
       "    </tr>\n",
       "    <tr>\n",
       "      <th>46</th>\n",
       "      <td>Antigua-et-Barbuda</td>\n",
       "      <td>NaN</td>\n",
       "    </tr>\n",
       "    <tr>\n",
       "      <th>52</th>\n",
       "      <td>Arabie saoudite</td>\n",
       "      <td>1600000.0</td>\n",
       "    </tr>\n",
       "    <tr>\n",
       "      <th>58</th>\n",
       "      <td>Argentine</td>\n",
       "      <td>1500000.0</td>\n",
       "    </tr>\n",
       "  </tbody>\n",
       "</table>\n",
       "</div>"
      ],
      "text/plain": [
       "                  Zone      Valeur\n",
       "4          Afghanistan  10500000.0\n",
       "10      Afrique du Sud   3100000.0\n",
       "16             Albanie    100000.0\n",
       "22             Algérie   1300000.0\n",
       "28           Allemagne         NaN\n",
       "34             Andorre         NaN\n",
       "40              Angola   5800000.0\n",
       "46  Antigua-et-Barbuda         NaN\n",
       "52     Arabie saoudite   1600000.0\n",
       "58           Argentine   1500000.0"
      ]
     },
     "execution_count": 113,
     "metadata": {},
     "output_type": "execute_result"
    }
   ],
   "source": [
    "data_sn_zone_val_2017['Valeur'] = data_sn_zone_val_2017.iloc[: , 1].mul(1000000)\n",
    "data_sn_zone_val_2017.head(10)"
   ]
  },
  {
   "cell_type": "code",
   "execution_count": 114,
   "id": "8b60fb5d-21fc-462e-944e-998a0c5bb1a1",
   "metadata": {},
   "outputs": [
    {
     "name": "stdout",
     "output_type": "stream",
     "text": [
      "Environ 7.097 % de la population mondiale est concidéré comme etant en sous nutrition en 2017\n"
     ]
    }
   ],
   "source": [
    "proportion_pop_2017 = ( data_sn_zone_val_2017['Valeur'].sum() * 100 ) / data_pop_zone_val_2017['Valeur'].sum() \n",
    "print('Environ ' + str(round(proportion_pop_2017,3)) +  ' % de la population mondiale est concidéré comme etant en sous nutrition en 2017')"
   ]
  },
  {
   "cell_type": "markdown",
   "id": "925c958b-451d-4a51-938a-294767076619",
   "metadata": {
    "tags": []
   },
   "source": [
    "####  La population mondiale concidérée comme etant en sous nutrition en 2018"
   ]
  },
  {
   "cell_type": "code",
   "execution_count": 115,
   "id": "2a144a93-c25c-49fd-bf2c-b4226028c6dc",
   "metadata": {},
   "outputs": [
    {
     "data": {
      "text/html": [
       "<div>\n",
       "<style scoped>\n",
       "    .dataframe tbody tr th:only-of-type {\n",
       "        vertical-align: middle;\n",
       "    }\n",
       "\n",
       "    .dataframe tbody tr th {\n",
       "        vertical-align: top;\n",
       "    }\n",
       "\n",
       "    .dataframe thead th {\n",
       "        text-align: right;\n",
       "    }\n",
       "</style>\n",
       "<table border=\"1\" class=\"dataframe\">\n",
       "  <thead>\n",
       "    <tr style=\"text-align: right;\">\n",
       "      <th></th>\n",
       "      <th>Zone</th>\n",
       "      <th>Valeur</th>\n",
       "    </tr>\n",
       "  </thead>\n",
       "  <tbody>\n",
       "    <tr>\n",
       "      <th>5</th>\n",
       "      <td>Afghanistan</td>\n",
       "      <td>37171.921</td>\n",
       "    </tr>\n",
       "    <tr>\n",
       "      <th>11</th>\n",
       "      <td>Afrique du Sud</td>\n",
       "      <td>57792.518</td>\n",
       "    </tr>\n",
       "    <tr>\n",
       "      <th>17</th>\n",
       "      <td>Albanie</td>\n",
       "      <td>2882.740</td>\n",
       "    </tr>\n",
       "    <tr>\n",
       "      <th>23</th>\n",
       "      <td>Algérie</td>\n",
       "      <td>42228.408</td>\n",
       "    </tr>\n",
       "    <tr>\n",
       "      <th>29</th>\n",
       "      <td>Allemagne</td>\n",
       "      <td>83124.418</td>\n",
       "    </tr>\n",
       "  </tbody>\n",
       "</table>\n",
       "</div>"
      ],
      "text/plain": [
       "              Zone     Valeur\n",
       "5      Afghanistan  37171.921\n",
       "11  Afrique du Sud  57792.518\n",
       "17         Albanie   2882.740\n",
       "23         Algérie  42228.408\n",
       "29       Allemagne  83124.418"
      ]
     },
     "execution_count": 115,
     "metadata": {},
     "output_type": "execute_result"
    }
   ],
   "source": [
    "data_pop_zone_val_2018 = data_population.loc[data_population['Année'] == 2018, ['Zone', 'Valeur']]\n",
    "data_pop_zone_val_2018.head()"
   ]
  },
  {
   "cell_type": "code",
   "execution_count": 116,
   "id": "7ed7fa60-1700-49eb-8396-7cb92a29e567",
   "metadata": {},
   "outputs": [
    {
     "data": {
      "text/html": [
       "<div>\n",
       "<style scoped>\n",
       "    .dataframe tbody tr th:only-of-type {\n",
       "        vertical-align: middle;\n",
       "    }\n",
       "\n",
       "    .dataframe tbody tr th {\n",
       "        vertical-align: top;\n",
       "    }\n",
       "\n",
       "    .dataframe thead th {\n",
       "        text-align: right;\n",
       "    }\n",
       "</style>\n",
       "<table border=\"1\" class=\"dataframe\">\n",
       "  <thead>\n",
       "    <tr style=\"text-align: right;\">\n",
       "      <th></th>\n",
       "      <th>Zone</th>\n",
       "      <th>Valeur</th>\n",
       "    </tr>\n",
       "  </thead>\n",
       "  <tbody>\n",
       "    <tr>\n",
       "      <th>5</th>\n",
       "      <td>Afghanistan</td>\n",
       "      <td>37171921.0</td>\n",
       "    </tr>\n",
       "    <tr>\n",
       "      <th>11</th>\n",
       "      <td>Afrique du Sud</td>\n",
       "      <td>57792518.0</td>\n",
       "    </tr>\n",
       "    <tr>\n",
       "      <th>17</th>\n",
       "      <td>Albanie</td>\n",
       "      <td>2882740.0</td>\n",
       "    </tr>\n",
       "    <tr>\n",
       "      <th>23</th>\n",
       "      <td>Algérie</td>\n",
       "      <td>42228408.0</td>\n",
       "    </tr>\n",
       "    <tr>\n",
       "      <th>29</th>\n",
       "      <td>Allemagne</td>\n",
       "      <td>83124418.0</td>\n",
       "    </tr>\n",
       "  </tbody>\n",
       "</table>\n",
       "</div>"
      ],
      "text/plain": [
       "              Zone      Valeur\n",
       "5      Afghanistan  37171921.0\n",
       "11  Afrique du Sud  57792518.0\n",
       "17         Albanie   2882740.0\n",
       "23         Algérie  42228408.0\n",
       "29       Allemagne  83124418.0"
      ]
     },
     "execution_count": 116,
     "metadata": {},
     "output_type": "execute_result"
    }
   ],
   "source": [
    "data_pop_zone_val_2018['Valeur'] = data_population.iloc[: , 2].mul(1000)\n",
    "data_pop_zone_val_2018.head()"
   ]
  },
  {
   "cell_type": "code",
   "execution_count": 117,
   "id": "86eb4d36-e732-44ff-8dce-3feffe33b4ef",
   "metadata": {},
   "outputs": [
    {
     "data": {
      "text/html": [
       "<div>\n",
       "<style scoped>\n",
       "    .dataframe tbody tr th:only-of-type {\n",
       "        vertical-align: middle;\n",
       "    }\n",
       "\n",
       "    .dataframe tbody tr th {\n",
       "        vertical-align: top;\n",
       "    }\n",
       "\n",
       "    .dataframe thead th {\n",
       "        text-align: right;\n",
       "    }\n",
       "</style>\n",
       "<table border=\"1\" class=\"dataframe\">\n",
       "  <thead>\n",
       "    <tr style=\"text-align: right;\">\n",
       "      <th></th>\n",
       "      <th>Zone</th>\n",
       "      <th>Valeur</th>\n",
       "    </tr>\n",
       "  </thead>\n",
       "  <tbody>\n",
       "    <tr>\n",
       "      <th>5</th>\n",
       "      <td>Afghanistan</td>\n",
       "      <td>11.1</td>\n",
       "    </tr>\n",
       "    <tr>\n",
       "      <th>11</th>\n",
       "      <td>Afrique du Sud</td>\n",
       "      <td>3.3</td>\n",
       "    </tr>\n",
       "    <tr>\n",
       "      <th>17</th>\n",
       "      <td>Albanie</td>\n",
       "      <td>0.1</td>\n",
       "    </tr>\n",
       "    <tr>\n",
       "      <th>23</th>\n",
       "      <td>Algérie</td>\n",
       "      <td>1.2</td>\n",
       "    </tr>\n",
       "    <tr>\n",
       "      <th>29</th>\n",
       "      <td>Allemagne</td>\n",
       "      <td>NaN</td>\n",
       "    </tr>\n",
       "    <tr>\n",
       "      <th>35</th>\n",
       "      <td>Andorre</td>\n",
       "      <td>NaN</td>\n",
       "    </tr>\n",
       "    <tr>\n",
       "      <th>41</th>\n",
       "      <td>Angola</td>\n",
       "      <td>5.7</td>\n",
       "    </tr>\n",
       "    <tr>\n",
       "      <th>47</th>\n",
       "      <td>Antigua-et-Barbuda</td>\n",
       "      <td>NaN</td>\n",
       "    </tr>\n",
       "    <tr>\n",
       "      <th>53</th>\n",
       "      <td>Arabie saoudite</td>\n",
       "      <td>1.6</td>\n",
       "    </tr>\n",
       "    <tr>\n",
       "      <th>59</th>\n",
       "      <td>Argentine</td>\n",
       "      <td>1.7</td>\n",
       "    </tr>\n",
       "  </tbody>\n",
       "</table>\n",
       "</div>"
      ],
      "text/plain": [
       "                  Zone Valeur\n",
       "5          Afghanistan   11.1\n",
       "11      Afrique du Sud    3.3\n",
       "17             Albanie    0.1\n",
       "23             Algérie    1.2\n",
       "29           Allemagne    NaN\n",
       "35             Andorre    NaN\n",
       "41              Angola    5.7\n",
       "47  Antigua-et-Barbuda    NaN\n",
       "53     Arabie saoudite    1.6\n",
       "59           Argentine    1.7"
      ]
     },
     "execution_count": 117,
     "metadata": {},
     "output_type": "execute_result"
    }
   ],
   "source": [
    "data_sn_zone_val_2018 = data_sn.loc[data_sn['Année'] == '2017-2019', ['Zone', 'Valeur']]\n",
    "data_sn_zone_val_2018.head(10)"
   ]
  },
  {
   "cell_type": "code",
   "execution_count": 118,
   "id": "36841f07-0b76-4520-89cf-bd050e7dd03c",
   "metadata": {},
   "outputs": [
    {
     "name": "stdout",
     "output_type": "stream",
     "text": [
      "<class 'pandas.core.frame.DataFrame'>\n",
      "Int64Index: 203 entries, 5 to 1217\n",
      "Data columns (total 2 columns):\n",
      " #   Column  Non-Null Count  Dtype  \n",
      "---  ------  --------------  -----  \n",
      " 0   Zone    203 non-null    object \n",
      " 1   Valeur  85 non-null     float64\n",
      "dtypes: float64(1), object(1)\n",
      "memory usage: 4.8+ KB\n"
     ]
    }
   ],
   "source": [
    "data_sn_zone_val_2018['Valeur'] = pd.to_numeric(data_sn_zone_val_2018['Valeur'], errors='coerce')\n",
    "data_sn_zone_val_2018.info()"
   ]
  },
  {
   "cell_type": "code",
   "execution_count": 119,
   "id": "e3341ec6-7e14-4380-a676-bbf2e007e19d",
   "metadata": {},
   "outputs": [
    {
     "data": {
      "text/html": [
       "<div>\n",
       "<style scoped>\n",
       "    .dataframe tbody tr th:only-of-type {\n",
       "        vertical-align: middle;\n",
       "    }\n",
       "\n",
       "    .dataframe tbody tr th {\n",
       "        vertical-align: top;\n",
       "    }\n",
       "\n",
       "    .dataframe thead th {\n",
       "        text-align: right;\n",
       "    }\n",
       "</style>\n",
       "<table border=\"1\" class=\"dataframe\">\n",
       "  <thead>\n",
       "    <tr style=\"text-align: right;\">\n",
       "      <th></th>\n",
       "      <th>Zone</th>\n",
       "      <th>Valeur</th>\n",
       "    </tr>\n",
       "  </thead>\n",
       "  <tbody>\n",
       "    <tr>\n",
       "      <th>5</th>\n",
       "      <td>Afghanistan</td>\n",
       "      <td>11100000.0</td>\n",
       "    </tr>\n",
       "    <tr>\n",
       "      <th>11</th>\n",
       "      <td>Afrique du Sud</td>\n",
       "      <td>3300000.0</td>\n",
       "    </tr>\n",
       "    <tr>\n",
       "      <th>17</th>\n",
       "      <td>Albanie</td>\n",
       "      <td>100000.0</td>\n",
       "    </tr>\n",
       "    <tr>\n",
       "      <th>23</th>\n",
       "      <td>Algérie</td>\n",
       "      <td>1200000.0</td>\n",
       "    </tr>\n",
       "    <tr>\n",
       "      <th>29</th>\n",
       "      <td>Allemagne</td>\n",
       "      <td>NaN</td>\n",
       "    </tr>\n",
       "  </tbody>\n",
       "</table>\n",
       "</div>"
      ],
      "text/plain": [
       "              Zone      Valeur\n",
       "5      Afghanistan  11100000.0\n",
       "11  Afrique du Sud   3300000.0\n",
       "17         Albanie    100000.0\n",
       "23         Algérie   1200000.0\n",
       "29       Allemagne         NaN"
      ]
     },
     "execution_count": 119,
     "metadata": {},
     "output_type": "execute_result"
    }
   ],
   "source": [
    "data_sn_zone_val_2018['Valeur'] = data_sn_zone_val_2018.iloc[: , 1].mul(1000000)\n",
    "data_sn_zone_val_2018.head()"
   ]
  },
  {
   "cell_type": "code",
   "execution_count": 120,
   "id": "a4401778-af9a-455a-8af2-768964479d8c",
   "metadata": {},
   "outputs": [
    {
     "name": "stdout",
     "output_type": "stream",
     "text": [
      "Environ 7.131 % de la population mondiale est concidéré comme etant en sous nutrition en 2018\n"
     ]
    }
   ],
   "source": [
    "proportion_pop_2018 = ( data_sn_zone_val_2018['Valeur'].sum() * 100 ) / data_pop_zone_val_2018['Valeur'].sum() \n",
    "print('Environ ' + str(round(proportion_pop_2018,3)) +  ' % de la population mondiale est concidéré comme etant en sous nutrition en 2018')"
   ]
  },
  {
   "cell_type": "markdown",
   "id": "fdb086d9-ba28-46b3-b859-e9e5200a4a4b",
   "metadata": {
    "tags": []
   },
   "source": [
    "#### Comparaison"
   ]
  },
  {
   "cell_type": "code",
   "execution_count": 121,
   "id": "14159a81-fa21-49ec-b40d-d38f1dbd4d8e",
   "metadata": {},
   "outputs": [
    {
     "name": "stdout",
     "output_type": "stream",
     "text": [
      "La population mondiale concidéré comme etant en sous nutrition à augmenté de -0.028% entre 2015 et 2016\n"
     ]
    }
   ],
   "source": [
    "difference_sn_2015_2016 = round(proportion_pop_2016 - proportion_pop_2015, 3)\n",
    "print(f'La population mondiale concidéré comme etant en sous nutrition à augmenté de {difference_sn_2015_2016}% entre 2015 et 2016')"
   ]
  },
  {
   "cell_type": "code",
   "execution_count": 122,
   "id": "920217a6-3942-4d11-ac2c-93b2e748dc2e",
   "metadata": {},
   "outputs": [
    {
     "name": "stdout",
     "output_type": "stream",
     "text": [
      "La population mondiale concidéré comme etant en sous nutrition à augmenté de 0.015% entre 2016 et 2017\n"
     ]
    }
   ],
   "source": [
    "difference_sn_2016_2017 = round(proportion_pop_2017 - proportion_pop_2016, 3)\n",
    "print(f'La population mondiale concidéré comme etant en sous nutrition à augmenté de {difference_sn_2016_2017}% entre 2016 et 2017')"
   ]
  },
  {
   "cell_type": "code",
   "execution_count": 123,
   "id": "d84cf573-5416-44e0-bf77-cab1c194e686",
   "metadata": {},
   "outputs": [
    {
     "name": "stdout",
     "output_type": "stream",
     "text": [
      "La population mondiale concidéré comme etant en sous nutrition à augmenté de 0.034% entre 2017 et 2018\n"
     ]
    }
   ],
   "source": [
    "difference_sn_2017_2018 = round(proportion_pop_2018 - proportion_pop_2017, 3)\n",
    "print(f'La population mondiale concidéré comme etant en sous nutrition à augmenté de {difference_sn_2017_2018}% entre 2017 et 2018')"
   ]
  },
  {
   "cell_type": "code",
   "execution_count": 124,
   "id": "aac183a5-31db-4279-9866-17dde6a54d99",
   "metadata": {},
   "outputs": [
    {
     "name": "stdout",
     "output_type": "stream",
     "text": [
      "7.1096914793284585 7.081713923027183 7.097118203283074 7.131093176274328\n"
     ]
    }
   ],
   "source": [
    "print(proportion_pop_2015, proportion_pop_2016, proportion_pop_2017, proportion_pop_2018)"
   ]
  },
  {
   "cell_type": "code",
   "execution_count": 125,
   "id": "e7a158a5-d024-4d5e-9de4-bf150c1c3a50",
   "metadata": {},
   "outputs": [
    {
     "data": {
      "image/png": "[encoded data removed]",
      "text/plain": [
       "<Figure size 640x480 with 1 Axes>"
      ]
     },
     "metadata": {},
     "output_type": "display_data"
    }
   ],
   "source": [
    "# define data values\n",
    "x = 2015, 2016, 2017, 2018   # X-axis points\n",
    "y = proportion_pop_2015, proportion_pop_2016, proportion_pop_2017, proportion_pop_2018  # Y-axis points\n",
    "\n",
    "#plt.xlabel(\"Année\")  # add X-axis label\n",
    "plt.ylabel(\"% de la population en état de sous-nutrition\")  # add Y-axis label\n",
    "plt.title(\"la population en état de sous nutrition dans le monde entre 2015 et 2018\")  # add title\n",
    "plt.savefig('evolution pop')\n",
    "    \n",
    "plt.plot(x, y)  \n",
    "plt.show()"
   ]
  },
  {
   "cell_type": "code",
   "execution_count": 126,
   "id": "2239dd1a-024d-4fe8-b465-20a7d4f970a6",
   "metadata": {},
   "outputs": [
    {
     "data": {
      "text/html": [
       "<img src=\"https://lafaimexpliquee.org/La_faim_expliquee/Faits_et_chiffres_files/Figure2_22_1.jpg\" width=\"750\"/>"
      ],
      "text/plain": [
       "<IPython.core.display.Image object>"
      ]
     },
     "execution_count": 126,
     "metadata": {},
     "output_type": "execute_result"
    }
   ],
   "source": [
    "from IPython.display import Image\n",
    "Image(url='https://lafaimexpliquee.org/La_faim_expliquee/Faits_et_chiffres_files/Figure2_22_1.jpg', width=750)"
   ]
  },
  {
   "cell_type": "markdown",
   "id": "6c4201b5-733a-4164-a7fb-ce57393cae64",
   "metadata": {
    "tags": []
   },
   "source": [
    "### Part de la disoponibilité en ethiopie "
   ]
  },
  {
   "cell_type": "code",
   "execution_count": 127,
   "id": "c3c2327d-3599-46b1-b2b1-528b2e290acf",
   "metadata": {},
   "outputs": [
    {
     "data": {
      "text/html": [
       "<div>\n",
       "<style scoped>\n",
       "    .dataframe tbody tr th:only-of-type {\n",
       "        vertical-align: middle;\n",
       "    }\n",
       "\n",
       "    .dataframe tbody tr th {\n",
       "        vertical-align: top;\n",
       "    }\n",
       "\n",
       "    .dataframe thead th {\n",
       "        text-align: right;\n",
       "    }\n",
       "</style>\n",
       "<table border=\"1\" class=\"dataframe\">\n",
       "  <thead>\n",
       "    <tr style=\"text-align: right;\">\n",
       "      <th></th>\n",
       "      <th>Zone</th>\n",
       "      <th>Aliments pour animaux</th>\n",
       "      <th>Autres Utilisations</th>\n",
       "      <th>Disponibilité alimentaire (Kcal/personne/jour)</th>\n",
       "      <th>Disponibilité alimentaire en quantité (kg/personne/an)</th>\n",
       "      <th>Disponibilité de matière grasse en quantité (g/personne/jour)</th>\n",
       "      <th>Disponibilité de protéines en quantité (g/personne/jour)</th>\n",
       "      <th>Disponibilité intérieure</th>\n",
       "      <th>Exportations - Quantité</th>\n",
       "      <th>Importations - Quantité</th>\n",
       "      <th>Nourriture</th>\n",
       "      <th>Pertes</th>\n",
       "      <th>Production</th>\n",
       "      <th>Semences</th>\n",
       "      <th>Traitement</th>\n",
       "      <th>Variation de stock</th>\n",
       "    </tr>\n",
       "  </thead>\n",
       "  <tbody>\n",
       "    <tr>\n",
       "      <th>53</th>\n",
       "      <td>France</td>\n",
       "      <td>22769.0</td>\n",
       "      <td>14405.0</td>\n",
       "      <td>3482.0</td>\n",
       "      <td>937.43</td>\n",
       "      <td>159.15</td>\n",
       "      <td>110.5</td>\n",
       "      <td>146905.0</td>\n",
       "      <td>65945.0</td>\n",
       "      <td>33769.0</td>\n",
       "      <td>60272.0</td>\n",
       "      <td>3261.0</td>\n",
       "      <td>178136.0</td>\n",
       "      <td>1648.0</td>\n",
       "      <td>44966.0</td>\n",
       "      <td>944.0</td>\n",
       "    </tr>\n",
       "  </tbody>\n",
       "</table>\n",
       "</div>"
      ],
      "text/plain": [
       "      Zone  Aliments pour animaux  Autres Utilisations  \\\n",
       "53  France                22769.0              14405.0   \n",
       "\n",
       "    Disponibilité alimentaire (Kcal/personne/jour)  \\\n",
       "53                                          3482.0   \n",
       "\n",
       "    Disponibilité alimentaire en quantité (kg/personne/an)  \\\n",
       "53                                             937.43        \n",
       "\n",
       "    Disponibilité de matière grasse en quantité (g/personne/jour)  \\\n",
       "53                                             159.15               \n",
       "\n",
       "    Disponibilité de protéines en quantité (g/personne/jour)  \\\n",
       "53                                              110.5          \n",
       "\n",
       "    Disponibilité intérieure  Exportations - Quantité  \\\n",
       "53                  146905.0                  65945.0   \n",
       "\n",
       "    Importations - Quantité  Nourriture  Pertes  Production  Semences  \\\n",
       "53                  33769.0     60272.0  3261.0    178136.0    1648.0   \n",
       "\n",
       "    Traitement  Variation de stock  \n",
       "53     44966.0               944.0  "
      ]
     },
     "execution_count": 127,
     "metadata": {},
     "output_type": "execute_result"
    }
   ],
   "source": [
    "find_substring_on_table(zone_data_alimentaire, 'france')"
   ]
  },
  {
   "cell_type": "code",
   "execution_count": 128,
   "id": "43752e7a-1098-4ba7-83aa-371b4aac56b6",
   "metadata": {},
   "outputs": [
    {
     "data": {
      "text/html": [
       "<div>\n",
       "<style scoped>\n",
       "    .dataframe tbody tr th:only-of-type {\n",
       "        vertical-align: middle;\n",
       "    }\n",
       "\n",
       "    .dataframe tbody tr th {\n",
       "        vertical-align: top;\n",
       "    }\n",
       "\n",
       "    .dataframe thead th {\n",
       "        text-align: right;\n",
       "    }\n",
       "</style>\n",
       "<table border=\"1\" class=\"dataframe\">\n",
       "  <thead>\n",
       "    <tr style=\"text-align: right;\">\n",
       "      <th></th>\n",
       "      <th>Zone</th>\n",
       "      <th>Aliments pour animaux</th>\n",
       "      <th>Autres Utilisations</th>\n",
       "      <th>Disponibilité alimentaire (Kcal/personne/jour)</th>\n",
       "      <th>Disponibilité alimentaire en quantité (kg/personne/an)</th>\n",
       "      <th>Disponibilité de matière grasse en quantité (g/personne/jour)</th>\n",
       "      <th>Disponibilité de protéines en quantité (g/personne/jour)</th>\n",
       "      <th>Disponibilité intérieure</th>\n",
       "      <th>Exportations - Quantité</th>\n",
       "      <th>Importations - Quantité</th>\n",
       "      <th>Nourriture</th>\n",
       "      <th>Pertes</th>\n",
       "      <th>Production</th>\n",
       "      <th>Semences</th>\n",
       "      <th>Traitement</th>\n",
       "      <th>Variation de stock</th>\n",
       "    </tr>\n",
       "  </thead>\n",
       "  <tbody>\n",
       "    <tr>\n",
       "      <th>172</th>\n",
       "      <td>Éthiopie</td>\n",
       "      <td>685.0</td>\n",
       "      <td>3641.0</td>\n",
       "      <td>2129.0</td>\n",
       "      <td>354.55</td>\n",
       "      <td>25.89</td>\n",
       "      <td>60.39</td>\n",
       "      <td>44014.0</td>\n",
       "      <td>941.0</td>\n",
       "      <td>1711.0</td>\n",
       "      <td>33361.0</td>\n",
       "      <td>2256.0</td>\n",
       "      <td>46102.0</td>\n",
       "      <td>640.0</td>\n",
       "      <td>3443.0</td>\n",
       "      <td>-2857.0</td>\n",
       "    </tr>\n",
       "  </tbody>\n",
       "</table>\n",
       "</div>"
      ],
      "text/plain": [
       "         Zone  Aliments pour animaux  Autres Utilisations  \\\n",
       "172  Éthiopie                  685.0               3641.0   \n",
       "\n",
       "     Disponibilité alimentaire (Kcal/personne/jour)  \\\n",
       "172                                          2129.0   \n",
       "\n",
       "     Disponibilité alimentaire en quantité (kg/personne/an)  \\\n",
       "172                                             354.55        \n",
       "\n",
       "     Disponibilité de matière grasse en quantité (g/personne/jour)  \\\n",
       "172                                              25.89               \n",
       "\n",
       "     Disponibilité de protéines en quantité (g/personne/jour)  \\\n",
       "172                                              60.39          \n",
       "\n",
       "     Disponibilité intérieure  Exportations - Quantité  \\\n",
       "172                   44014.0                    941.0   \n",
       "\n",
       "     Importations - Quantité  Nourriture  Pertes  Production  Semences  \\\n",
       "172                   1711.0     33361.0  2256.0     46102.0     640.0   \n",
       "\n",
       "     Traitement  Variation de stock  \n",
       "172      3443.0             -2857.0  "
      ]
     },
     "execution_count": 128,
     "metadata": {},
     "output_type": "execute_result"
    }
   ],
   "source": [
    "zone_data_alimentaire_ethiopie = zone_data_alimentaire.iloc[[172]]\n",
    "zone_data_alimentaire_ethiopie"
   ]
  },
  {
   "cell_type": "code",
   "execution_count": 129,
   "id": "a32c8ee3-3bc3-4ace-8eaf-ac8f409643e9",
   "metadata": {},
   "outputs": [
    {
     "name": "stdout",
     "output_type": "stream",
     "text": [
      "la disponibilité intérieur totale est de: 44014.0\n"
     ]
    }
   ],
   "source": [
    "disponibilite_int_totale_ethiopie = zone_data_alimentaire_ethiopie['Disponibilité intérieure'].sum()\n",
    "print(f\"la disponibilité intérieur totale est de: {disponibilite_int_totale_ethiopie}\")"
   ]
  },
  {
   "cell_type": "code",
   "execution_count": 130,
   "id": "7cffc0ac-b091-4b70-adbb-a6ef990076ec",
   "metadata": {},
   "outputs": [
    {
     "name": "stdout",
     "output_type": "stream",
     "text": [
      "la disponibilité pour l'alimentation animale est de: 685.0\n"
     ]
    }
   ],
   "source": [
    "disponibilite_animale_ethiopie = zone_data_alimentaire_ethiopie['Aliments pour animaux'].sum()\n",
    "print(f\"la disponibilité pour l'alimentation animale est de: {disponibilite_animale_ethiopie}\")"
   ]
  },
  {
   "cell_type": "code",
   "execution_count": 131,
   "id": "9f4fd066-19c6-40bd-85e4-5191f3face49",
   "metadata": {},
   "outputs": [
    {
     "name": "stdout",
     "output_type": "stream",
     "text": [
      "la part attribuée pour l'alimentation animale est de: 1.56%\n"
     ]
    }
   ],
   "source": [
    "calc_part_animale_ethiopie = round(disponibilite_animale_ethiopie * 100 / disponibilite_int_totale_ethiopie,2)\n",
    "print(f\"la part attribuée pour l'alimentation animale est de: {calc_part_animale_ethiopie}%\")"
   ]
  },
  {
   "cell_type": "code",
   "execution_count": 132,
   "id": "4d6c2071-7198-4cfd-8e62-50a4a64395dd",
   "metadata": {},
   "outputs": [
    {
     "data": {
      "text/plain": [
       "2256.0"
      ]
     },
     "execution_count": 132,
     "metadata": {},
     "output_type": "execute_result"
    }
   ],
   "source": [
    "perte_ethiopie = zone_data_alimentaire_ethiopie['Pertes'].sum()\n",
    "perte_ethiopie"
   ]
  },
  {
   "cell_type": "code",
   "execution_count": 133,
   "id": "e1dfd9b4-2eea-48f1-8aa0-791eec5cfa8e",
   "metadata": {},
   "outputs": [
    {
     "name": "stdout",
     "output_type": "stream",
     "text": [
      "la part perdue est de: 5.13%\n"
     ]
    }
   ],
   "source": [
    "calc_perte_ethiopie = round(perte_ethiopie * 100 / disponibilite_int_totale_ethiopie,2)\n",
    "print(f\"la part perdue est de: {calc_perte_ethiopie}%\")"
   ]
  },
  {
   "cell_type": "code",
   "execution_count": 134,
   "id": "55bc8f17-7fc1-423b-8272-906f56ee273a",
   "metadata": {},
   "outputs": [
    {
     "data": {
      "text/plain": [
       "33361.0"
      ]
     },
     "execution_count": 134,
     "metadata": {},
     "output_type": "execute_result"
    }
   ],
   "source": [
    "dispo_alimentaire_humain_ethiopie = zone_data_alimentaire_ethiopie['Nourriture'].sum()\n",
    "dispo_alimentaire_humain_ethiopie"
   ]
  },
  {
   "cell_type": "code",
   "execution_count": 135,
   "id": "80e2ac0b-0509-4c0b-ad4e-40a115383944",
   "metadata": {},
   "outputs": [
    {
     "name": "stdout",
     "output_type": "stream",
     "text": [
      "La part attibuée pour l'alimentation humaine est de 75.8 %\n"
     ]
    }
   ],
   "source": [
    "calc_part_humain_ethiopie = round(dispo_alimentaire_humain_ethiopie * 100 / disponibilite_int_totale_ethiopie,2)\n",
    "print(f\"La part attibuée pour l'alimentation humaine est de {calc_part_humain_ethiopie} %\")"
   ]
  },
  {
   "cell_type": "code",
   "execution_count": 136,
   "id": "53d317d8-0215-4e63-8acd-ae07725654d1",
   "metadata": {},
   "outputs": [
    {
     "data": {
      "text/plain": [
       "640.0"
      ]
     },
     "execution_count": 136,
     "metadata": {},
     "output_type": "execute_result"
    }
   ],
   "source": [
    "dispo_semences_ethiopie = zone_data_alimentaire_ethiopie['Semences'].sum() \n",
    "dispo_semences_ethiopie"
   ]
  },
  {
   "cell_type": "code",
   "execution_count": 137,
   "id": "4454bdd9-6f00-44af-a986-8ae7a44bc31d",
   "metadata": {},
   "outputs": [
    {
     "name": "stdout",
     "output_type": "stream",
     "text": [
      "La part attibuée pour la semence est de 1.45 %\n"
     ]
    }
   ],
   "source": [
    "calc_part_semence_ethiopie = round(dispo_semences_ethiopie * 100 / disponibilite_int_totale_ethiopie,2)\n",
    "print(f\"La part attibuée pour la semence est de {calc_part_semence_ethiopie} %\")"
   ]
  },
  {
   "cell_type": "code",
   "execution_count": 138,
   "id": "f11b99f1-1536-4591-80ef-0515b79a69ae",
   "metadata": {},
   "outputs": [
    {
     "data": {
      "text/plain": [
       "3443.0"
      ]
     },
     "execution_count": 138,
     "metadata": {},
     "output_type": "execute_result"
    }
   ],
   "source": [
    "dispo_traitement_ethiopie = zone_data_alimentaire_ethiopie['Traitement'].sum() \n",
    "dispo_traitement_ethiopie"
   ]
  },
  {
   "cell_type": "code",
   "execution_count": 139,
   "id": "89cdae1e-c360-4424-9b26-613f63e035d3",
   "metadata": {},
   "outputs": [
    {
     "name": "stdout",
     "output_type": "stream",
     "text": [
      "La part attibuée pour le traitement est de 7.82 %\n"
     ]
    }
   ],
   "source": [
    "calc_part_traitement_ethiopie = round(dispo_traitement_ethiopie * 100 / disponibilite_int_totale_ethiopie,2)\n",
    "print(f\"La part attibuée pour le traitement est de {calc_part_traitement_ethiopie} %\")"
   ]
  },
  {
   "cell_type": "code",
   "execution_count": 140,
   "id": "4b46c91f-91ff-4e64-9e44-fe802be95267",
   "metadata": {},
   "outputs": [
    {
     "data": {
      "text/plain": [
       "3641.0"
      ]
     },
     "execution_count": 140,
     "metadata": {},
     "output_type": "execute_result"
    }
   ],
   "source": [
    "dispo_autre_utilisation_ethiopie = zone_data_alimentaire_ethiopie['Autres Utilisations'].sum() \n",
    "dispo_autre_utilisation_ethiopie"
   ]
  },
  {
   "cell_type": "code",
   "execution_count": 141,
   "id": "6418363e-6263-4d1b-9bf9-f836de2cd99b",
   "metadata": {},
   "outputs": [
    {
     "name": "stdout",
     "output_type": "stream",
     "text": [
      "La part attibuée pour lees autres utilisation est de 8.27 %\n"
     ]
    }
   ],
   "source": [
    "calc_part_autre_utilisation_ethiopie = round(dispo_autre_utilisation_ethiopie * 100 / disponibilite_int_totale_ethiopie,2)\n",
    "print(f\"La part attibuée pour lees autres utilisation est de {calc_part_autre_utilisation_ethiopie} %\")"
   ]
  },
  {
   "cell_type": "code",
   "execution_count": 142,
   "id": "1c909f22-f0bd-4f32-ac71-e8969a785955",
   "metadata": {},
   "outputs": [
    {
     "name": "stdout",
     "output_type": "stream",
     "text": [
      "La disponibilité totale est de: 100.0 % \n",
      "Nous avons bien le bon resultat car nous trouvons 100% de la disponibilité totale.\n"
     ]
    }
   ],
   "source": [
    "calc_utilisation_total_ethiopie = round(calc_part_animale_ethiopie + calc_perte_ethiopie + calc_part_humain_ethiopie + calc_part_semence_ethiopie + calc_part_traitement_ethiopie + calc_part_autre_utilisation_ethiopie,1)\n",
    "print(f\"La disponibilité totale est de: {calc_utilisation_total_ethiopie} % \\nNous avons bien le bon resultat car nous trouvons 100% de la disponibilité totale.\")"
   ]
  },
  {
   "cell_type": "markdown",
   "id": "3872dd80-4005-485f-b7d4-637bcfcefd31",
   "metadata": {
    "tags": []
   },
   "source": [
    "### Part de disponibilité au Gabon"
   ]
  },
  {
   "cell_type": "code",
   "execution_count": 143,
   "id": "f750a74f-8be3-4ba2-8f9a-00d23f805eee",
   "metadata": {},
   "outputs": [
    {
     "data": {
      "text/html": [
       "<div>\n",
       "<style scoped>\n",
       "    .dataframe tbody tr th:only-of-type {\n",
       "        vertical-align: middle;\n",
       "    }\n",
       "\n",
       "    .dataframe tbody tr th {\n",
       "        vertical-align: top;\n",
       "    }\n",
       "\n",
       "    .dataframe thead th {\n",
       "        text-align: right;\n",
       "    }\n",
       "</style>\n",
       "<table border=\"1\" class=\"dataframe\">\n",
       "  <thead>\n",
       "    <tr style=\"text-align: right;\">\n",
       "      <th></th>\n",
       "      <th>Zone</th>\n",
       "      <th>Aliments pour animaux</th>\n",
       "      <th>Autres Utilisations</th>\n",
       "      <th>Disponibilité alimentaire (Kcal/personne/jour)</th>\n",
       "      <th>Disponibilité alimentaire en quantité (kg/personne/an)</th>\n",
       "      <th>Disponibilité de matière grasse en quantité (g/personne/jour)</th>\n",
       "      <th>Disponibilité de protéines en quantité (g/personne/jour)</th>\n",
       "      <th>Disponibilité intérieure</th>\n",
       "      <th>Exportations - Quantité</th>\n",
       "      <th>Importations - Quantité</th>\n",
       "      <th>Nourriture</th>\n",
       "      <th>Pertes</th>\n",
       "      <th>Production</th>\n",
       "      <th>Semences</th>\n",
       "      <th>Traitement</th>\n",
       "      <th>Variation de stock</th>\n",
       "    </tr>\n",
       "  </thead>\n",
       "  <tbody>\n",
       "    <tr>\n",
       "      <th>55</th>\n",
       "      <td>Gabon</td>\n",
       "      <td>251.0</td>\n",
       "      <td>47.0</td>\n",
       "      <td>2826.0</td>\n",
       "      <td>760.93</td>\n",
       "      <td>59.1</td>\n",
       "      <td>86.28</td>\n",
       "      <td>2047.0</td>\n",
       "      <td>1.0</td>\n",
       "      <td>561.0</td>\n",
       "      <td>1266.0</td>\n",
       "      <td>223.0</td>\n",
       "      <td>1521.0</td>\n",
       "      <td>26.0</td>\n",
       "      <td>233.0</td>\n",
       "      <td>-32.0</td>\n",
       "    </tr>\n",
       "  </tbody>\n",
       "</table>\n",
       "</div>"
      ],
      "text/plain": [
       "     Zone  Aliments pour animaux  Autres Utilisations  \\\n",
       "55  Gabon                  251.0                 47.0   \n",
       "\n",
       "    Disponibilité alimentaire (Kcal/personne/jour)  \\\n",
       "55                                          2826.0   \n",
       "\n",
       "    Disponibilité alimentaire en quantité (kg/personne/an)  \\\n",
       "55                                             760.93        \n",
       "\n",
       "    Disponibilité de matière grasse en quantité (g/personne/jour)  \\\n",
       "55                                               59.1               \n",
       "\n",
       "    Disponibilité de protéines en quantité (g/personne/jour)  \\\n",
       "55                                              86.28          \n",
       "\n",
       "    Disponibilité intérieure  Exportations - Quantité  \\\n",
       "55                    2047.0                      1.0   \n",
       "\n",
       "    Importations - Quantité  Nourriture  Pertes  Production  Semences  \\\n",
       "55                    561.0      1266.0   223.0      1521.0      26.0   \n",
       "\n",
       "    Traitement  Variation de stock  \n",
       "55       233.0               -32.0  "
      ]
     },
     "execution_count": 143,
     "metadata": {},
     "output_type": "execute_result"
    }
   ],
   "source": [
    "zone_data_alimentaire_gabon = zone_data_alimentaire.iloc[[55]]\n",
    "zone_data_alimentaire_gabon"
   ]
  },
  {
   "cell_type": "code",
   "execution_count": 144,
   "id": "eb020475-6828-479c-8ef9-89b97d6ec1f8",
   "metadata": {},
   "outputs": [
    {
     "name": "stdout",
     "output_type": "stream",
     "text": [
      "la disponibilité intérieur totale est de: 2047.0\n"
     ]
    }
   ],
   "source": [
    "disponibilite_int_totale_gabon = zone_data_alimentaire_gabon['Disponibilité intérieure'].sum()\n",
    "print(f\"la disponibilité intérieur totale est de: {disponibilite_int_totale_gabon}\")"
   ]
  },
  {
   "cell_type": "code",
   "execution_count": 145,
   "id": "07e79c1d-272b-4341-b410-57e0df1837d6",
   "metadata": {},
   "outputs": [
    {
     "name": "stdout",
     "output_type": "stream",
     "text": [
      "la disponibilité pour l'alimentation animale est de: 251.0\n"
     ]
    }
   ],
   "source": [
    "disponibilite_animale_gabon = zone_data_alimentaire_gabon['Aliments pour animaux'].sum()\n",
    "print(f\"la disponibilité pour l'alimentation animale est de: {disponibilite_animale_gabon}\")"
   ]
  },
  {
   "cell_type": "code",
   "execution_count": 146,
   "id": "a62541ac-33a2-422b-b6c9-c26c74749938",
   "metadata": {},
   "outputs": [
    {
     "name": "stdout",
     "output_type": "stream",
     "text": [
      "la part attribuée pour l'alimentation animale est de: 12.26%\n"
     ]
    }
   ],
   "source": [
    "calc_part_animale_gabon = round(disponibilite_animale_gabon * 100 / disponibilite_int_totale_gabon,2)\n",
    "print(f\"la part attribuée pour l'alimentation animale est de: {calc_part_animale_gabon}%\")"
   ]
  },
  {
   "cell_type": "code",
   "execution_count": 147,
   "id": "077355c2-d38f-45f7-aaa4-56d4ed7f2361",
   "metadata": {},
   "outputs": [
    {
     "data": {
      "text/plain": [
       "223.0"
      ]
     },
     "execution_count": 147,
     "metadata": {},
     "output_type": "execute_result"
    }
   ],
   "source": [
    "perte_gabon = zone_data_alimentaire_gabon['Pertes'].sum()\n",
    "perte_gabon"
   ]
  },
  {
   "cell_type": "code",
   "execution_count": 148,
   "id": "013a352a-a668-4e45-989e-11be0974c147",
   "metadata": {},
   "outputs": [
    {
     "name": "stdout",
     "output_type": "stream",
     "text": [
      "la part prdue est de: 10.89%\n"
     ]
    }
   ],
   "source": [
    "calc_perte_gabon = round(perte_gabon * 100 / disponibilite_int_totale_gabon,2)\n",
    "print(f\"la part prdue est de: {calc_perte_gabon}%\")"
   ]
  },
  {
   "cell_type": "code",
   "execution_count": 149,
   "id": "1121051f-726b-4ce4-bcc1-5e03e17b39ff",
   "metadata": {},
   "outputs": [
    {
     "data": {
      "text/plain": [
       "1266.0"
      ]
     },
     "execution_count": 149,
     "metadata": {},
     "output_type": "execute_result"
    }
   ],
   "source": [
    "dispo_alimentaire_humain_gabon = zone_data_alimentaire_gabon['Nourriture'].sum()\n",
    "dispo_alimentaire_humain_gabon"
   ]
  },
  {
   "cell_type": "code",
   "execution_count": 150,
   "id": "7d94097c-8c33-45f1-87b4-52ec0d73438d",
   "metadata": {},
   "outputs": [
    {
     "name": "stdout",
     "output_type": "stream",
     "text": [
      "La part attibuée pour l'alimentation humaine est de 61.85 %\n"
     ]
    }
   ],
   "source": [
    "calc_part_humain_gabon = round(dispo_alimentaire_humain_gabon * 100 / disponibilite_int_totale_gabon,2)\n",
    "print(f\"La part attibuée pour l'alimentation humaine est de {calc_part_humain_gabon} %\")"
   ]
  },
  {
   "cell_type": "code",
   "execution_count": 151,
   "id": "3074eab0-ed58-4877-abfd-0f0f291d2992",
   "metadata": {},
   "outputs": [
    {
     "data": {
      "text/plain": [
       "26.0"
      ]
     },
     "execution_count": 151,
     "metadata": {},
     "output_type": "execute_result"
    }
   ],
   "source": [
    "dispo_semences_gabon = zone_data_alimentaire_gabon['Semences'].sum() \n",
    "dispo_semences_gabon"
   ]
  },
  {
   "cell_type": "code",
   "execution_count": 152,
   "id": "2f8a2504-37a5-455a-8c06-3d16227258d4",
   "metadata": {},
   "outputs": [
    {
     "name": "stdout",
     "output_type": "stream",
     "text": [
      "La part attibuée pour la semence est de 1.27 %\n"
     ]
    }
   ],
   "source": [
    "calc_part_semence_gabon = round(dispo_semences_gabon * 100 / disponibilite_int_totale_gabon,2)\n",
    "print(f\"La part attibuée pour la semence est de {calc_part_semence_gabon} %\")"
   ]
  },
  {
   "cell_type": "code",
   "execution_count": 153,
   "id": "1faae11e-486b-4e6e-a61d-da44caebf2bb",
   "metadata": {},
   "outputs": [
    {
     "data": {
      "text/plain": [
       "233.0"
      ]
     },
     "execution_count": 153,
     "metadata": {},
     "output_type": "execute_result"
    }
   ],
   "source": [
    "dispo_traitement_gabon = zone_data_alimentaire_gabon['Traitement'].sum() \n",
    "dispo_traitement_gabon"
   ]
  },
  {
   "cell_type": "code",
   "execution_count": 154,
   "id": "b2781e4e-9f5f-4d8d-9bee-fbe9691d79a3",
   "metadata": {},
   "outputs": [
    {
     "name": "stdout",
     "output_type": "stream",
     "text": [
      "La part attibuée pour le traitement est de 11.38 %\n"
     ]
    }
   ],
   "source": [
    "calc_part_traitement_gabon = round(dispo_traitement_gabon * 100 / disponibilite_int_totale_gabon,2)\n",
    "print(f\"La part attibuée pour le traitement est de {calc_part_traitement_gabon} %\")"
   ]
  },
  {
   "cell_type": "code",
   "execution_count": 155,
   "id": "32b39576-0f50-4075-9b07-2f32c00be961",
   "metadata": {},
   "outputs": [
    {
     "data": {
      "text/plain": [
       "47.0"
      ]
     },
     "execution_count": 155,
     "metadata": {},
     "output_type": "execute_result"
    }
   ],
   "source": [
    "dispo_autre_utilisation_gabon = zone_data_alimentaire_gabon['Autres Utilisations'].sum() \n",
    "dispo_autre_utilisation_gabon"
   ]
  },
  {
   "cell_type": "code",
   "execution_count": 156,
   "id": "64612b0e-23e7-47c4-aaee-5c6afd867f19",
   "metadata": {},
   "outputs": [
    {
     "name": "stdout",
     "output_type": "stream",
     "text": [
      "La part attibuée pour lees autres utilisation est de 2.3 %\n"
     ]
    }
   ],
   "source": [
    "calc_part_autre_utilisation_gabon = round(dispo_autre_utilisation_gabon * 100 / disponibilite_int_totale_gabon,2)\n",
    "print(f\"La part attibuée pour lees autres utilisation est de {calc_part_autre_utilisation_gabon} %\")"
   ]
  },
  {
   "cell_type": "code",
   "execution_count": 157,
   "id": "58efcda8-f06f-4993-98c0-c81d71b9553e",
   "metadata": {},
   "outputs": [
    {
     "name": "stdout",
     "output_type": "stream",
     "text": [
      "La disponibilité totale est de: 100.0 % \n",
      "Nous avons bien le bon resultat car nous trouvons 100% de la disponibilité totale.\n"
     ]
    }
   ],
   "source": [
    "calc_utilisation_total_gabon = round(calc_part_animale_gabon + calc_perte_gabon + calc_part_humain_gabon + calc_part_semence_gabon + calc_part_traitement_gabon + calc_part_autre_utilisation_gabon,0)\n",
    "print(f\"La disponibilité totale est de: {calc_utilisation_total_gabon} % \\nNous avons bien le bon resultat car nous trouvons 100% de la disponibilité totale.\")"
   ]
  },
  {
   "cell_type": "markdown",
   "id": "a62aa335-f884-4838-b947-938da1ddd363",
   "metadata": {
    "tags": []
   },
   "source": [
    "### Part de disponibilité en France"
   ]
  },
  {
   "cell_type": "code",
   "execution_count": 158,
   "id": "330a6341-c0dd-4935-b902-3b3571340c3d",
   "metadata": {},
   "outputs": [
    {
     "data": {
      "text/html": [
       "<div>\n",
       "<style scoped>\n",
       "    .dataframe tbody tr th:only-of-type {\n",
       "        vertical-align: middle;\n",
       "    }\n",
       "\n",
       "    .dataframe tbody tr th {\n",
       "        vertical-align: top;\n",
       "    }\n",
       "\n",
       "    .dataframe thead th {\n",
       "        text-align: right;\n",
       "    }\n",
       "</style>\n",
       "<table border=\"1\" class=\"dataframe\">\n",
       "  <thead>\n",
       "    <tr style=\"text-align: right;\">\n",
       "      <th></th>\n",
       "      <th>Zone</th>\n",
       "      <th>Aliments pour animaux</th>\n",
       "      <th>Autres Utilisations</th>\n",
       "      <th>Disponibilité alimentaire (Kcal/personne/jour)</th>\n",
       "      <th>Disponibilité alimentaire en quantité (kg/personne/an)</th>\n",
       "      <th>Disponibilité de matière grasse en quantité (g/personne/jour)</th>\n",
       "      <th>Disponibilité de protéines en quantité (g/personne/jour)</th>\n",
       "      <th>Disponibilité intérieure</th>\n",
       "      <th>Exportations - Quantité</th>\n",
       "      <th>Importations - Quantité</th>\n",
       "      <th>Nourriture</th>\n",
       "      <th>Pertes</th>\n",
       "      <th>Production</th>\n",
       "      <th>Semences</th>\n",
       "      <th>Traitement</th>\n",
       "      <th>Variation de stock</th>\n",
       "    </tr>\n",
       "  </thead>\n",
       "  <tbody>\n",
       "    <tr>\n",
       "      <th>53</th>\n",
       "      <td>France</td>\n",
       "      <td>22769.0</td>\n",
       "      <td>14405.0</td>\n",
       "      <td>3482.0</td>\n",
       "      <td>937.43</td>\n",
       "      <td>159.15</td>\n",
       "      <td>110.5</td>\n",
       "      <td>146905.0</td>\n",
       "      <td>65945.0</td>\n",
       "      <td>33769.0</td>\n",
       "      <td>60272.0</td>\n",
       "      <td>3261.0</td>\n",
       "      <td>178136.0</td>\n",
       "      <td>1648.0</td>\n",
       "      <td>44966.0</td>\n",
       "      <td>944.0</td>\n",
       "    </tr>\n",
       "  </tbody>\n",
       "</table>\n",
       "</div>"
      ],
      "text/plain": [
       "      Zone  Aliments pour animaux  Autres Utilisations  \\\n",
       "53  France                22769.0              14405.0   \n",
       "\n",
       "    Disponibilité alimentaire (Kcal/personne/jour)  \\\n",
       "53                                          3482.0   \n",
       "\n",
       "    Disponibilité alimentaire en quantité (kg/personne/an)  \\\n",
       "53                                             937.43        \n",
       "\n",
       "    Disponibilité de matière grasse en quantité (g/personne/jour)  \\\n",
       "53                                             159.15               \n",
       "\n",
       "    Disponibilité de protéines en quantité (g/personne/jour)  \\\n",
       "53                                              110.5          \n",
       "\n",
       "    Disponibilité intérieure  Exportations - Quantité  \\\n",
       "53                  146905.0                  65945.0   \n",
       "\n",
       "    Importations - Quantité  Nourriture  Pertes  Production  Semences  \\\n",
       "53                  33769.0     60272.0  3261.0    178136.0    1648.0   \n",
       "\n",
       "    Traitement  Variation de stock  \n",
       "53     44966.0               944.0  "
      ]
     },
     "execution_count": 158,
     "metadata": {},
     "output_type": "execute_result"
    }
   ],
   "source": [
    "zone_data_alimentaire_france = zone_data_alimentaire.iloc[[53]]\n",
    "zone_data_alimentaire_france"
   ]
  },
  {
   "cell_type": "code",
   "execution_count": 159,
   "id": "bcc74342-cda3-4a4d-8cb8-52d3c9376385",
   "metadata": {},
   "outputs": [
    {
     "data": {
      "text/plain": [
       "146905.0"
      ]
     },
     "execution_count": 159,
     "metadata": {},
     "output_type": "execute_result"
    }
   ],
   "source": [
    "disponibilite_int_totale_france = zone_data_alimentaire_france['Disponibilité intérieure'].sum()\n",
    "disponibilite_int_totale_france"
   ]
  },
  {
   "cell_type": "code",
   "execution_count": 160,
   "id": "770ff066-606b-4a8b-92f9-2c451ef5fe09",
   "metadata": {},
   "outputs": [
    {
     "data": {
      "text/plain": [
       "22769.0"
      ]
     },
     "execution_count": 160,
     "metadata": {},
     "output_type": "execute_result"
    }
   ],
   "source": [
    "disponibilite_animale_france = zone_data_alimentaire_france['Aliments pour animaux'].sum()\n",
    "disponibilite_animale_france"
   ]
  },
  {
   "cell_type": "code",
   "execution_count": 161,
   "id": "179905a3-0ac0-4cab-856f-cfa9de5a15f6",
   "metadata": {},
   "outputs": [
    {
     "name": "stdout",
     "output_type": "stream",
     "text": [
      "la part attribuée pour l'alimentation animale est de: 15.5%\n"
     ]
    }
   ],
   "source": [
    "calc_part_animale_france = round(disponibilite_animale_france * 100 / disponibilite_int_totale_france,2)\n",
    "print(f\"la part attribuée pour l'alimentation animale est de: {calc_part_animale_france}%\")"
   ]
  },
  {
   "cell_type": "code",
   "execution_count": 162,
   "id": "25e488bc-3ccf-4da5-be13-aae6ddfe95a3",
   "metadata": {},
   "outputs": [
    {
     "data": {
      "text/plain": [
       "3261.0"
      ]
     },
     "execution_count": 162,
     "metadata": {},
     "output_type": "execute_result"
    }
   ],
   "source": [
    "perte_france = zone_data_alimentaire_france ['Pertes'].sum()\n",
    "perte_france "
   ]
  },
  {
   "cell_type": "code",
   "execution_count": 163,
   "id": "50950bf0-6a41-4f69-9e38-de93a23085be",
   "metadata": {},
   "outputs": [
    {
     "name": "stdout",
     "output_type": "stream",
     "text": [
      "la part prdue est de: 2.22%\n"
     ]
    }
   ],
   "source": [
    "calc_perte_france = round(perte_france * 100 / disponibilite_int_totale_france,2)\n",
    "print(f\"la part prdue est de: {calc_perte_france}%\")"
   ]
  },
  {
   "cell_type": "code",
   "execution_count": 164,
   "id": "b0da660e-1414-46e0-ae6b-8d5d41b2cab3",
   "metadata": {},
   "outputs": [
    {
     "data": {
      "text/plain": [
       "60272.0"
      ]
     },
     "execution_count": 164,
     "metadata": {},
     "output_type": "execute_result"
    }
   ],
   "source": [
    "dispo_alimentaire_humain_france = zone_data_alimentaire_france['Nourriture'].sum()\n",
    "dispo_alimentaire_humain_france"
   ]
  },
  {
   "cell_type": "code",
   "execution_count": 165,
   "id": "0fddd4c5-47cb-4220-8ae7-7e702dd34dcd",
   "metadata": {},
   "outputs": [
    {
     "name": "stdout",
     "output_type": "stream",
     "text": [
      "La part attibuée pour l'alimentation humaine est de 41.03 %\n"
     ]
    }
   ],
   "source": [
    "calc_part_humain_france = round(dispo_alimentaire_humain_france * 100 / disponibilite_int_totale_france,2)\n",
    "print(f\"La part attibuée pour l'alimentation humaine est de {calc_part_humain_france} %\")"
   ]
  },
  {
   "cell_type": "code",
   "execution_count": 166,
   "id": "2615729e-8b97-4598-a64c-1d04645ba5dd",
   "metadata": {},
   "outputs": [
    {
     "data": {
      "text/plain": [
       "1648.0"
      ]
     },
     "execution_count": 166,
     "metadata": {},
     "output_type": "execute_result"
    }
   ],
   "source": [
    "dispo_semences_france = zone_data_alimentaire_france['Semences'].sum() \n",
    "dispo_semences_france"
   ]
  },
  {
   "cell_type": "code",
   "execution_count": 167,
   "id": "69858175-e7e0-46e2-94b2-29521e42dfe1",
   "metadata": {},
   "outputs": [
    {
     "name": "stdout",
     "output_type": "stream",
     "text": [
      "La part attibuée pour la semence est de 1.12 %\n"
     ]
    }
   ],
   "source": [
    "calc_part_semence_france = round(dispo_semences_france * 100 / disponibilite_int_totale_france,2)\n",
    "print(f\"La part attibuée pour la semence est de {calc_part_semence_france} %\")"
   ]
  },
  {
   "cell_type": "code",
   "execution_count": 168,
   "id": "aea099a1-1198-4be6-abbf-f490c78c48df",
   "metadata": {},
   "outputs": [
    {
     "data": {
      "text/plain": [
       "44966.0"
      ]
     },
     "execution_count": 168,
     "metadata": {},
     "output_type": "execute_result"
    }
   ],
   "source": [
    "dispo_traitement_france = zone_data_alimentaire_france['Traitement'].sum() \n",
    "dispo_traitement_france"
   ]
  },
  {
   "cell_type": "code",
   "execution_count": 169,
   "id": "432db232-9c61-4ab3-be03-9ef94df51d59",
   "metadata": {},
   "outputs": [
    {
     "name": "stdout",
     "output_type": "stream",
     "text": [
      "La part attibuée pour le traitement est de 30.61 %\n"
     ]
    }
   ],
   "source": [
    "calc_part_traitement_france = round(dispo_traitement_france * 100 / disponibilite_int_totale_france,2)\n",
    "print(f\"La part attibuée pour le traitement est de {calc_part_traitement_france} %\")"
   ]
  },
  {
   "cell_type": "code",
   "execution_count": 170,
   "id": "005192c1-ed58-494c-9d70-238c8add1b8a",
   "metadata": {},
   "outputs": [
    {
     "data": {
      "text/plain": [
       "14405.0"
      ]
     },
     "execution_count": 170,
     "metadata": {},
     "output_type": "execute_result"
    }
   ],
   "source": [
    "dispo_autre_utilisation_france = zone_data_alimentaire_france['Autres Utilisations'].sum() \n",
    "dispo_autre_utilisation_france"
   ]
  },
  {
   "cell_type": "code",
   "execution_count": 171,
   "id": "7425869c-cb54-40cf-96a0-b3149e20f1d0",
   "metadata": {},
   "outputs": [
    {
     "name": "stdout",
     "output_type": "stream",
     "text": [
      "La part attibuée pour lees autres utilisation est de 9.81 %\n"
     ]
    }
   ],
   "source": [
    "calc_part_autre_utilisation_france = round(dispo_autre_utilisation_france * 100 / disponibilite_int_totale_france,2)\n",
    "print(f\"La part attibuée pour lees autres utilisation est de {calc_part_autre_utilisation_france} %\")"
   ]
  },
  {
   "cell_type": "code",
   "execution_count": 172,
   "id": "409a71c7-685c-4191-b43f-aa2911040c24",
   "metadata": {},
   "outputs": [
    {
     "name": "stdout",
     "output_type": "stream",
     "text": [
      "La disponibilité totale est de: 100.0 % \n",
      "Nous avons bien le bon resultat car nous trouvons 100% de la disponibilité totale.\n"
     ]
    }
   ],
   "source": [
    "calc_utilisation_total_france = round(calc_part_animale_france + calc_perte_france + calc_part_humain_france + calc_part_semence_france + calc_part_traitement_france + calc_part_autre_utilisation_france,0)\n",
    "print(f\"La disponibilité totale est de: {calc_utilisation_total_france} % \\nNous avons bien le bon resultat car nous trouvons 100% de la disponibilité totale.\")"
   ]
  },
  {
   "cell_type": "code",
   "execution_count": 173,
   "id": "ebd3e6fe-51d4-47bf-ae3d-d14393c6140d",
   "metadata": {},
   "outputs": [
    {
     "data": {
      "image/png": "[encoded data removed]",
      "text/plain": [
       "<Figure size 640x480 with 1 Axes>"
      ]
     },
     "metadata": {},
     "output_type": "display_data"
    },
    {
     "data": {
      "image/png": "[encoded data removed]",
      "text/plain": [
       "<Figure size 640x480 with 1 Axes>"
      ]
     },
     "metadata": {},
     "output_type": "display_data"
    },
    {
     "data": {
      "image/png": "[encoded data removed]",
      "text/plain": [
       "<Figure size 640x480 with 1 Axes>"
      ]
     },
     "metadata": {},
     "output_type": "display_data"
    }
   ],
   "source": [
    "#define data for Éthiopie\n",
    "data = [calc_part_animale_ethiopie, calc_perte_ethiopie, calc_part_humain_ethiopie, calc_part_semence_ethiopie, calc_part_traitement_ethiopie, calc_part_autre_utilisation_ethiopie]\n",
    "labels = ['Animales', 'Pertes', 'Humains', 'Semences', 'Traitements', 'Autres utilisations']\n",
    "\n",
    "#define Seaborn color palette to use\n",
    "colors = sns.color_palette('pastel')[0:5]\n",
    "\n",
    "#create pie chart\n",
    "plt.pie(data, labels = labels, colors = colors, autopct='%.0f%%')\n",
    "plt.title(\"Part de disponibilité alimentaire pour l'Éthiopie\",color='r')\n",
    "\n",
    "plt.show()\n",
    "\n",
    "#define data fore Gabon\n",
    "data = [calc_part_animale_gabon, calc_perte_gabon, calc_part_humain_gabon, calc_part_semence_gabon, calc_part_traitement_gabon, calc_part_autre_utilisation_gabon]\n",
    "labels = ['Animales', 'Pertes', 'Humains', 'Semences', 'Traitements', 'Autres utilisations']\n",
    "\n",
    "#define Seaborn color palette to use\n",
    "colors = sns.color_palette('pastel')[0:5]\n",
    "\n",
    "#create pie chart\n",
    "plt.pie(data, labels = labels, colors = colors, autopct='%.0f%%')\n",
    "plt.title(\"Part de disponibilité alimentaire pour le Gabon\",color='b')\n",
    "\n",
    "plt.show()\n",
    "\n",
    "#define data for France\n",
    "data = [calc_part_animale_france, calc_perte_france, calc_part_humain_france, calc_part_semence_france, calc_part_traitement_france, calc_part_autre_utilisation_france]\n",
    "labels = ['Animales', 'Pertes', 'Humains', 'Semences', 'Traitements', 'Autres utilisations']\n",
    "\n",
    "#define Seaborn color palette to use\n",
    "colors = sns.color_palette('pastel')[0:5]\n",
    "\n",
    "#create pie chart\n",
    "plt.pie(data, labels = labels, colors = colors, autopct='%.0f%%')\n",
    "plt.title(\"Part de disponibilité alimentaire pour la France\",color='b')\n",
    "\n",
    "plt.show()"
   ]
  },
  {
   "cell_type": "markdown",
   "id": "491e3f36-17c3-40c2-91ec-e47de7c4bc55",
   "metadata": {
    "tags": []
   },
   "source": [
    "### Conclusion <a class=\"anchor\" id=\"section10\"></a>\n",
    "[Retour au sommaire](#sommaire)"
   ]
  },
  {
   "cell_type": "markdown",
   "id": "12ee638a-b1ff-4063-95b6-c27db8d12a92",
   "metadata": {},
   "source": [
    "Le changement climatique, la COVID-19, les guerres et le manque de coopération sont autant de facteurs qui contribuent à la crise alimentaire mondiale.<br/> Il est important de rappeler que la plupart des personnes sous-alimentées dans le monde vivent dans les pays en développement, où les catastrophes naturelles ont un impact plus important.\n",
    "\n",
    "Au vu des chiffres, il est clair que malgré les améliorations de la sécurité alimentaire dans de nombreuses régions, d'énormes problèmes subsistent.<br/>\n",
    "Par exemple les aides alimentaire ne sont pas bien distribuées: \n",
    "\n",
    "<img src=\"Food_and_Agriculture_Organization_of_the_United_Nations.png\" alt=\"drawing\" width=\"700\"/>\n",
    "\n",
    "Les principales victimes de la faim et de la malnutrition sont les femmes et les enfants.\n",
    "Les chiffres concernant les enfants et les adolescents sous-alimentés sont encore plus alarmants. L'Unicef révèle que chaque jour, près de 6 millions de jeunes de moins de 5 ans meurent de maladies causées par le manque de nourriture.\n"
   ]
  }
 ],
 "metadata": {
  "kernelspec": {
   "display_name": "Python 3 (ipykernel)",
   "language": "python",
   "name": "python3"
  },
  "language_info": {
   "codemirror_mode": {
    "name": "ipython",
    "version": 3
   },
   "file_extension": ".py",
   "mimetype": "text/x-python",
   "name": "python",
   "nbconvert_exporter": "python",
   "pygments_lexer": "ipython3",
   "version": "3.8.10"
  }
 },
 "nbformat": 4,
 "nbformat_minor": 5
}
